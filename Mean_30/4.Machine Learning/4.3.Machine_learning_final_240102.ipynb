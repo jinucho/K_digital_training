{
 "cells": [
  {
   "cell_type": "code",
   "execution_count": 1,
   "id": "a14ce43d-8920-4ea2-b230-bcbf28fc924b",
   "metadata": {
    "tags": []
   },
   "outputs": [],
   "source": [
    "import pandas as pd\n",
    "import numpy as np\n",
    "from sklearn.preprocessing import StandardScaler\n",
    "from collections import Counter\n",
    "from sklearn.model_selection import train_test_split\n",
    "from imblearn.over_sampling import SMOTE\n",
    "from imblearn.under_sampling import RandomUnderSampler\n",
    "import matplotlib.pyplot as plt\n",
    "import warnings\n",
    "warnings.filterwarnings(action='ignore')\n",
    "from sklearn.metrics import roc_auc_score,classification_report, recall_score, f1_score,precision_recall_curve, auc,precision_score\n",
    "import multiprocessing\n",
    "from pycaret.classification import *\n",
    "from xgboost import XGBClassifier,XGBRFClassifier"
   ]
  },
  {
   "cell_type": "code",
   "execution_count": 2,
   "id": "80b26b23-b919-4c07-b12d-12e0f91c6e4f",
   "metadata": {
    "tags": []
   },
   "outputs": [],
   "source": [
    "df = pd.read_csv('Data_preprocessing_v4.csv')"
   ]
  },
  {
   "cell_type": "code",
   "execution_count": 3,
   "id": "4f9954fd-d13d-4ed3-b491-b8654e596036",
   "metadata": {
    "tags": []
   },
   "outputs": [
    {
     "data": {
      "text/plain": [
       "(23107, 20)"
      ]
     },
     "execution_count": 3,
     "metadata": {},
     "output_type": "execute_result"
    }
   ],
   "source": [
    "df.shape"
   ]
  },
  {
   "cell_type": "code",
   "execution_count": 4,
   "id": "c6b8d969-56d8-48cd-9fa2-ba46868d7eef",
   "metadata": {
    "tags": []
   },
   "outputs": [
    {
     "data": {
      "text/html": [
       "<div>\n",
       "<style scoped>\n",
       "    .dataframe tbody tr th:only-of-type {\n",
       "        vertical-align: middle;\n",
       "    }\n",
       "\n",
       "    .dataframe tbody tr th {\n",
       "        vertical-align: top;\n",
       "    }\n",
       "\n",
       "    .dataframe thead th {\n",
       "        text-align: right;\n",
       "    }\n",
       "</style>\n",
       "<table border=\"1\" class=\"dataframe\">\n",
       "  <thead>\n",
       "    <tr style=\"text-align: right;\">\n",
       "      <th></th>\n",
       "      <th>id</th>\n",
       "      <th>AGE</th>\n",
       "      <th>ALCSTAT</th>\n",
       "      <th>ARTH1</th>\n",
       "      <th>BMI</th>\n",
       "      <th>CHLEV</th>\n",
       "      <th>EPHEV</th>\n",
       "      <th>FSBALANC</th>\n",
       "      <th>GENDER</th>\n",
       "      <th>HISPAN_I</th>\n",
       "      <th>HYPEV</th>\n",
       "      <th>HYPMDEV2</th>\n",
       "      <th>HYPMED2</th>\n",
       "      <th>INTIL2W</th>\n",
       "      <th>MRACBPI2</th>\n",
       "      <th>MRACRPI2</th>\n",
       "      <th>REGION</th>\n",
       "      <th>HEIGHT(cm)</th>\n",
       "      <th>WEIGHT(kg)</th>\n",
       "      <th>DIBEV1</th>\n",
       "    </tr>\n",
       "  </thead>\n",
       "  <tbody>\n",
       "    <tr>\n",
       "      <th>0</th>\n",
       "      <td>100011</td>\n",
       "      <td>79.0</td>\n",
       "      <td>0.0</td>\n",
       "      <td>1.0</td>\n",
       "      <td>23.594147</td>\n",
       "      <td>1.0</td>\n",
       "      <td>0.0</td>\n",
       "      <td>0</td>\n",
       "      <td>1.0</td>\n",
       "      <td>12.0</td>\n",
       "      <td>1.0</td>\n",
       "      <td>1.0</td>\n",
       "      <td>1.0</td>\n",
       "      <td>0.0</td>\n",
       "      <td>1.0</td>\n",
       "      <td>1.0</td>\n",
       "      <td>3.0</td>\n",
       "      <td>157.48</td>\n",
       "      <td>58.513368</td>\n",
       "      <td>1</td>\n",
       "    </tr>\n",
       "    <tr>\n",
       "      <th>1</th>\n",
       "      <td>100061</td>\n",
       "      <td>37.0</td>\n",
       "      <td>0.0</td>\n",
       "      <td>0.0</td>\n",
       "      <td>32.775484</td>\n",
       "      <td>1.0</td>\n",
       "      <td>0.0</td>\n",
       "      <td>0</td>\n",
       "      <td>0.0</td>\n",
       "      <td>12.0</td>\n",
       "      <td>0.0</td>\n",
       "      <td>0.0</td>\n",
       "      <td>0.0</td>\n",
       "      <td>0.0</td>\n",
       "      <td>1.0</td>\n",
       "      <td>1.0</td>\n",
       "      <td>3.0</td>\n",
       "      <td>180.34</td>\n",
       "      <td>106.594120</td>\n",
       "      <td>0</td>\n",
       "    </tr>\n",
       "    <tr>\n",
       "      <th>2</th>\n",
       "      <td>100091</td>\n",
       "      <td>75.0</td>\n",
       "      <td>0.0</td>\n",
       "      <td>1.0</td>\n",
       "      <td>22.273536</td>\n",
       "      <td>1.0</td>\n",
       "      <td>0.0</td>\n",
       "      <td>1</td>\n",
       "      <td>0.0</td>\n",
       "      <td>12.0</td>\n",
       "      <td>1.0</td>\n",
       "      <td>1.0</td>\n",
       "      <td>1.0</td>\n",
       "      <td>0.0</td>\n",
       "      <td>7.0</td>\n",
       "      <td>11.0</td>\n",
       "      <td>3.0</td>\n",
       "      <td>167.64</td>\n",
       "      <td>62.595696</td>\n",
       "      <td>0</td>\n",
       "    </tr>\n",
       "    <tr>\n",
       "      <th>3</th>\n",
       "      <td>1000101</td>\n",
       "      <td>39.0</td>\n",
       "      <td>0.0</td>\n",
       "      <td>0.0</td>\n",
       "      <td>23.709925</td>\n",
       "      <td>0.0</td>\n",
       "      <td>0.0</td>\n",
       "      <td>0</td>\n",
       "      <td>0.0</td>\n",
       "      <td>12.0</td>\n",
       "      <td>0.0</td>\n",
       "      <td>0.0</td>\n",
       "      <td>0.0</td>\n",
       "      <td>0.0</td>\n",
       "      <td>1.0</td>\n",
       "      <td>1.0</td>\n",
       "      <td>1.0</td>\n",
       "      <td>180.34</td>\n",
       "      <td>77.110640</td>\n",
       "      <td>0</td>\n",
       "    </tr>\n",
       "    <tr>\n",
       "      <th>4</th>\n",
       "      <td>1000131</td>\n",
       "      <td>54.0</td>\n",
       "      <td>1.0</td>\n",
       "      <td>0.0</td>\n",
       "      <td>38.273579</td>\n",
       "      <td>1.0</td>\n",
       "      <td>0.0</td>\n",
       "      <td>0</td>\n",
       "      <td>1.0</td>\n",
       "      <td>12.0</td>\n",
       "      <td>0.0</td>\n",
       "      <td>0.0</td>\n",
       "      <td>0.0</td>\n",
       "      <td>0.0</td>\n",
       "      <td>2.0</td>\n",
       "      <td>2.0</td>\n",
       "      <td>3.0</td>\n",
       "      <td>165.10</td>\n",
       "      <td>104.326160</td>\n",
       "      <td>0</td>\n",
       "    </tr>\n",
       "  </tbody>\n",
       "</table>\n",
       "</div>"
      ],
      "text/plain": [
       "        id   AGE  ALCSTAT  ARTH1        BMI  CHLEV  EPHEV  FSBALANC  GENDER  \\\n",
       "0   100011  79.0      0.0    1.0  23.594147    1.0    0.0         0     1.0   \n",
       "1   100061  37.0      0.0    0.0  32.775484    1.0    0.0         0     0.0   \n",
       "2   100091  75.0      0.0    1.0  22.273536    1.0    0.0         1     0.0   \n",
       "3  1000101  39.0      0.0    0.0  23.709925    0.0    0.0         0     0.0   \n",
       "4  1000131  54.0      1.0    0.0  38.273579    1.0    0.0         0     1.0   \n",
       "\n",
       "   HISPAN_I  HYPEV  HYPMDEV2  HYPMED2  INTIL2W  MRACBPI2  MRACRPI2  REGION  \\\n",
       "0      12.0    1.0       1.0      1.0      0.0       1.0       1.0     3.0   \n",
       "1      12.0    0.0       0.0      0.0      0.0       1.0       1.0     3.0   \n",
       "2      12.0    1.0       1.0      1.0      0.0       7.0      11.0     3.0   \n",
       "3      12.0    0.0       0.0      0.0      0.0       1.0       1.0     1.0   \n",
       "4      12.0    0.0       0.0      0.0      0.0       2.0       2.0     3.0   \n",
       "\n",
       "   HEIGHT(cm)  WEIGHT(kg)  DIBEV1  \n",
       "0      157.48   58.513368       1  \n",
       "1      180.34  106.594120       0  \n",
       "2      167.64   62.595696       0  \n",
       "3      180.34   77.110640       0  \n",
       "4      165.10  104.326160       0  "
      ]
     },
     "execution_count": 4,
     "metadata": {},
     "output_type": "execute_result"
    }
   ],
   "source": [
    "df.head()"
   ]
  },
  {
   "cell_type": "code",
   "execution_count": 5,
   "id": "3c7aed03-b68d-4aff-8141-c4d121c75286",
   "metadata": {
    "tags": []
   },
   "outputs": [
    {
     "data": {
      "text/plain": [
       "(23107, 20)"
      ]
     },
     "execution_count": 5,
     "metadata": {},
     "output_type": "execute_result"
    }
   ],
   "source": [
    "df.shape"
   ]
  },
  {
   "cell_type": "code",
   "execution_count": 6,
   "id": "67d691fd-de3f-4771-bc0d-ab732af463a6",
   "metadata": {
    "tags": []
   },
   "outputs": [
    {
     "data": {
      "text/plain": [
       "0    19865\n",
       "1     3242\n",
       "Name: DIBEV1, dtype: int64"
      ]
     },
     "execution_count": 6,
     "metadata": {},
     "output_type": "execute_result"
    }
   ],
   "source": [
    "df.DIBEV1.value_counts()"
   ]
  },
  {
   "cell_type": "code",
   "execution_count": 7,
   "id": "5006ea65-2d7e-449b-92b2-c9e8b23de717",
   "metadata": {
    "tags": []
   },
   "outputs": [
    {
     "data": {
      "text/plain": [
       "0.8596961959579348"
      ]
     },
     "execution_count": 7,
     "metadata": {},
     "output_type": "execute_result"
    }
   ],
   "source": [
    "df.DIBEV1.value_counts()[0]/(df.DIBEV1.value_counts()[0]+df.DIBEV1.value_counts()[1])"
   ]
  },
  {
   "cell_type": "code",
   "execution_count": 8,
   "id": "837b5684-cc17-4fff-a986-b1db514ca56d",
   "metadata": {
    "tags": []
   },
   "outputs": [],
   "source": [
    "X_tr, X_test, y_tr, y_test = train_test_split(df.drop(['id','DIBEV1'],axis=1),df['DIBEV1'],shuffle=True,test_size=0.05,stratify=df['DIBEV1'])"
   ]
  },
  {
   "cell_type": "code",
   "execution_count": 9,
   "id": "7dd6fefc-f542-4440-a35e-6e2bc0fc49d2",
   "metadata": {
    "tags": []
   },
   "outputs": [
    {
     "data": {
      "text/plain": [
       "0.8596874857637465"
      ]
     },
     "execution_count": 9,
     "metadata": {},
     "output_type": "execute_result"
    }
   ],
   "source": [
    "y_tr.value_counts()[0]/(y_tr.value_counts()[0]+y_tr.value_counts()[1])"
   ]
  },
  {
   "cell_type": "code",
   "execution_count": 10,
   "id": "14a81253-269c-485a-a913-91ea51f3f7de",
   "metadata": {
    "tags": []
   },
   "outputs": [
    {
     "data": {
      "text/plain": [
       "0    18871\n",
       "1     3080\n",
       "Name: DIBEV1, dtype: int64"
      ]
     },
     "execution_count": 10,
     "metadata": {},
     "output_type": "execute_result"
    }
   ],
   "source": [
    "y_tr.value_counts()"
   ]
  },
  {
   "cell_type": "code",
   "execution_count": 11,
   "id": "ae8dc3e3-ea20-4c53-b4de-0ae4cf251d6c",
   "metadata": {
    "tags": []
   },
   "outputs": [
    {
     "data": {
      "text/plain": [
       "0    994\n",
       "1    162\n",
       "Name: DIBEV1, dtype: int64"
      ]
     },
     "execution_count": 11,
     "metadata": {},
     "output_type": "execute_result"
    }
   ],
   "source": [
    "y_test.value_counts()"
   ]
  },
  {
   "cell_type": "code",
   "execution_count": 12,
   "id": "450c950d-3f4d-4e44-9acf-9388af55702f",
   "metadata": {
    "tags": []
   },
   "outputs": [
    {
     "data": {
      "text/plain": [
       "(21951, 18)"
      ]
     },
     "execution_count": 12,
     "metadata": {},
     "output_type": "execute_result"
    }
   ],
   "source": [
    "X_tr.shape"
   ]
  },
  {
   "cell_type": "code",
   "execution_count": 13,
   "id": "499b17f6-3fc6-40dd-a7eb-5d8677d02133",
   "metadata": {
    "tags": []
   },
   "outputs": [],
   "source": [
    "sampler = RandomUnderSampler(random_state=123)"
   ]
  },
  {
   "cell_type": "code",
   "execution_count": 14,
   "id": "fa35168c-788d-46c3-9454-06e1d6dd2574",
   "metadata": {
    "tags": []
   },
   "outputs": [
    {
     "data": {
      "text/plain": [
       "0    18871\n",
       "1     3080\n",
       "Name: DIBEV1, dtype: int64"
      ]
     },
     "execution_count": 14,
     "metadata": {},
     "output_type": "execute_result"
    }
   ],
   "source": [
    "y_tr.value_counts()"
   ]
  },
  {
   "cell_type": "code",
   "execution_count": 15,
   "id": "128ad200-6dbf-4654-8571-dce7e8b0bcca",
   "metadata": {
    "tags": []
   },
   "outputs": [
    {
     "name": "stdout",
     "output_type": "stream",
     "text": [
      "0    3080\n",
      "1    3080\n",
      "Name: DIBEV1, dtype: int64\n"
     ]
    }
   ],
   "source": [
    "X_under , y_under = sampler.fit_resample(X_tr,y_tr)\n",
    "print(y_under.value_counts())"
   ]
  },
  {
   "cell_type": "markdown",
   "id": "d829c97f-1898-448f-a186-8230c5337337",
   "metadata": {
    "tags": []
   },
   "source": [
    "## 1. 수치형 변수 데이터 스케일링"
   ]
  },
  {
   "cell_type": "code",
   "execution_count": 16,
   "id": "1f27627c-e5a3-4db8-8efb-e01b839f1b6a",
   "metadata": {
    "tags": []
   },
   "outputs": [],
   "source": [
    "# 스케일링을 적용할 컬럼 선정\n",
    "num_col = ['AGE','BMI','HEIGHT(cm)','WEIGHT(kg)']"
   ]
  },
  {
   "cell_type": "code",
   "execution_count": 17,
   "id": "236e6126-fe58-4d02-9f8c-b16d7b641f46",
   "metadata": {
    "tags": []
   },
   "outputs": [],
   "source": [
    "# 전체 데이터셋의 위 컬럼들에 대해 스케일링 fit 후 각 데이터셋 및 검증용 데이터셋에 transform 적용\n",
    "for col in num_col:\n",
    "    ss = StandardScaler()\n",
    "    X_under[col] = ss.fit_transform(X_under[[col]])\n",
    "    X_test[col] = ss.transform(X_test[[col]])"
   ]
  },
  {
   "cell_type": "markdown",
   "id": "272eec0f-1fb9-4ec7-8f7c-6f0d972089c9",
   "metadata": {},
   "source": [
    "## 2. unique 개수가 3개 이상인 컬럼들 onehotencoding"
   ]
  },
  {
   "cell_type": "code",
   "execution_count": 18,
   "id": "1068052c-98f6-4536-be54-4c53f09e5e2f",
   "metadata": {
    "tags": []
   },
   "outputs": [],
   "source": [
    "# 데이터프레임 전체 컬럼에서 수치형 컬럼 제외\n",
    "cols = np.setdiff1d(X_under.columns,num_col)\n",
    "\n",
    "# 위 컬럼에서 고유값 개수가 3개 이상인 컬럼만 추출\n",
    "# 0,1만 가지는 binary 컬럼은 굳이 ohe를 하지 않을 것\n",
    "nom_col = [col for col in cols if X_under[col].nunique() >= 3 ]"
   ]
  },
  {
   "cell_type": "code",
   "execution_count": 19,
   "id": "680f66d5-fd27-43af-8177-1a8a9164f5f2",
   "metadata": {
    "tags": []
   },
   "outputs": [
    {
     "data": {
      "text/plain": [
       "['HISPAN_I', 'MRACBPI2', 'MRACRPI2', 'REGION']"
      ]
     },
     "execution_count": 19,
     "metadata": {},
     "output_type": "execute_result"
    }
   ],
   "source": [
    "nom_col"
   ]
  },
  {
   "cell_type": "code",
   "execution_count": 20,
   "id": "c096f3dd-bfbd-4067-a77a-2d99b5e37be6",
   "metadata": {
    "tags": []
   },
   "outputs": [],
   "source": [
    "# 명목형 컬럼들에 대한 dummy 데이터 생성(원핫인코딩)\n",
    "train_dummies = [] # 학습용 데이터셋의 명목형 컬럼들의 더미데이터셋 저장용 리스트\n",
    "test_dummies = [] # 검증용 데이터셋의 명목형 컬럼들의 더미데이터셋 저장용 리스트\n",
    "for col in nom_col:\n",
    "    train_dummies.append(pd.get_dummies(X_under[col],prefix=col,dummy_na=True,dtype='float')) # 학습데이터의 각 컬럼들의 더미데이터셋을 리스트에 저장\n",
    "    test_dummies.append(pd.get_dummies(X_test[col],prefix=col,dummy_na=True,dtype='float')) # 검증데이터의 각 컬럼들의 더미데이터셋을 리스트에 저장"
   ]
  },
  {
   "cell_type": "code",
   "execution_count": 21,
   "id": "ac3bd1c0-0b2b-4cf0-a4eb-c358b9b27b70",
   "metadata": {
    "tags": []
   },
   "outputs": [],
   "source": [
    "train_dummies = pd.concat(train_dummies,axis=1) # 학습 데이터의 더미데이터셋 리스트를 하나로 합침\n",
    "test_dummies = pd.concat(test_dummies,axis=1) # 검증 데이터의 더미데이터셋 리스트를 하나로 합침"
   ]
  },
  {
   "cell_type": "code",
   "execution_count": 22,
   "id": "84746f5f-d099-489f-a62d-9152346da696",
   "metadata": {
    "tags": []
   },
   "outputs": [
    {
     "data": {
      "text/plain": [
       "((6160, 35), (1156, 34))"
      ]
     },
     "execution_count": 22,
     "metadata": {},
     "output_type": "execute_result"
    }
   ],
   "source": [
    "train_dummies.shape, test_dummies.shape"
   ]
  },
  {
   "cell_type": "code",
   "execution_count": 23,
   "id": "449e3c9f-a87c-43d4-9cbf-8f7021dacef3",
   "metadata": {
    "tags": []
   },
   "outputs": [],
   "source": [
    "# 만약 고유값 개수 차이로 인해 학습셋과 테스트셋의 더미 데이터셋 컬럼 차이가 있다면 컬럼수를 통일\n",
    "# 학습 및 예측 오류 방지\n",
    "\n",
    "if train_dummies.columns.nunique() > test_dummies.columns.nunique():\n",
    "    missing_cols = set(train_dummies.columns) - set(test_dummies.columns)\n",
    "    for col in missing_cols:\n",
    "        test_dummies[col] = 0\n",
    "elif train_dummies.columns.nunique() < test_dummies.columns.nunique():\n",
    "    missing_cols = set(test_dummies.columns) - set(train_dummies.columns)\n",
    "    for col in missing_cols:\n",
    "        train_dummies[col] = 0\n",
    "else:\n",
    "    pass"
   ]
  },
  {
   "cell_type": "code",
   "execution_count": 24,
   "id": "a5af27af-9d7c-4bd8-b99a-08acfcafe7a7",
   "metadata": {
    "tags": []
   },
   "outputs": [
    {
     "data": {
      "text/plain": [
       "((6160, 35), (1156, 35))"
      ]
     },
     "execution_count": 24,
     "metadata": {},
     "output_type": "execute_result"
    }
   ],
   "source": [
    "train_dummies.shape, test_dummies.shape"
   ]
  },
  {
   "cell_type": "code",
   "execution_count": 25,
   "id": "5e8448e7-fab3-49f8-a868-4cc680161f25",
   "metadata": {
    "tags": []
   },
   "outputs": [],
   "source": [
    "# 원본의 학습,테스트셋에 더미데이터셋 합친 후 기존 명목형 컬럼 제거\n",
    "X_under = pd.concat([X_under,train_dummies],axis=1).drop(nom_col,axis=1)\n",
    "X_test = pd.concat([X_test,test_dummies],axis=1).drop(nom_col,axis=1)"
   ]
  },
  {
   "cell_type": "code",
   "execution_count": 26,
   "id": "550a0a8d-b843-4c9a-bdfc-6911e520cfc1",
   "metadata": {
    "tags": []
   },
   "outputs": [
    {
     "data": {
      "text/plain": [
       "((6160, 49), (1156, 49))"
      ]
     },
     "execution_count": 26,
     "metadata": {},
     "output_type": "execute_result"
    }
   ],
   "source": [
    "X_under.shape, X_test.shape"
   ]
  },
  {
   "cell_type": "code",
   "execution_count": 27,
   "id": "c12ac789-0499-4932-bad9-e966ffadb113",
   "metadata": {
    "tags": []
   },
   "outputs": [
    {
     "data": {
      "text/plain": [
       "((6160, 49), (6160,))"
      ]
     },
     "execution_count": 27,
     "metadata": {},
     "output_type": "execute_result"
    }
   ],
   "source": [
    "X_under.shape, y_under.shape"
   ]
  },
  {
   "cell_type": "code",
   "execution_count": 28,
   "id": "46e299ec-215a-4244-ba97-10b43994ce35",
   "metadata": {
    "tags": []
   },
   "outputs": [],
   "source": [
    "X_tr, X_val, y_tr, y_val = train_test_split(X_under,y_under,test_size=0.2,random_state=123,shuffle=True,stratify=y_under)"
   ]
  },
  {
   "cell_type": "markdown",
   "id": "84ffdf2c-e69e-4697-8925-838d7358b54c",
   "metadata": {},
   "source": [
    "# pycaret 최적화 모델링"
   ]
  },
  {
   "cell_type": "code",
   "execution_count": 29,
   "id": "391db237-1afe-4536-a561-6110663cae21",
   "metadata": {},
   "outputs": [
    {
     "data": {
      "text/html": [],
      "text/plain": [
       "<IPython.core.display.HTML object>"
      ]
     },
     "metadata": {},
     "output_type": "display_data"
    },
    {
     "data": {
      "text/html": [
       "<style type=\"text/css\">\n",
       "#T_7775f th {\n",
       "  text-align: left;\n",
       "}\n",
       "#T_7775f_row0_col0, #T_7775f_row0_col3, #T_7775f_row1_col0, #T_7775f_row1_col1, #T_7775f_row1_col2, #T_7775f_row1_col4, #T_7775f_row1_col5, #T_7775f_row1_col6, #T_7775f_row1_col7, #T_7775f_row2_col0, #T_7775f_row2_col1, #T_7775f_row2_col2, #T_7775f_row2_col3, #T_7775f_row2_col4, #T_7775f_row2_col5, #T_7775f_row2_col6, #T_7775f_row2_col7, #T_7775f_row3_col0, #T_7775f_row3_col1, #T_7775f_row3_col2, #T_7775f_row3_col3, #T_7775f_row3_col4, #T_7775f_row3_col5, #T_7775f_row3_col6, #T_7775f_row3_col7, #T_7775f_row4_col0, #T_7775f_row4_col1, #T_7775f_row4_col2, #T_7775f_row4_col3, #T_7775f_row4_col4, #T_7775f_row4_col5, #T_7775f_row4_col6, #T_7775f_row4_col7, #T_7775f_row5_col0, #T_7775f_row5_col1, #T_7775f_row5_col2, #T_7775f_row5_col3, #T_7775f_row5_col4, #T_7775f_row5_col5, #T_7775f_row5_col6, #T_7775f_row5_col7, #T_7775f_row6_col0, #T_7775f_row6_col1, #T_7775f_row6_col2, #T_7775f_row6_col3, #T_7775f_row6_col4, #T_7775f_row6_col5, #T_7775f_row6_col6, #T_7775f_row6_col7, #T_7775f_row7_col0, #T_7775f_row7_col1, #T_7775f_row7_col2, #T_7775f_row7_col3, #T_7775f_row7_col4, #T_7775f_row7_col5, #T_7775f_row7_col6, #T_7775f_row7_col7, #T_7775f_row8_col0, #T_7775f_row8_col1, #T_7775f_row8_col2, #T_7775f_row8_col3, #T_7775f_row8_col4, #T_7775f_row8_col5, #T_7775f_row8_col6, #T_7775f_row8_col7, #T_7775f_row9_col0, #T_7775f_row9_col1, #T_7775f_row9_col2, #T_7775f_row9_col3, #T_7775f_row9_col4, #T_7775f_row9_col5, #T_7775f_row9_col6, #T_7775f_row9_col7, #T_7775f_row10_col0, #T_7775f_row10_col1, #T_7775f_row10_col2, #T_7775f_row10_col3, #T_7775f_row10_col4, #T_7775f_row10_col5, #T_7775f_row10_col6, #T_7775f_row10_col7, #T_7775f_row11_col0, #T_7775f_row11_col1, #T_7775f_row11_col2, #T_7775f_row11_col3, #T_7775f_row11_col4, #T_7775f_row11_col5, #T_7775f_row11_col6, #T_7775f_row11_col7, #T_7775f_row12_col0, #T_7775f_row12_col1, #T_7775f_row12_col2, #T_7775f_row12_col3, #T_7775f_row12_col4, #T_7775f_row12_col5, #T_7775f_row12_col6, #T_7775f_row12_col7, #T_7775f_row13_col0, #T_7775f_row13_col1, #T_7775f_row13_col2, #T_7775f_row13_col3, #T_7775f_row13_col4, #T_7775f_row13_col5, #T_7775f_row13_col6, #T_7775f_row13_col7, #T_7775f_row14_col0, #T_7775f_row14_col1, #T_7775f_row14_col2, #T_7775f_row14_col3, #T_7775f_row14_col4, #T_7775f_row14_col5, #T_7775f_row14_col6, #T_7775f_row14_col7 {\n",
       "  text-align: left;\n",
       "}\n",
       "#T_7775f_row0_col1, #T_7775f_row0_col2, #T_7775f_row0_col4, #T_7775f_row0_col5, #T_7775f_row0_col6, #T_7775f_row0_col7, #T_7775f_row1_col3 {\n",
       "  text-align: left;\n",
       "  background-color: yellow;\n",
       "}\n",
       "#T_7775f_row0_col8, #T_7775f_row1_col8, #T_7775f_row2_col8, #T_7775f_row3_col8, #T_7775f_row4_col8, #T_7775f_row5_col8, #T_7775f_row6_col8, #T_7775f_row7_col8, #T_7775f_row8_col8, #T_7775f_row9_col8, #T_7775f_row10_col8, #T_7775f_row11_col8, #T_7775f_row12_col8 {\n",
       "  text-align: left;\n",
       "  background-color: lightgrey;\n",
       "}\n",
       "#T_7775f_row13_col8, #T_7775f_row14_col8 {\n",
       "  text-align: left;\n",
       "  background-color: yellow;\n",
       "  background-color: lightgrey;\n",
       "}\n",
       "</style>\n",
       "<table id=\"T_7775f\">\n",
       "  <thead>\n",
       "    <tr>\n",
       "      <th class=\"blank level0\" >&nbsp;</th>\n",
       "      <th id=\"T_7775f_level0_col0\" class=\"col_heading level0 col0\" >Model</th>\n",
       "      <th id=\"T_7775f_level0_col1\" class=\"col_heading level0 col1\" >Accuracy</th>\n",
       "      <th id=\"T_7775f_level0_col2\" class=\"col_heading level0 col2\" >AUC</th>\n",
       "      <th id=\"T_7775f_level0_col3\" class=\"col_heading level0 col3\" >Recall</th>\n",
       "      <th id=\"T_7775f_level0_col4\" class=\"col_heading level0 col4\" >Prec.</th>\n",
       "      <th id=\"T_7775f_level0_col5\" class=\"col_heading level0 col5\" >F1</th>\n",
       "      <th id=\"T_7775f_level0_col6\" class=\"col_heading level0 col6\" >Kappa</th>\n",
       "      <th id=\"T_7775f_level0_col7\" class=\"col_heading level0 col7\" >MCC</th>\n",
       "      <th id=\"T_7775f_level0_col8\" class=\"col_heading level0 col8\" >TT (Sec)</th>\n",
       "    </tr>\n",
       "  </thead>\n",
       "  <tbody>\n",
       "    <tr>\n",
       "      <th id=\"T_7775f_level0_row0\" class=\"row_heading level0 row0\" >lr</th>\n",
       "      <td id=\"T_7775f_row0_col0\" class=\"data row0 col0\" >Logistic Regression</td>\n",
       "      <td id=\"T_7775f_row0_col1\" class=\"data row0 col1\" >0.7382</td>\n",
       "      <td id=\"T_7775f_row0_col2\" class=\"data row0 col2\" >0.8045</td>\n",
       "      <td id=\"T_7775f_row0_col3\" class=\"data row0 col3\" >0.7467</td>\n",
       "      <td id=\"T_7775f_row0_col4\" class=\"data row0 col4\" >0.7350</td>\n",
       "      <td id=\"T_7775f_row0_col5\" class=\"data row0 col5\" >0.7401</td>\n",
       "      <td id=\"T_7775f_row0_col6\" class=\"data row0 col6\" >0.4764</td>\n",
       "      <td id=\"T_7775f_row0_col7\" class=\"data row0 col7\" >0.4773</td>\n",
       "      <td id=\"T_7775f_row0_col8\" class=\"data row0 col8\" >0.2960</td>\n",
       "    </tr>\n",
       "    <tr>\n",
       "      <th id=\"T_7775f_level0_row1\" class=\"row_heading level0 row1\" >gbc</th>\n",
       "      <td id=\"T_7775f_row1_col0\" class=\"data row1 col0\" >Gradient Boosting Classifier</td>\n",
       "      <td id=\"T_7775f_row1_col1\" class=\"data row1 col1\" >0.7330</td>\n",
       "      <td id=\"T_7775f_row1_col2\" class=\"data row1 col2\" >0.7976</td>\n",
       "      <td id=\"T_7775f_row1_col3\" class=\"data row1 col3\" >0.7559</td>\n",
       "      <td id=\"T_7775f_row1_col4\" class=\"data row1 col4\" >0.7233</td>\n",
       "      <td id=\"T_7775f_row1_col5\" class=\"data row1 col5\" >0.7383</td>\n",
       "      <td id=\"T_7775f_row1_col6\" class=\"data row1 col6\" >0.4659</td>\n",
       "      <td id=\"T_7775f_row1_col7\" class=\"data row1 col7\" >0.4678</td>\n",
       "      <td id=\"T_7775f_row1_col8\" class=\"data row1 col8\" >0.0620</td>\n",
       "    </tr>\n",
       "    <tr>\n",
       "      <th id=\"T_7775f_level0_row2\" class=\"row_heading level0 row2\" >ada</th>\n",
       "      <td id=\"T_7775f_row2_col0\" class=\"data row2 col0\" >Ada Boost Classifier</td>\n",
       "      <td id=\"T_7775f_row2_col1\" class=\"data row2 col1\" >0.7338</td>\n",
       "      <td id=\"T_7775f_row2_col2\" class=\"data row2 col2\" >0.7934</td>\n",
       "      <td id=\"T_7775f_row2_col3\" class=\"data row2 col3\" >0.7478</td>\n",
       "      <td id=\"T_7775f_row2_col4\" class=\"data row2 col4\" >0.7280</td>\n",
       "      <td id=\"T_7775f_row2_col5\" class=\"data row2 col5\" >0.7372</td>\n",
       "      <td id=\"T_7775f_row2_col6\" class=\"data row2 col6\" >0.4676</td>\n",
       "      <td id=\"T_7775f_row2_col7\" class=\"data row2 col7\" >0.4686</td>\n",
       "      <td id=\"T_7775f_row2_col8\" class=\"data row2 col8\" >0.0300</td>\n",
       "    </tr>\n",
       "    <tr>\n",
       "      <th id=\"T_7775f_level0_row3\" class=\"row_heading level0 row3\" >ridge</th>\n",
       "      <td id=\"T_7775f_row3_col0\" class=\"data row3 col0\" >Ridge Classifier</td>\n",
       "      <td id=\"T_7775f_row3_col1\" class=\"data row3 col1\" >0.7356</td>\n",
       "      <td id=\"T_7775f_row3_col2\" class=\"data row3 col2\" >0.0000</td>\n",
       "      <td id=\"T_7775f_row3_col3\" class=\"data row3 col3\" >0.7409</td>\n",
       "      <td id=\"T_7775f_row3_col4\" class=\"data row3 col4\" >0.7337</td>\n",
       "      <td id=\"T_7775f_row3_col5\" class=\"data row3 col5\" >0.7368</td>\n",
       "      <td id=\"T_7775f_row3_col6\" class=\"data row3 col6\" >0.4711</td>\n",
       "      <td id=\"T_7775f_row3_col7\" class=\"data row3 col7\" >0.4718</td>\n",
       "      <td id=\"T_7775f_row3_col8\" class=\"data row3 col8\" >0.0070</td>\n",
       "    </tr>\n",
       "    <tr>\n",
       "      <th id=\"T_7775f_level0_row4\" class=\"row_heading level0 row4\" >lda</th>\n",
       "      <td id=\"T_7775f_row4_col0\" class=\"data row4 col0\" >Linear Discriminant Analysis</td>\n",
       "      <td id=\"T_7775f_row4_col1\" class=\"data row4 col1\" >0.7350</td>\n",
       "      <td id=\"T_7775f_row4_col2\" class=\"data row4 col2\" >0.8038</td>\n",
       "      <td id=\"T_7775f_row4_col3\" class=\"data row4 col3\" >0.7403</td>\n",
       "      <td id=\"T_7775f_row4_col4\" class=\"data row4 col4\" >0.7331</td>\n",
       "      <td id=\"T_7775f_row4_col5\" class=\"data row4 col5\" >0.7363</td>\n",
       "      <td id=\"T_7775f_row4_col6\" class=\"data row4 col6\" >0.4700</td>\n",
       "      <td id=\"T_7775f_row4_col7\" class=\"data row4 col7\" >0.4706</td>\n",
       "      <td id=\"T_7775f_row4_col8\" class=\"data row4 col8\" >0.0100</td>\n",
       "    </tr>\n",
       "    <tr>\n",
       "      <th id=\"T_7775f_level0_row5\" class=\"row_heading level0 row5\" >lightgbm</th>\n",
       "      <td id=\"T_7775f_row5_col0\" class=\"data row5 col0\" >Light Gradient Boosting Machine</td>\n",
       "      <td id=\"T_7775f_row5_col1\" class=\"data row5 col1\" >0.7101</td>\n",
       "      <td id=\"T_7775f_row5_col2\" class=\"data row5 col2\" >0.7756</td>\n",
       "      <td id=\"T_7775f_row5_col3\" class=\"data row5 col3\" >0.7397</td>\n",
       "      <td id=\"T_7775f_row5_col4\" class=\"data row5 col4\" >0.6993</td>\n",
       "      <td id=\"T_7775f_row5_col5\" class=\"data row5 col5\" >0.7181</td>\n",
       "      <td id=\"T_7775f_row5_col6\" class=\"data row5 col6\" >0.4201</td>\n",
       "      <td id=\"T_7775f_row5_col7\" class=\"data row5 col7\" >0.4220</td>\n",
       "      <td id=\"T_7775f_row5_col8\" class=\"data row5 col8\" >0.0640</td>\n",
       "    </tr>\n",
       "    <tr>\n",
       "      <th id=\"T_7775f_level0_row6\" class=\"row_heading level0 row6\" >rf</th>\n",
       "      <td id=\"T_7775f_row6_col0\" class=\"data row6 col0\" >Random Forest Classifier</td>\n",
       "      <td id=\"T_7775f_row6_col1\" class=\"data row6 col1\" >0.7124</td>\n",
       "      <td id=\"T_7775f_row6_col2\" class=\"data row6 col2\" >0.7786</td>\n",
       "      <td id=\"T_7775f_row6_col3\" class=\"data row6 col3\" >0.7287</td>\n",
       "      <td id=\"T_7775f_row6_col4\" class=\"data row6 col4\" >0.7066</td>\n",
       "      <td id=\"T_7775f_row6_col5\" class=\"data row6 col5\" >0.7168</td>\n",
       "      <td id=\"T_7775f_row6_col6\" class=\"data row6 col6\" >0.4248</td>\n",
       "      <td id=\"T_7775f_row6_col7\" class=\"data row6 col7\" >0.4258</td>\n",
       "      <td id=\"T_7775f_row6_col8\" class=\"data row6 col8\" >0.0680</td>\n",
       "    </tr>\n",
       "    <tr>\n",
       "      <th id=\"T_7775f_level0_row7\" class=\"row_heading level0 row7\" >xgboost</th>\n",
       "      <td id=\"T_7775f_row7_col0\" class=\"data row7 col0\" >Extreme Gradient Boosting</td>\n",
       "      <td id=\"T_7775f_row7_col1\" class=\"data row7 col1\" >0.7005</td>\n",
       "      <td id=\"T_7775f_row7_col2\" class=\"data row7 col2\" >0.7617</td>\n",
       "      <td id=\"T_7775f_row7_col3\" class=\"data row7 col3\" >0.7177</td>\n",
       "      <td id=\"T_7775f_row7_col4\" class=\"data row7 col4\" >0.6954</td>\n",
       "      <td id=\"T_7775f_row7_col5\" class=\"data row7 col5\" >0.7050</td>\n",
       "      <td id=\"T_7775f_row7_col6\" class=\"data row7 col6\" >0.4010</td>\n",
       "      <td id=\"T_7775f_row7_col7\" class=\"data row7 col7\" >0.4028</td>\n",
       "      <td id=\"T_7775f_row7_col8\" class=\"data row7 col8\" >0.0350</td>\n",
       "    </tr>\n",
       "    <tr>\n",
       "      <th id=\"T_7775f_level0_row8\" class=\"row_heading level0 row8\" >et</th>\n",
       "      <td id=\"T_7775f_row8_col0\" class=\"data row8 col0\" >Extra Trees Classifier</td>\n",
       "      <td id=\"T_7775f_row8_col1\" class=\"data row8 col1\" >0.6982</td>\n",
       "      <td id=\"T_7775f_row8_col2\" class=\"data row8 col2\" >0.7564</td>\n",
       "      <td id=\"T_7775f_row8_col3\" class=\"data row8 col3\" >0.7026</td>\n",
       "      <td id=\"T_7775f_row8_col4\" class=\"data row8 col4\" >0.6981</td>\n",
       "      <td id=\"T_7775f_row8_col5\" class=\"data row8 col5\" >0.6997</td>\n",
       "      <td id=\"T_7775f_row8_col6\" class=\"data row8 col6\" >0.3964</td>\n",
       "      <td id=\"T_7775f_row8_col7\" class=\"data row8 col7\" >0.3971</td>\n",
       "      <td id=\"T_7775f_row8_col8\" class=\"data row8 col8\" >0.0620</td>\n",
       "    </tr>\n",
       "    <tr>\n",
       "      <th id=\"T_7775f_level0_row9\" class=\"row_heading level0 row9\" >knn</th>\n",
       "      <td id=\"T_7775f_row9_col0\" class=\"data row9 col0\" >K Neighbors Classifier</td>\n",
       "      <td id=\"T_7775f_row9_col1\" class=\"data row9 col1\" >0.6892</td>\n",
       "      <td id=\"T_7775f_row9_col2\" class=\"data row9 col2\" >0.7424</td>\n",
       "      <td id=\"T_7775f_row9_col3\" class=\"data row9 col3\" >0.6748</td>\n",
       "      <td id=\"T_7775f_row9_col4\" class=\"data row9 col4\" >0.6961</td>\n",
       "      <td id=\"T_7775f_row9_col5\" class=\"data row9 col5\" >0.6841</td>\n",
       "      <td id=\"T_7775f_row9_col6\" class=\"data row9 col6\" >0.3784</td>\n",
       "      <td id=\"T_7775f_row9_col7\" class=\"data row9 col7\" >0.3797</td>\n",
       "      <td id=\"T_7775f_row9_col8\" class=\"data row9 col8\" >0.1570</td>\n",
       "    </tr>\n",
       "    <tr>\n",
       "      <th id=\"T_7775f_level0_row10\" class=\"row_heading level0 row10\" >svm</th>\n",
       "      <td id=\"T_7775f_row10_col0\" class=\"data row10 col0\" >SVM - Linear Kernel</td>\n",
       "      <td id=\"T_7775f_row10_col1\" class=\"data row10 col1\" >0.6822</td>\n",
       "      <td id=\"T_7775f_row10_col2\" class=\"data row10 col2\" >0.0000</td>\n",
       "      <td id=\"T_7775f_row10_col3\" class=\"data row10 col3\" >0.7039</td>\n",
       "      <td id=\"T_7775f_row10_col4\" class=\"data row10 col4\" >0.6876</td>\n",
       "      <td id=\"T_7775f_row10_col5\" class=\"data row10 col5\" >0.6819</td>\n",
       "      <td id=\"T_7775f_row10_col6\" class=\"data row10 col6\" >0.3646</td>\n",
       "      <td id=\"T_7775f_row10_col7\" class=\"data row10 col7\" >0.3792</td>\n",
       "      <td id=\"T_7775f_row10_col8\" class=\"data row10 col8\" >0.0090</td>\n",
       "    </tr>\n",
       "    <tr>\n",
       "      <th id=\"T_7775f_level0_row11\" class=\"row_heading level0 row11\" >dt</th>\n",
       "      <td id=\"T_7775f_row11_col0\" class=\"data row11 col0\" >Decision Tree Classifier</td>\n",
       "      <td id=\"T_7775f_row11_col1\" class=\"data row11 col1\" >0.6216</td>\n",
       "      <td id=\"T_7775f_row11_col2\" class=\"data row11 col2\" >0.6217</td>\n",
       "      <td id=\"T_7775f_row11_col3\" class=\"data row11 col3\" >0.5993</td>\n",
       "      <td id=\"T_7775f_row11_col4\" class=\"data row11 col4\" >0.6275</td>\n",
       "      <td id=\"T_7775f_row11_col5\" class=\"data row11 col5\" >0.6127</td>\n",
       "      <td id=\"T_7775f_row11_col6\" class=\"data row11 col6\" >0.2432</td>\n",
       "      <td id=\"T_7775f_row11_col7\" class=\"data row11 col7\" >0.2437</td>\n",
       "      <td id=\"T_7775f_row11_col8\" class=\"data row11 col8\" >0.0070</td>\n",
       "    </tr>\n",
       "    <tr>\n",
       "      <th id=\"T_7775f_level0_row12\" class=\"row_heading level0 row12\" >qda</th>\n",
       "      <td id=\"T_7775f_row12_col0\" class=\"data row12 col0\" >Quadratic Discriminant Analysis</td>\n",
       "      <td id=\"T_7775f_row12_col1\" class=\"data row12 col1\" >0.5094</td>\n",
       "      <td id=\"T_7775f_row12_col2\" class=\"data row12 col2\" >0.5093</td>\n",
       "      <td id=\"T_7775f_row12_col3\" class=\"data row12 col3\" >0.4556</td>\n",
       "      <td id=\"T_7775f_row12_col4\" class=\"data row12 col4\" >0.5241</td>\n",
       "      <td id=\"T_7775f_row12_col5\" class=\"data row12 col5\" >0.4484</td>\n",
       "      <td id=\"T_7775f_row12_col6\" class=\"data row12 col6\" >0.0186</td>\n",
       "      <td id=\"T_7775f_row12_col7\" class=\"data row12 col7\" >0.0209</td>\n",
       "      <td id=\"T_7775f_row12_col8\" class=\"data row12 col8\" >0.0090</td>\n",
       "    </tr>\n",
       "    <tr>\n",
       "      <th id=\"T_7775f_level0_row13\" class=\"row_heading level0 row13\" >dummy</th>\n",
       "      <td id=\"T_7775f_row13_col0\" class=\"data row13 col0\" >Dummy Classifier</td>\n",
       "      <td id=\"T_7775f_row13_col1\" class=\"data row13 col1\" >0.4987</td>\n",
       "      <td id=\"T_7775f_row13_col2\" class=\"data row13 col2\" >0.5000</td>\n",
       "      <td id=\"T_7775f_row13_col3\" class=\"data row13 col3\" >0.5000</td>\n",
       "      <td id=\"T_7775f_row13_col4\" class=\"data row13 col4\" >0.2494</td>\n",
       "      <td id=\"T_7775f_row13_col5\" class=\"data row13 col5\" >0.3328</td>\n",
       "      <td id=\"T_7775f_row13_col6\" class=\"data row13 col6\" >0.0000</td>\n",
       "      <td id=\"T_7775f_row13_col7\" class=\"data row13 col7\" >0.0000</td>\n",
       "      <td id=\"T_7775f_row13_col8\" class=\"data row13 col8\" >0.0060</td>\n",
       "    </tr>\n",
       "    <tr>\n",
       "      <th id=\"T_7775f_level0_row14\" class=\"row_heading level0 row14\" >nb</th>\n",
       "      <td id=\"T_7775f_row14_col0\" class=\"data row14 col0\" >Naive Bayes</td>\n",
       "      <td id=\"T_7775f_row14_col1\" class=\"data row14 col1\" >0.5610</td>\n",
       "      <td id=\"T_7775f_row14_col2\" class=\"data row14 col2\" >0.7427</td>\n",
       "      <td id=\"T_7775f_row14_col3\" class=\"data row14 col3\" >0.1936</td>\n",
       "      <td id=\"T_7775f_row14_col4\" class=\"data row14 col4\" >0.7258</td>\n",
       "      <td id=\"T_7775f_row14_col5\" class=\"data row14 col5\" >0.3047</td>\n",
       "      <td id=\"T_7775f_row14_col6\" class=\"data row14 col6\" >0.1223</td>\n",
       "      <td id=\"T_7775f_row14_col7\" class=\"data row14 col7\" >0.1784</td>\n",
       "      <td id=\"T_7775f_row14_col8\" class=\"data row14 col8\" >0.0060</td>\n",
       "    </tr>\n",
       "  </tbody>\n",
       "</table>\n"
      ],
      "text/plain": [
       "<pandas.io.formats.style.Styler at 0x23509666b30>"
      ]
     },
     "metadata": {},
     "output_type": "display_data"
    },
    {
     "data": {
      "text/html": [],
      "text/plain": [
       "<IPython.core.display.HTML object>"
      ]
     },
     "metadata": {},
     "output_type": "display_data"
    }
   ],
   "source": [
    "clf = setup(data=X_tr,target=y_tr,preprocess=False,verbose=False,n_jobs=-1,session_id=123) # pycaret AutoML사용을 위한 초기화\n",
    "best_5 = compare_models(fold=10, sort='f1',verbose=True,n_select=5) # pycaret에서 F1 score기준으로 데이터셋에 최적화된 모델 1개 선정(n_select = 1이 기본값이며, 이 값에 따라 선정되는 모델의 개수 변경 됨)\n",
    "# 각 데이터셋에 최적화된 모델 5개 중 predict_proba 메소드가 없는 모델 제거\n",
    "tuned_models = []\n",
    "for model in best_5:\n",
    "    tuned_model = tune_model(model,optimize='f1',verbose=False)\n",
    "    tuned_models.append(tuned_model)\n",
    "tuned_models_copy = tuned_models.copy()\n",
    "for model in tuned_models_copy:\n",
    "    try : \n",
    "        blend_models(estimator_list=[model], method='soft',verbose=False)\n",
    "    except:\n",
    "        tuned_models.remove(model)\n",
    "ensemble_model = blend_models(estimator_list=tuned_models, method='soft',optimize='f1',verbose=False) # best_5 모델들에 대한 앙상블"
   ]
  },
  {
   "cell_type": "code",
   "execution_count": 30,
   "id": "83a649d2-34f6-4b98-9e65-eedd7d65e79b",
   "metadata": {
    "tags": []
   },
   "outputs": [
    {
     "data": {
      "text/html": [
       "<style>#sk-container-id-1 {color: black;background-color: white;}#sk-container-id-1 pre{padding: 0;}#sk-container-id-1 div.sk-toggleable {background-color: white;}#sk-container-id-1 label.sk-toggleable__label {cursor: pointer;display: block;width: 100%;margin-bottom: 0;padding: 0.3em;box-sizing: border-box;text-align: center;}#sk-container-id-1 label.sk-toggleable__label-arrow:before {content: \"▸\";float: left;margin-right: 0.25em;color: #696969;}#sk-container-id-1 label.sk-toggleable__label-arrow:hover:before {color: black;}#sk-container-id-1 div.sk-estimator:hover label.sk-toggleable__label-arrow:before {color: black;}#sk-container-id-1 div.sk-toggleable__content {max-height: 0;max-width: 0;overflow: hidden;text-align: left;background-color: #f0f8ff;}#sk-container-id-1 div.sk-toggleable__content pre {margin: 0.2em;color: black;border-radius: 0.25em;background-color: #f0f8ff;}#sk-container-id-1 input.sk-toggleable__control:checked~div.sk-toggleable__content {max-height: 200px;max-width: 100%;overflow: auto;}#sk-container-id-1 input.sk-toggleable__control:checked~label.sk-toggleable__label-arrow:before {content: \"▾\";}#sk-container-id-1 div.sk-estimator input.sk-toggleable__control:checked~label.sk-toggleable__label {background-color: #d4ebff;}#sk-container-id-1 div.sk-label input.sk-toggleable__control:checked~label.sk-toggleable__label {background-color: #d4ebff;}#sk-container-id-1 input.sk-hidden--visually {border: 0;clip: rect(1px 1px 1px 1px);clip: rect(1px, 1px, 1px, 1px);height: 1px;margin: -1px;overflow: hidden;padding: 0;position: absolute;width: 1px;}#sk-container-id-1 div.sk-estimator {font-family: monospace;background-color: #f0f8ff;border: 1px dotted black;border-radius: 0.25em;box-sizing: border-box;margin-bottom: 0.5em;}#sk-container-id-1 div.sk-estimator:hover {background-color: #d4ebff;}#sk-container-id-1 div.sk-parallel-item::after {content: \"\";width: 100%;border-bottom: 1px solid gray;flex-grow: 1;}#sk-container-id-1 div.sk-label:hover label.sk-toggleable__label {background-color: #d4ebff;}#sk-container-id-1 div.sk-serial::before {content: \"\";position: absolute;border-left: 1px solid gray;box-sizing: border-box;top: 0;bottom: 0;left: 50%;z-index: 0;}#sk-container-id-1 div.sk-serial {display: flex;flex-direction: column;align-items: center;background-color: white;padding-right: 0.2em;padding-left: 0.2em;position: relative;}#sk-container-id-1 div.sk-item {position: relative;z-index: 1;}#sk-container-id-1 div.sk-parallel {display: flex;align-items: stretch;justify-content: center;background-color: white;position: relative;}#sk-container-id-1 div.sk-item::before, #sk-container-id-1 div.sk-parallel-item::before {content: \"\";position: absolute;border-left: 1px solid gray;box-sizing: border-box;top: 0;bottom: 0;left: 50%;z-index: -1;}#sk-container-id-1 div.sk-parallel-item {display: flex;flex-direction: column;z-index: 1;position: relative;background-color: white;}#sk-container-id-1 div.sk-parallel-item:first-child::after {align-self: flex-end;width: 50%;}#sk-container-id-1 div.sk-parallel-item:last-child::after {align-self: flex-start;width: 50%;}#sk-container-id-1 div.sk-parallel-item:only-child::after {width: 0;}#sk-container-id-1 div.sk-dashed-wrapped {border: 1px dashed gray;margin: 0 0.4em 0.5em 0.4em;box-sizing: border-box;padding-bottom: 0.4em;background-color: white;}#sk-container-id-1 div.sk-label label {font-family: monospace;font-weight: bold;display: inline-block;line-height: 1.2em;}#sk-container-id-1 div.sk-label-container {text-align: center;}#sk-container-id-1 div.sk-container {/* jupyter's `normalize.less` sets `[hidden] { display: none; }` but bootstrap.min.css set `[hidden] { display: none !important; }` so we also need the `!important` here to be able to override the default hidden behavior on the sphinx rendered scikit-learn.org. See: https://github.com/scikit-learn/scikit-learn/issues/21755 */display: inline-block !important;position: relative;}#sk-container-id-1 div.sk-text-repr-fallback {display: none;}</style><div id=\"sk-container-id-1\" class=\"sk-top-container\"><div class=\"sk-text-repr-fallback\"><pre>VotingClassifier(estimators=[(&#x27;Logistic Regression&#x27;,\n",
       "                              LogisticRegression(C=0.056, class_weight={},\n",
       "                                                 dual=False, fit_intercept=True,\n",
       "                                                 intercept_scaling=1,\n",
       "                                                 l1_ratio=None, max_iter=1000,\n",
       "                                                 multi_class=&#x27;auto&#x27;,\n",
       "                                                 n_jobs=None, penalty=&#x27;l2&#x27;,\n",
       "                                                 random_state=123,\n",
       "                                                 solver=&#x27;lbfgs&#x27;, tol=0.0001,\n",
       "                                                 verbose=0, warm_start=False)),\n",
       "                             (&#x27;Gradient Boosting Classifier&#x27;,\n",
       "                              GradientBoostingClassifier(ccp_a...\n",
       "                                                 base_estimator=&#x27;deprecated&#x27;,\n",
       "                                                 estimator=None,\n",
       "                                                 learning_rate=0.2,\n",
       "                                                 n_estimators=230,\n",
       "                                                 random_state=123)),\n",
       "                             (&#x27;Linear Discriminant Analysis&#x27;,\n",
       "                              LinearDiscriminantAnalysis(covariance_estimator=None,\n",
       "                                                         n_components=None,\n",
       "                                                         priors=None,\n",
       "                                                         shrinkage=0.2,\n",
       "                                                         solver=&#x27;eigen&#x27;,\n",
       "                                                         store_covariance=False,\n",
       "                                                         tol=0.0001))],\n",
       "                 flatten_transform=True, n_jobs=-1, verbose=False,\n",
       "                 voting=&#x27;soft&#x27;, weights=None)</pre><b>In a Jupyter environment, please rerun this cell to show the HTML representation or trust the notebook. <br />On GitHub, the HTML representation is unable to render, please try loading this page with nbviewer.org.</b></div><div class=\"sk-container\" hidden><div class=\"sk-item sk-dashed-wrapped\"><div class=\"sk-label-container\"><div class=\"sk-label sk-toggleable\"><input class=\"sk-toggleable__control sk-hidden--visually\" id=\"sk-estimator-id-1\" type=\"checkbox\" ><label for=\"sk-estimator-id-1\" class=\"sk-toggleable__label sk-toggleable__label-arrow\">VotingClassifier</label><div class=\"sk-toggleable__content\"><pre>VotingClassifier(estimators=[(&#x27;Logistic Regression&#x27;,\n",
       "                              LogisticRegression(C=0.056, class_weight={},\n",
       "                                                 dual=False, fit_intercept=True,\n",
       "                                                 intercept_scaling=1,\n",
       "                                                 l1_ratio=None, max_iter=1000,\n",
       "                                                 multi_class=&#x27;auto&#x27;,\n",
       "                                                 n_jobs=None, penalty=&#x27;l2&#x27;,\n",
       "                                                 random_state=123,\n",
       "                                                 solver=&#x27;lbfgs&#x27;, tol=0.0001,\n",
       "                                                 verbose=0, warm_start=False)),\n",
       "                             (&#x27;Gradient Boosting Classifier&#x27;,\n",
       "                              GradientBoostingClassifier(ccp_a...\n",
       "                                                 base_estimator=&#x27;deprecated&#x27;,\n",
       "                                                 estimator=None,\n",
       "                                                 learning_rate=0.2,\n",
       "                                                 n_estimators=230,\n",
       "                                                 random_state=123)),\n",
       "                             (&#x27;Linear Discriminant Analysis&#x27;,\n",
       "                              LinearDiscriminantAnalysis(covariance_estimator=None,\n",
       "                                                         n_components=None,\n",
       "                                                         priors=None,\n",
       "                                                         shrinkage=0.2,\n",
       "                                                         solver=&#x27;eigen&#x27;,\n",
       "                                                         store_covariance=False,\n",
       "                                                         tol=0.0001))],\n",
       "                 flatten_transform=True, n_jobs=-1, verbose=False,\n",
       "                 voting=&#x27;soft&#x27;, weights=None)</pre></div></div></div><div class=\"sk-parallel\"><div class=\"sk-parallel-item\"><div class=\"sk-item\"><div class=\"sk-label-container\"><div class=\"sk-label sk-toggleable\"><label>Logistic Regression</label></div></div><div class=\"sk-serial\"><div class=\"sk-item\"><div class=\"sk-estimator sk-toggleable\"><input class=\"sk-toggleable__control sk-hidden--visually\" id=\"sk-estimator-id-2\" type=\"checkbox\" ><label for=\"sk-estimator-id-2\" class=\"sk-toggleable__label sk-toggleable__label-arrow\">LogisticRegression</label><div class=\"sk-toggleable__content\"><pre>LogisticRegression(C=0.056, class_weight={}, max_iter=1000, random_state=123)</pre></div></div></div></div></div></div><div class=\"sk-parallel-item\"><div class=\"sk-item\"><div class=\"sk-label-container\"><div class=\"sk-label sk-toggleable\"><label>Gradient Boosting Classifier</label></div></div><div class=\"sk-serial\"><div class=\"sk-item\"><div class=\"sk-estimator sk-toggleable\"><input class=\"sk-toggleable__control sk-hidden--visually\" id=\"sk-estimator-id-3\" type=\"checkbox\" ><label for=\"sk-estimator-id-3\" class=\"sk-toggleable__label sk-toggleable__label-arrow\">GradientBoostingClassifier</label><div class=\"sk-toggleable__content\"><pre>GradientBoostingClassifier(learning_rate=0.0001, max_depth=9,\n",
       "                           max_features=&#x27;sqrt&#x27;, min_impurity_decrease=0.0005,\n",
       "                           min_samples_leaf=3, min_samples_split=7,\n",
       "                           n_estimators=180, random_state=123, subsample=0.75)</pre></div></div></div></div></div></div><div class=\"sk-parallel-item\"><div class=\"sk-item\"><div class=\"sk-label-container\"><div class=\"sk-label sk-toggleable\"><label>Ada Boost Classifier</label></div></div><div class=\"sk-serial\"><div class=\"sk-item\"><div class=\"sk-estimator sk-toggleable\"><input class=\"sk-toggleable__control sk-hidden--visually\" id=\"sk-estimator-id-4\" type=\"checkbox\" ><label for=\"sk-estimator-id-4\" class=\"sk-toggleable__label sk-toggleable__label-arrow\">AdaBoostClassifier</label><div class=\"sk-toggleable__content\"><pre>AdaBoostClassifier(learning_rate=0.2, n_estimators=230, random_state=123)</pre></div></div></div></div></div></div><div class=\"sk-parallel-item\"><div class=\"sk-item\"><div class=\"sk-label-container\"><div class=\"sk-label sk-toggleable\"><label>Linear Discriminant Analysis</label></div></div><div class=\"sk-serial\"><div class=\"sk-item\"><div class=\"sk-estimator sk-toggleable\"><input class=\"sk-toggleable__control sk-hidden--visually\" id=\"sk-estimator-id-5\" type=\"checkbox\" ><label for=\"sk-estimator-id-5\" class=\"sk-toggleable__label sk-toggleable__label-arrow\">LinearDiscriminantAnalysis</label><div class=\"sk-toggleable__content\"><pre>LinearDiscriminantAnalysis(shrinkage=0.2, solver=&#x27;eigen&#x27;)</pre></div></div></div></div></div></div></div></div></div></div>"
      ],
      "text/plain": [
       "VotingClassifier(estimators=[('Logistic Regression',\n",
       "                              LogisticRegression(C=0.056, class_weight={},\n",
       "                                                 dual=False, fit_intercept=True,\n",
       "                                                 intercept_scaling=1,\n",
       "                                                 l1_ratio=None, max_iter=1000,\n",
       "                                                 multi_class='auto',\n",
       "                                                 n_jobs=None, penalty='l2',\n",
       "                                                 random_state=123,\n",
       "                                                 solver='lbfgs', tol=0.0001,\n",
       "                                                 verbose=0, warm_start=False)),\n",
       "                             ('Gradient Boosting Classifier',\n",
       "                              GradientBoostingClassifier(ccp_a...\n",
       "                                                 base_estimator='deprecated',\n",
       "                                                 estimator=None,\n",
       "                                                 learning_rate=0.2,\n",
       "                                                 n_estimators=230,\n",
       "                                                 random_state=123)),\n",
       "                             ('Linear Discriminant Analysis',\n",
       "                              LinearDiscriminantAnalysis(covariance_estimator=None,\n",
       "                                                         n_components=None,\n",
       "                                                         priors=None,\n",
       "                                                         shrinkage=0.2,\n",
       "                                                         solver='eigen',\n",
       "                                                         store_covariance=False,\n",
       "                                                         tol=0.0001))],\n",
       "                 flatten_transform=True, n_jobs=-1, verbose=False,\n",
       "                 voting='soft', weights=None)"
      ]
     },
     "execution_count": 30,
     "metadata": {},
     "output_type": "execute_result"
    }
   ],
   "source": [
    "ensemble_model"
   ]
  },
  {
   "cell_type": "code",
   "execution_count": 31,
   "id": "30d45b3e-8acf-439a-bcb9-4af52ab41c20",
   "metadata": {
    "tags": []
   },
   "outputs": [
    {
     "data": {
      "text/plain": [
       "array(['AGE', 'ALCSTAT', 'ARTH1', 'BMI', 'CHLEV', 'EPHEV', 'FSBALANC',\n",
       "       'GENDER', 'HYPEV', 'HYPMDEV2', 'HYPMED2', 'INTIL2W', 'HEIGHT(cm)',\n",
       "       'WEIGHT(kg)', 'HISPAN_I_0.0', 'HISPAN_I_1.0', 'HISPAN_I_2.0',\n",
       "       'HISPAN_I_3.0', 'HISPAN_I_4.0', 'HISPAN_I_5.0', 'HISPAN_I_6.0',\n",
       "       'HISPAN_I_7.0', 'HISPAN_I_8.0', 'HISPAN_I_12.0', 'HISPAN_I_nan',\n",
       "       'MRACBPI2_1.0', 'MRACBPI2_2.0', 'MRACBPI2_3.0', 'MRACBPI2_6.0',\n",
       "       'MRACBPI2_7.0', 'MRACBPI2_12.0', 'MRACBPI2_16.0', 'MRACBPI2_17.0',\n",
       "       'MRACBPI2_nan', 'MRACRPI2_1.0', 'MRACRPI2_2.0', 'MRACRPI2_3.0',\n",
       "       'MRACRPI2_9.0', 'MRACRPI2_10.0', 'MRACRPI2_11.0', 'MRACRPI2_15.0',\n",
       "       'MRACRPI2_16.0', 'MRACRPI2_17.0', 'MRACRPI2_nan', 'REGION_1.0',\n",
       "       'REGION_2.0', 'REGION_3.0', 'REGION_4.0', 'REGION_nan'],\n",
       "      dtype=object)"
      ]
     },
     "execution_count": 31,
     "metadata": {},
     "output_type": "execute_result"
    }
   ],
   "source": [
    "tuned_models[2].feature_names_in_"
   ]
  },
  {
   "cell_type": "code",
   "execution_count": 32,
   "id": "563f0288-2345-49d0-931c-e469d15a882b",
   "metadata": {
    "tags": []
   },
   "outputs": [
    {
     "data": {
      "text/plain": [
       "array(['AGE', 'BMI', 'HEIGHT(cm)', 'WEIGHT(kg)'], dtype=object)"
      ]
     },
     "execution_count": 32,
     "metadata": {},
     "output_type": "execute_result"
    }
   ],
   "source": [
    "tuned_models[2].feature_names_in_[tuned_models[2].feature_importances_ >= 0.05]"
   ]
  },
  {
   "cell_type": "code",
   "execution_count": 33,
   "id": "c0c48979-cba1-4ad7-a2e9-60dffc4f3f99",
   "metadata": {
    "tags": []
   },
   "outputs": [],
   "source": [
    "# 앙상블 모델을 최종 한개의 모델로 마지막 학습 / cross_val 사용\n",
    "final_model = finalize_model(ensemble_model)"
   ]
  },
  {
   "cell_type": "code",
   "execution_count": 34,
   "id": "b4b53c20-cb6f-431b-9c59-7c7aa1bd768f",
   "metadata": {
    "tags": []
   },
   "outputs": [
    {
     "data": {
      "text/html": [
       "<style>#sk-container-id-2 {color: black;background-color: white;}#sk-container-id-2 pre{padding: 0;}#sk-container-id-2 div.sk-toggleable {background-color: white;}#sk-container-id-2 label.sk-toggleable__label {cursor: pointer;display: block;width: 100%;margin-bottom: 0;padding: 0.3em;box-sizing: border-box;text-align: center;}#sk-container-id-2 label.sk-toggleable__label-arrow:before {content: \"▸\";float: left;margin-right: 0.25em;color: #696969;}#sk-container-id-2 label.sk-toggleable__label-arrow:hover:before {color: black;}#sk-container-id-2 div.sk-estimator:hover label.sk-toggleable__label-arrow:before {color: black;}#sk-container-id-2 div.sk-toggleable__content {max-height: 0;max-width: 0;overflow: hidden;text-align: left;background-color: #f0f8ff;}#sk-container-id-2 div.sk-toggleable__content pre {margin: 0.2em;color: black;border-radius: 0.25em;background-color: #f0f8ff;}#sk-container-id-2 input.sk-toggleable__control:checked~div.sk-toggleable__content {max-height: 200px;max-width: 100%;overflow: auto;}#sk-container-id-2 input.sk-toggleable__control:checked~label.sk-toggleable__label-arrow:before {content: \"▾\";}#sk-container-id-2 div.sk-estimator input.sk-toggleable__control:checked~label.sk-toggleable__label {background-color: #d4ebff;}#sk-container-id-2 div.sk-label input.sk-toggleable__control:checked~label.sk-toggleable__label {background-color: #d4ebff;}#sk-container-id-2 input.sk-hidden--visually {border: 0;clip: rect(1px 1px 1px 1px);clip: rect(1px, 1px, 1px, 1px);height: 1px;margin: -1px;overflow: hidden;padding: 0;position: absolute;width: 1px;}#sk-container-id-2 div.sk-estimator {font-family: monospace;background-color: #f0f8ff;border: 1px dotted black;border-radius: 0.25em;box-sizing: border-box;margin-bottom: 0.5em;}#sk-container-id-2 div.sk-estimator:hover {background-color: #d4ebff;}#sk-container-id-2 div.sk-parallel-item::after {content: \"\";width: 100%;border-bottom: 1px solid gray;flex-grow: 1;}#sk-container-id-2 div.sk-label:hover label.sk-toggleable__label {background-color: #d4ebff;}#sk-container-id-2 div.sk-serial::before {content: \"\";position: absolute;border-left: 1px solid gray;box-sizing: border-box;top: 0;bottom: 0;left: 50%;z-index: 0;}#sk-container-id-2 div.sk-serial {display: flex;flex-direction: column;align-items: center;background-color: white;padding-right: 0.2em;padding-left: 0.2em;position: relative;}#sk-container-id-2 div.sk-item {position: relative;z-index: 1;}#sk-container-id-2 div.sk-parallel {display: flex;align-items: stretch;justify-content: center;background-color: white;position: relative;}#sk-container-id-2 div.sk-item::before, #sk-container-id-2 div.sk-parallel-item::before {content: \"\";position: absolute;border-left: 1px solid gray;box-sizing: border-box;top: 0;bottom: 0;left: 50%;z-index: -1;}#sk-container-id-2 div.sk-parallel-item {display: flex;flex-direction: column;z-index: 1;position: relative;background-color: white;}#sk-container-id-2 div.sk-parallel-item:first-child::after {align-self: flex-end;width: 50%;}#sk-container-id-2 div.sk-parallel-item:last-child::after {align-self: flex-start;width: 50%;}#sk-container-id-2 div.sk-parallel-item:only-child::after {width: 0;}#sk-container-id-2 div.sk-dashed-wrapped {border: 1px dashed gray;margin: 0 0.4em 0.5em 0.4em;box-sizing: border-box;padding-bottom: 0.4em;background-color: white;}#sk-container-id-2 div.sk-label label {font-family: monospace;font-weight: bold;display: inline-block;line-height: 1.2em;}#sk-container-id-2 div.sk-label-container {text-align: center;}#sk-container-id-2 div.sk-container {/* jupyter's `normalize.less` sets `[hidden] { display: none; }` but bootstrap.min.css set `[hidden] { display: none !important; }` so we also need the `!important` here to be able to override the default hidden behavior on the sphinx rendered scikit-learn.org. See: https://github.com/scikit-learn/scikit-learn/issues/21755 */display: inline-block !important;position: relative;}#sk-container-id-2 div.sk-text-repr-fallback {display: none;}</style><div id=\"sk-container-id-2\" class=\"sk-top-container\"><div class=\"sk-text-repr-fallback\"><pre>Pipeline(memory=Memory(location=None),\n",
       "         steps=[(&#x27;clean_column_names&#x27;,\n",
       "                 TransformerWrapper(exclude=None, include=None,\n",
       "                                    transformer=CleanColumnNames(match=&#x27;[\\\\]\\\\[\\\\,\\\\{\\\\}\\\\&quot;\\\\:]+&#x27;))),\n",
       "                (&#x27;actual_estimator&#x27;,\n",
       "                 VotingClassifier(estimators=[(&#x27;Logistic Regression&#x27;,\n",
       "                                               LogisticRegression(C=0.056,\n",
       "                                                                  class_weight={},\n",
       "                                                                  dual=False,\n",
       "                                                                  fit_intercept=True,\n",
       "                                                                  intercept_scaling=1,\n",
       "                                                                  l1_ratio=...\n",
       "                                                                  base_estimator=&#x27;deprecated&#x27;,\n",
       "                                                                  estimator=None,\n",
       "                                                                  learning_rate=0.2,\n",
       "                                                                  n_estimators=230,\n",
       "                                                                  random_state=123)),\n",
       "                                              (&#x27;Linear Discriminant Analysis&#x27;,\n",
       "                                               LinearDiscriminantAnalysis(covariance_estimator=None,\n",
       "                                                                          n_components=None,\n",
       "                                                                          priors=None,\n",
       "                                                                          shrinkage=0.2,\n",
       "                                                                          solver=&#x27;eigen&#x27;,\n",
       "                                                                          store_covariance=False,\n",
       "                                                                          tol=0.0001))],\n",
       "                                  flatten_transform=True, n_jobs=-1,\n",
       "                                  verbose=False, voting=&#x27;soft&#x27;,\n",
       "                                  weights=None))],\n",
       "         verbose=False)</pre><b>In a Jupyter environment, please rerun this cell to show the HTML representation or trust the notebook. <br />On GitHub, the HTML representation is unable to render, please try loading this page with nbviewer.org.</b></div><div class=\"sk-container\" hidden><div class=\"sk-item sk-dashed-wrapped\"><div class=\"sk-label-container\"><div class=\"sk-label sk-toggleable\"><input class=\"sk-toggleable__control sk-hidden--visually\" id=\"sk-estimator-id-6\" type=\"checkbox\" ><label for=\"sk-estimator-id-6\" class=\"sk-toggleable__label sk-toggleable__label-arrow\">Pipeline</label><div class=\"sk-toggleable__content\"><pre>Pipeline(memory=Memory(location=None),\n",
       "         steps=[(&#x27;clean_column_names&#x27;,\n",
       "                 TransformerWrapper(exclude=None, include=None,\n",
       "                                    transformer=CleanColumnNames(match=&#x27;[\\\\]\\\\[\\\\,\\\\{\\\\}\\\\&quot;\\\\:]+&#x27;))),\n",
       "                (&#x27;actual_estimator&#x27;,\n",
       "                 VotingClassifier(estimators=[(&#x27;Logistic Regression&#x27;,\n",
       "                                               LogisticRegression(C=0.056,\n",
       "                                                                  class_weight={},\n",
       "                                                                  dual=False,\n",
       "                                                                  fit_intercept=True,\n",
       "                                                                  intercept_scaling=1,\n",
       "                                                                  l1_ratio=...\n",
       "                                                                  base_estimator=&#x27;deprecated&#x27;,\n",
       "                                                                  estimator=None,\n",
       "                                                                  learning_rate=0.2,\n",
       "                                                                  n_estimators=230,\n",
       "                                                                  random_state=123)),\n",
       "                                              (&#x27;Linear Discriminant Analysis&#x27;,\n",
       "                                               LinearDiscriminantAnalysis(covariance_estimator=None,\n",
       "                                                                          n_components=None,\n",
       "                                                                          priors=None,\n",
       "                                                                          shrinkage=0.2,\n",
       "                                                                          solver=&#x27;eigen&#x27;,\n",
       "                                                                          store_covariance=False,\n",
       "                                                                          tol=0.0001))],\n",
       "                                  flatten_transform=True, n_jobs=-1,\n",
       "                                  verbose=False, voting=&#x27;soft&#x27;,\n",
       "                                  weights=None))],\n",
       "         verbose=False)</pre></div></div></div><div class=\"sk-serial\"><div class=\"sk-item sk-dashed-wrapped\"><div class=\"sk-label-container\"><div class=\"sk-label sk-toggleable\"><input class=\"sk-toggleable__control sk-hidden--visually\" id=\"sk-estimator-id-7\" type=\"checkbox\" ><label for=\"sk-estimator-id-7\" class=\"sk-toggleable__label sk-toggleable__label-arrow\">clean_column_names: TransformerWrapper</label><div class=\"sk-toggleable__content\"><pre>TransformerWrapper(exclude=None, include=None,\n",
       "                   transformer=CleanColumnNames(match=&#x27;[\\\\]\\\\[\\\\,\\\\{\\\\}\\\\&quot;\\\\:]+&#x27;))</pre></div></div></div><div class=\"sk-parallel\"><div class=\"sk-parallel-item\"><div class=\"sk-item\"><div class=\"sk-label-container\"><div class=\"sk-label sk-toggleable\"><input class=\"sk-toggleable__control sk-hidden--visually\" id=\"sk-estimator-id-8\" type=\"checkbox\" ><label for=\"sk-estimator-id-8\" class=\"sk-toggleable__label sk-toggleable__label-arrow\">transformer: CleanColumnNames</label><div class=\"sk-toggleable__content\"><pre>CleanColumnNames()</pre></div></div></div><div class=\"sk-serial\"><div class=\"sk-item\"><div class=\"sk-estimator sk-toggleable\"><input class=\"sk-toggleable__control sk-hidden--visually\" id=\"sk-estimator-id-9\" type=\"checkbox\" ><label for=\"sk-estimator-id-9\" class=\"sk-toggleable__label sk-toggleable__label-arrow\">CleanColumnNames</label><div class=\"sk-toggleable__content\"><pre>CleanColumnNames()</pre></div></div></div></div></div></div></div></div><div class=\"sk-item sk-dashed-wrapped\"><div class=\"sk-label-container\"><div class=\"sk-label sk-toggleable\"><input class=\"sk-toggleable__control sk-hidden--visually\" id=\"sk-estimator-id-10\" type=\"checkbox\" ><label for=\"sk-estimator-id-10\" class=\"sk-toggleable__label sk-toggleable__label-arrow\">actual_estimator: VotingClassifier</label><div class=\"sk-toggleable__content\"><pre>VotingClassifier(estimators=[(&#x27;Logistic Regression&#x27;,\n",
       "                              LogisticRegression(C=0.056, class_weight={},\n",
       "                                                 dual=False, fit_intercept=True,\n",
       "                                                 intercept_scaling=1,\n",
       "                                                 l1_ratio=None, max_iter=1000,\n",
       "                                                 multi_class=&#x27;auto&#x27;,\n",
       "                                                 n_jobs=None, penalty=&#x27;l2&#x27;,\n",
       "                                                 random_state=123,\n",
       "                                                 solver=&#x27;lbfgs&#x27;, tol=0.0001,\n",
       "                                                 verbose=0, warm_start=False)),\n",
       "                             (&#x27;Gradient Boosting Classifier&#x27;,\n",
       "                              GradientBoostingClassifier(ccp_a...\n",
       "                                                 base_estimator=&#x27;deprecated&#x27;,\n",
       "                                                 estimator=None,\n",
       "                                                 learning_rate=0.2,\n",
       "                                                 n_estimators=230,\n",
       "                                                 random_state=123)),\n",
       "                             (&#x27;Linear Discriminant Analysis&#x27;,\n",
       "                              LinearDiscriminantAnalysis(covariance_estimator=None,\n",
       "                                                         n_components=None,\n",
       "                                                         priors=None,\n",
       "                                                         shrinkage=0.2,\n",
       "                                                         solver=&#x27;eigen&#x27;,\n",
       "                                                         store_covariance=False,\n",
       "                                                         tol=0.0001))],\n",
       "                 flatten_transform=True, n_jobs=-1, verbose=False,\n",
       "                 voting=&#x27;soft&#x27;, weights=None)</pre></div></div></div><div class=\"sk-parallel\"><div class=\"sk-parallel-item\"><div class=\"sk-item\"><div class=\"sk-label-container\"><div class=\"sk-label sk-toggleable\"><label>Logistic Regression</label></div></div><div class=\"sk-serial\"><div class=\"sk-item\"><div class=\"sk-estimator sk-toggleable\"><input class=\"sk-toggleable__control sk-hidden--visually\" id=\"sk-estimator-id-11\" type=\"checkbox\" ><label for=\"sk-estimator-id-11\" class=\"sk-toggleable__label sk-toggleable__label-arrow\">LogisticRegression</label><div class=\"sk-toggleable__content\"><pre>LogisticRegression(C=0.056, class_weight={}, max_iter=1000, random_state=123)</pre></div></div></div></div></div></div><div class=\"sk-parallel-item\"><div class=\"sk-item\"><div class=\"sk-label-container\"><div class=\"sk-label sk-toggleable\"><label>Gradient Boosting Classifier</label></div></div><div class=\"sk-serial\"><div class=\"sk-item\"><div class=\"sk-estimator sk-toggleable\"><input class=\"sk-toggleable__control sk-hidden--visually\" id=\"sk-estimator-id-12\" type=\"checkbox\" ><label for=\"sk-estimator-id-12\" class=\"sk-toggleable__label sk-toggleable__label-arrow\">GradientBoostingClassifier</label><div class=\"sk-toggleable__content\"><pre>GradientBoostingClassifier(learning_rate=0.0001, max_depth=9,\n",
       "                           max_features=&#x27;sqrt&#x27;, min_impurity_decrease=0.0005,\n",
       "                           min_samples_leaf=3, min_samples_split=7,\n",
       "                           n_estimators=180, random_state=123, subsample=0.75)</pre></div></div></div></div></div></div><div class=\"sk-parallel-item\"><div class=\"sk-item\"><div class=\"sk-label-container\"><div class=\"sk-label sk-toggleable\"><label>Ada Boost Classifier</label></div></div><div class=\"sk-serial\"><div class=\"sk-item\"><div class=\"sk-estimator sk-toggleable\"><input class=\"sk-toggleable__control sk-hidden--visually\" id=\"sk-estimator-id-13\" type=\"checkbox\" ><label for=\"sk-estimator-id-13\" class=\"sk-toggleable__label sk-toggleable__label-arrow\">AdaBoostClassifier</label><div class=\"sk-toggleable__content\"><pre>AdaBoostClassifier(learning_rate=0.2, n_estimators=230, random_state=123)</pre></div></div></div></div></div></div><div class=\"sk-parallel-item\"><div class=\"sk-item\"><div class=\"sk-label-container\"><div class=\"sk-label sk-toggleable\"><label>Linear Discriminant Analysis</label></div></div><div class=\"sk-serial\"><div class=\"sk-item\"><div class=\"sk-estimator sk-toggleable\"><input class=\"sk-toggleable__control sk-hidden--visually\" id=\"sk-estimator-id-14\" type=\"checkbox\" ><label for=\"sk-estimator-id-14\" class=\"sk-toggleable__label sk-toggleable__label-arrow\">LinearDiscriminantAnalysis</label><div class=\"sk-toggleable__content\"><pre>LinearDiscriminantAnalysis(shrinkage=0.2, solver=&#x27;eigen&#x27;)</pre></div></div></div></div></div></div></div></div></div></div></div></div>"
      ],
      "text/plain": [
       "Pipeline(memory=Memory(location=None),\n",
       "         steps=[('clean_column_names',\n",
       "                 TransformerWrapper(exclude=None, include=None,\n",
       "                                    transformer=CleanColumnNames(match='[\\\\]\\\\[\\\\,\\\\{\\\\}\\\\\"\\\\:]+'))),\n",
       "                ('actual_estimator',\n",
       "                 VotingClassifier(estimators=[('Logistic Regression',\n",
       "                                               LogisticRegression(C=0.056,\n",
       "                                                                  class_weight={},\n",
       "                                                                  dual=False,\n",
       "                                                                  fit_intercept=True,\n",
       "                                                                  intercept_scaling=1,\n",
       "                                                                  l1_ratio=...\n",
       "                                                                  base_estimator='deprecated',\n",
       "                                                                  estimator=None,\n",
       "                                                                  learning_rate=0.2,\n",
       "                                                                  n_estimators=230,\n",
       "                                                                  random_state=123)),\n",
       "                                              ('Linear Discriminant Analysis',\n",
       "                                               LinearDiscriminantAnalysis(covariance_estimator=None,\n",
       "                                                                          n_components=None,\n",
       "                                                                          priors=None,\n",
       "                                                                          shrinkage=0.2,\n",
       "                                                                          solver='eigen',\n",
       "                                                                          store_covariance=False,\n",
       "                                                                          tol=0.0001))],\n",
       "                                  flatten_transform=True, n_jobs=-1,\n",
       "                                  verbose=False, voting='soft',\n",
       "                                  weights=None))],\n",
       "         verbose=False)"
      ]
     },
     "execution_count": 34,
     "metadata": {},
     "output_type": "execute_result"
    }
   ],
   "source": [
    "final_model"
   ]
  },
  {
   "cell_type": "code",
   "execution_count": 35,
   "id": "e3be0388-ee34-48db-acc5-0d8a3a79dacc",
   "metadata": {
    "tags": []
   },
   "outputs": [
    {
     "data": {
      "text/html": [],
      "text/plain": [
       "<IPython.core.display.HTML object>"
      ]
     },
     "metadata": {},
     "output_type": "display_data"
    },
    {
     "data": {
      "image/png": "[encoded data removed]",
      "text/plain": [
       "<Figure size 800x550 with 1 Axes>"
      ]
     },
     "metadata": {},
     "output_type": "display_data"
    }
   ],
   "source": [
    "plot_model(final_model,plot='confusion_matrix')"
   ]
  },
  {
   "cell_type": "code",
   "execution_count": 36,
   "id": "4d33f6ea-d482-49ed-8582-4323307f7d54",
   "metadata": {
    "tags": []
   },
   "outputs": [
    {
     "data": {
      "text/html": [],
      "text/plain": [
       "<IPython.core.display.HTML object>"
      ]
     },
     "metadata": {},
     "output_type": "display_data"
    }
   ],
   "source": [
    "# 검증 예측\n",
    "pred = predict_model(final_model,data=X_val,verbose=True)"
   ]
  },
  {
   "cell_type": "code",
   "execution_count": 37,
   "id": "c86292dd-675f-4c68-a697-765e7a67bd89",
   "metadata": {
    "tags": []
   },
   "outputs": [
    {
     "data": {
      "text/plain": [
       "array([[0.4702694 , 0.5297306 ],\n",
       "       [0.27567769, 0.72432231],\n",
       "       [0.65999339, 0.34000661],\n",
       "       ...,\n",
       "       [0.71837228, 0.28162772],\n",
       "       [0.70043265, 0.29956735],\n",
       "       [0.34578209, 0.65421791]])"
      ]
     },
     "execution_count": 37,
     "metadata": {},
     "output_type": "execute_result"
    }
   ],
   "source": [
    "final_model.predict_proba(X_val)"
   ]
  },
  {
   "cell_type": "code",
   "execution_count": 38,
   "id": "0ae62213-6654-4b94-b006-a20dfa9a2151",
   "metadata": {
    "tags": []
   },
   "outputs": [
    {
     "data": {
      "text/html": [
       "<div>\n",
       "<style scoped>\n",
       "    .dataframe tbody tr th:only-of-type {\n",
       "        vertical-align: middle;\n",
       "    }\n",
       "\n",
       "    .dataframe tbody tr th {\n",
       "        vertical-align: top;\n",
       "    }\n",
       "\n",
       "    .dataframe thead th {\n",
       "        text-align: right;\n",
       "    }\n",
       "</style>\n",
       "<table border=\"1\" class=\"dataframe\">\n",
       "  <thead>\n",
       "    <tr style=\"text-align: right;\">\n",
       "      <th></th>\n",
       "      <th>AGE</th>\n",
       "      <th>ALCSTAT</th>\n",
       "      <th>ARTH1</th>\n",
       "      <th>BMI</th>\n",
       "      <th>CHLEV</th>\n",
       "      <th>EPHEV</th>\n",
       "      <th>FSBALANC</th>\n",
       "      <th>GENDER</th>\n",
       "      <th>HYPEV</th>\n",
       "      <th>HYPMDEV2</th>\n",
       "      <th>...</th>\n",
       "      <th>MRACRPI2_16.0</th>\n",
       "      <th>MRACRPI2_17.0</th>\n",
       "      <th>MRACRPI2_nan</th>\n",
       "      <th>REGION_1.0</th>\n",
       "      <th>REGION_2.0</th>\n",
       "      <th>REGION_3.0</th>\n",
       "      <th>REGION_4.0</th>\n",
       "      <th>REGION_nan</th>\n",
       "      <th>prediction_label</th>\n",
       "      <th>prediction_score</th>\n",
       "    </tr>\n",
       "  </thead>\n",
       "  <tbody>\n",
       "    <tr>\n",
       "      <th>7662</th>\n",
       "      <td>0.075257</td>\n",
       "      <td>0.0</td>\n",
       "      <td>1.0</td>\n",
       "      <td>0.585373</td>\n",
       "      <td>0.0</td>\n",
       "      <td>0.0</td>\n",
       "      <td>0</td>\n",
       "      <td>1.0</td>\n",
       "      <td>1.0</td>\n",
       "      <td>1.0</td>\n",
       "      <td>...</td>\n",
       "      <td>0.0</td>\n",
       "      <td>0.0</td>\n",
       "      <td>0.0</td>\n",
       "      <td>1.0</td>\n",
       "      <td>0.0</td>\n",
       "      <td>0.0</td>\n",
       "      <td>0.0</td>\n",
       "      <td>0.0</td>\n",
       "      <td>1</td>\n",
       "      <td>0.5297</td>\n",
       "    </tr>\n",
       "    <tr>\n",
       "      <th>22367</th>\n",
       "      <td>0.758257</td>\n",
       "      <td>0.0</td>\n",
       "      <td>1.0</td>\n",
       "      <td>1.131129</td>\n",
       "      <td>1.0</td>\n",
       "      <td>0.0</td>\n",
       "      <td>1</td>\n",
       "      <td>1.0</td>\n",
       "      <td>1.0</td>\n",
       "      <td>1.0</td>\n",
       "      <td>...</td>\n",
       "      <td>0.0</td>\n",
       "      <td>0.0</td>\n",
       "      <td>0.0</td>\n",
       "      <td>0.0</td>\n",
       "      <td>0.0</td>\n",
       "      <td>1.0</td>\n",
       "      <td>0.0</td>\n",
       "      <td>0.0</td>\n",
       "      <td>1</td>\n",
       "      <td>0.7243</td>\n",
       "    </tr>\n",
       "    <tr>\n",
       "      <th>1058</th>\n",
       "      <td>0.189091</td>\n",
       "      <td>0.0</td>\n",
       "      <td>0.0</td>\n",
       "      <td>-0.658912</td>\n",
       "      <td>0.0</td>\n",
       "      <td>0.0</td>\n",
       "      <td>0</td>\n",
       "      <td>0.0</td>\n",
       "      <td>0.0</td>\n",
       "      <td>0.0</td>\n",
       "      <td>...</td>\n",
       "      <td>0.0</td>\n",
       "      <td>0.0</td>\n",
       "      <td>0.0</td>\n",
       "      <td>0.0</td>\n",
       "      <td>0.0</td>\n",
       "      <td>1.0</td>\n",
       "      <td>0.0</td>\n",
       "      <td>0.0</td>\n",
       "      <td>0</td>\n",
       "      <td>0.6600</td>\n",
       "    </tr>\n",
       "    <tr>\n",
       "      <th>12550</th>\n",
       "      <td>0.530590</td>\n",
       "      <td>0.0</td>\n",
       "      <td>1.0</td>\n",
       "      <td>-0.782028</td>\n",
       "      <td>1.0</td>\n",
       "      <td>0.0</td>\n",
       "      <td>1</td>\n",
       "      <td>0.0</td>\n",
       "      <td>1.0</td>\n",
       "      <td>1.0</td>\n",
       "      <td>...</td>\n",
       "      <td>0.0</td>\n",
       "      <td>0.0</td>\n",
       "      <td>0.0</td>\n",
       "      <td>0.0</td>\n",
       "      <td>0.0</td>\n",
       "      <td>1.0</td>\n",
       "      <td>0.0</td>\n",
       "      <td>0.0</td>\n",
       "      <td>1</td>\n",
       "      <td>0.6959</td>\n",
       "    </tr>\n",
       "    <tr>\n",
       "      <th>19943</th>\n",
       "      <td>-0.721575</td>\n",
       "      <td>1.0</td>\n",
       "      <td>0.0</td>\n",
       "      <td>0.702564</td>\n",
       "      <td>0.0</td>\n",
       "      <td>0.0</td>\n",
       "      <td>0</td>\n",
       "      <td>1.0</td>\n",
       "      <td>0.0</td>\n",
       "      <td>0.0</td>\n",
       "      <td>...</td>\n",
       "      <td>0.0</td>\n",
       "      <td>0.0</td>\n",
       "      <td>0.0</td>\n",
       "      <td>0.0</td>\n",
       "      <td>0.0</td>\n",
       "      <td>1.0</td>\n",
       "      <td>0.0</td>\n",
       "      <td>0.0</td>\n",
       "      <td>0</td>\n",
       "      <td>0.5947</td>\n",
       "    </tr>\n",
       "    <tr>\n",
       "      <th>...</th>\n",
       "      <td>...</td>\n",
       "      <td>...</td>\n",
       "      <td>...</td>\n",
       "      <td>...</td>\n",
       "      <td>...</td>\n",
       "      <td>...</td>\n",
       "      <td>...</td>\n",
       "      <td>...</td>\n",
       "      <td>...</td>\n",
       "      <td>...</td>\n",
       "      <td>...</td>\n",
       "      <td>...</td>\n",
       "      <td>...</td>\n",
       "      <td>...</td>\n",
       "      <td>...</td>\n",
       "      <td>...</td>\n",
       "      <td>...</td>\n",
       "      <td>...</td>\n",
       "      <td>...</td>\n",
       "      <td>...</td>\n",
       "      <td>...</td>\n",
       "    </tr>\n",
       "    <tr>\n",
       "      <th>3846</th>\n",
       "      <td>-0.152409</td>\n",
       "      <td>0.0</td>\n",
       "      <td>1.0</td>\n",
       "      <td>-0.250956</td>\n",
       "      <td>1.0</td>\n",
       "      <td>0.0</td>\n",
       "      <td>0</td>\n",
       "      <td>1.0</td>\n",
       "      <td>1.0</td>\n",
       "      <td>1.0</td>\n",
       "      <td>...</td>\n",
       "      <td>0.0</td>\n",
       "      <td>0.0</td>\n",
       "      <td>0.0</td>\n",
       "      <td>0.0</td>\n",
       "      <td>1.0</td>\n",
       "      <td>0.0</td>\n",
       "      <td>0.0</td>\n",
       "      <td>0.0</td>\n",
       "      <td>1</td>\n",
       "      <td>0.5905</td>\n",
       "    </tr>\n",
       "    <tr>\n",
       "      <th>17143</th>\n",
       "      <td>-0.721575</td>\n",
       "      <td>0.0</td>\n",
       "      <td>0.0</td>\n",
       "      <td>0.553687</td>\n",
       "      <td>1.0</td>\n",
       "      <td>0.0</td>\n",
       "      <td>0</td>\n",
       "      <td>0.0</td>\n",
       "      <td>1.0</td>\n",
       "      <td>1.0</td>\n",
       "      <td>...</td>\n",
       "      <td>0.0</td>\n",
       "      <td>0.0</td>\n",
       "      <td>0.0</td>\n",
       "      <td>0.0</td>\n",
       "      <td>0.0</td>\n",
       "      <td>1.0</td>\n",
       "      <td>0.0</td>\n",
       "      <td>0.0</td>\n",
       "      <td>1</td>\n",
       "      <td>0.5830</td>\n",
       "    </tr>\n",
       "    <tr>\n",
       "      <th>9123</th>\n",
       "      <td>-2.201407</td>\n",
       "      <td>1.0</td>\n",
       "      <td>0.0</td>\n",
       "      <td>-1.299042</td>\n",
       "      <td>0.0</td>\n",
       "      <td>0.0</td>\n",
       "      <td>0</td>\n",
       "      <td>0.0</td>\n",
       "      <td>0.0</td>\n",
       "      <td>0.0</td>\n",
       "      <td>...</td>\n",
       "      <td>0.0</td>\n",
       "      <td>0.0</td>\n",
       "      <td>0.0</td>\n",
       "      <td>0.0</td>\n",
       "      <td>0.0</td>\n",
       "      <td>1.0</td>\n",
       "      <td>0.0</td>\n",
       "      <td>0.0</td>\n",
       "      <td>0</td>\n",
       "      <td>0.7184</td>\n",
       "    </tr>\n",
       "    <tr>\n",
       "      <th>4706</th>\n",
       "      <td>-1.518408</td>\n",
       "      <td>1.0</td>\n",
       "      <td>0.0</td>\n",
       "      <td>-0.438953</td>\n",
       "      <td>0.0</td>\n",
       "      <td>0.0</td>\n",
       "      <td>0</td>\n",
       "      <td>0.0</td>\n",
       "      <td>0.0</td>\n",
       "      <td>0.0</td>\n",
       "      <td>...</td>\n",
       "      <td>0.0</td>\n",
       "      <td>0.0</td>\n",
       "      <td>0.0</td>\n",
       "      <td>0.0</td>\n",
       "      <td>0.0</td>\n",
       "      <td>1.0</td>\n",
       "      <td>0.0</td>\n",
       "      <td>0.0</td>\n",
       "      <td>0</td>\n",
       "      <td>0.7004</td>\n",
       "    </tr>\n",
       "    <tr>\n",
       "      <th>6848</th>\n",
       "      <td>0.473674</td>\n",
       "      <td>1.0</td>\n",
       "      <td>0.0</td>\n",
       "      <td>-0.711748</td>\n",
       "      <td>1.0</td>\n",
       "      <td>0.0</td>\n",
       "      <td>0</td>\n",
       "      <td>1.0</td>\n",
       "      <td>1.0</td>\n",
       "      <td>1.0</td>\n",
       "      <td>...</td>\n",
       "      <td>0.0</td>\n",
       "      <td>0.0</td>\n",
       "      <td>0.0</td>\n",
       "      <td>0.0</td>\n",
       "      <td>0.0</td>\n",
       "      <td>0.0</td>\n",
       "      <td>1.0</td>\n",
       "      <td>0.0</td>\n",
       "      <td>1</td>\n",
       "      <td>0.6542</td>\n",
       "    </tr>\n",
       "  </tbody>\n",
       "</table>\n",
       "<p>1232 rows × 51 columns</p>\n",
       "</div>"
      ],
      "text/plain": [
       "            AGE  ALCSTAT  ARTH1       BMI  CHLEV  EPHEV  FSBALANC  GENDER  \\\n",
       "7662   0.075257      0.0    1.0  0.585373    0.0    0.0         0     1.0   \n",
       "22367  0.758257      0.0    1.0  1.131129    1.0    0.0         1     1.0   \n",
       "1058   0.189091      0.0    0.0 -0.658912    0.0    0.0         0     0.0   \n",
       "12550  0.530590      0.0    1.0 -0.782028    1.0    0.0         1     0.0   \n",
       "19943 -0.721575      1.0    0.0  0.702564    0.0    0.0         0     1.0   \n",
       "...         ...      ...    ...       ...    ...    ...       ...     ...   \n",
       "3846  -0.152409      0.0    1.0 -0.250956    1.0    0.0         0     1.0   \n",
       "17143 -0.721575      0.0    0.0  0.553687    1.0    0.0         0     0.0   \n",
       "9123  -2.201407      1.0    0.0 -1.299042    0.0    0.0         0     0.0   \n",
       "4706  -1.518408      1.0    0.0 -0.438953    0.0    0.0         0     0.0   \n",
       "6848   0.473674      1.0    0.0 -0.711748    1.0    0.0         0     1.0   \n",
       "\n",
       "       HYPEV  HYPMDEV2  ...  MRACRPI2_16.0  MRACRPI2_17.0  MRACRPI2_nan  \\\n",
       "7662     1.0       1.0  ...            0.0            0.0           0.0   \n",
       "22367    1.0       1.0  ...            0.0            0.0           0.0   \n",
       "1058     0.0       0.0  ...            0.0            0.0           0.0   \n",
       "12550    1.0       1.0  ...            0.0            0.0           0.0   \n",
       "19943    0.0       0.0  ...            0.0            0.0           0.0   \n",
       "...      ...       ...  ...            ...            ...           ...   \n",
       "3846     1.0       1.0  ...            0.0            0.0           0.0   \n",
       "17143    1.0       1.0  ...            0.0            0.0           0.0   \n",
       "9123     0.0       0.0  ...            0.0            0.0           0.0   \n",
       "4706     0.0       0.0  ...            0.0            0.0           0.0   \n",
       "6848     1.0       1.0  ...            0.0            0.0           0.0   \n",
       "\n",
       "       REGION_1.0  REGION_2.0  REGION_3.0  REGION_4.0  REGION_nan  \\\n",
       "7662          1.0         0.0         0.0         0.0         0.0   \n",
       "22367         0.0         0.0         1.0         0.0         0.0   \n",
       "1058          0.0         0.0         1.0         0.0         0.0   \n",
       "12550         0.0         0.0         1.0         0.0         0.0   \n",
       "19943         0.0         0.0         1.0         0.0         0.0   \n",
       "...           ...         ...         ...         ...         ...   \n",
       "3846          0.0         1.0         0.0         0.0         0.0   \n",
       "17143         0.0         0.0         1.0         0.0         0.0   \n",
       "9123          0.0         0.0         1.0         0.0         0.0   \n",
       "4706          0.0         0.0         1.0         0.0         0.0   \n",
       "6848          0.0         0.0         0.0         1.0         0.0   \n",
       "\n",
       "       prediction_label  prediction_score  \n",
       "7662                  1            0.5297  \n",
       "22367                 1            0.7243  \n",
       "1058                  0            0.6600  \n",
       "12550                 1            0.6959  \n",
       "19943                 0            0.5947  \n",
       "...                 ...               ...  \n",
       "3846                  1            0.5905  \n",
       "17143                 1            0.5830  \n",
       "9123                  0            0.7184  \n",
       "4706                  0            0.7004  \n",
       "6848                  1            0.6542  \n",
       "\n",
       "[1232 rows x 51 columns]"
      ]
     },
     "execution_count": 38,
     "metadata": {},
     "output_type": "execute_result"
    }
   ],
   "source": [
    "pred"
   ]
  },
  {
   "cell_type": "code",
   "execution_count": 39,
   "id": "13078c60-7caa-4e05-962f-4fafc75d243b",
   "metadata": {
    "tags": []
   },
   "outputs": [
    {
     "name": "stdout",
     "output_type": "stream",
     "text": [
      "              precision    recall  f1-score   support\n",
      "\n",
      "           0       0.75      0.72      0.73       616\n",
      "           1       0.73      0.76      0.74       616\n",
      "\n",
      "    accuracy                           0.74      1232\n",
      "   macro avg       0.74      0.74      0.74      1232\n",
      "weighted avg       0.74      0.74      0.74      1232\n",
      "\n"
     ]
    }
   ],
   "source": [
    "# 실제값 과 예측값 비교\n",
    "print(classification_report(y_val,pred['prediction_label']))"
   ]
  },
  {
   "cell_type": "code",
   "execution_count": 40,
   "id": "87ec6f1e-49ea-4088-bbe6-918bbed7da99",
   "metadata": {
    "tags": []
   },
   "outputs": [
    {
     "data": {
      "text/plain": [
       "0.7282608695652174"
      ]
     },
     "execution_count": 40,
     "metadata": {},
     "output_type": "execute_result"
    }
   ],
   "source": [
    "precision_score(y_val,pred['prediction_label'])"
   ]
  },
  {
   "cell_type": "code",
   "execution_count": 41,
   "id": "e18831d9-4809-4f00-b551-9b241f5924b7",
   "metadata": {
    "tags": []
   },
   "outputs": [
    {
     "data": {
      "text/plain": [
       "0.7613636363636364"
      ]
     },
     "execution_count": 41,
     "metadata": {},
     "output_type": "execute_result"
    }
   ],
   "source": [
    "recall_score(y_val,pred['prediction_label'])"
   ]
  },
  {
   "cell_type": "code",
   "execution_count": 42,
   "id": "bc9976f2-07ec-4629-908f-9a7beb35638e",
   "metadata": {
    "tags": []
   },
   "outputs": [],
   "source": [
    "def precision_recall_curve_plot(y_test, pred_proba_c1):\n",
    "    # thredshold ndarray와 이 threshold에 따른 정밀도, 재현율 ndarray 추출 \n",
    "    precision, recalls, thresholds = precision_recall_curve(y_test, pred_proba_c1)\n",
    "    \n",
    "    #X축을 thredshold 값으로, Y축은 정밀도, 재현율 값으로 각각 plot 수행. 정밀도는 점선으로 표시 \n",
    "    plt.figure(figsize=(8,6))\n",
    "    threshold_boundary = thresholds.shape[0]\n",
    "    plt.plot(thresholds, precision[0:threshold_boundary], linestyle='--', label='precision')\n",
    "    plt.plot(thresholds, recalls[0:threshold_boundary], label ='recall')\n",
    "    \n",
    "    #thredshold 값 X축 Scale을 0.1단위로 변경\n",
    "    start, end = plt.xlim()\n",
    "    plt.xticks(np.round(np.arange(start, end, 0.1),2))\n",
    "    \n",
    "    #X축, y축, label과 legend, 그리고 grid 설정\n",
    "    plt.xlabel('Threshold value'); plt.ylabel('Precision and Recall value')\n",
    "    plt.legend();plt.grid()\n",
    "    plt.show()"
   ]
  },
  {
   "cell_type": "code",
   "execution_count": 43,
   "id": "1a766fe4-8638-4ea6-987a-895ac5a561fd",
   "metadata": {
    "tags": []
   },
   "outputs": [],
   "source": [
    "pred['predict_proba'] = pred['prediction_score']\n",
    "pred.loc[pred['prediction_label']==0,'predict_proba'] = 1-pred.loc[pred['prediction_label']==0,'predict_proba']"
   ]
  },
  {
   "cell_type": "code",
   "execution_count": 44,
   "id": "bc50d736-cee2-4969-a253-1a9f29cb4540",
   "metadata": {
    "tags": []
   },
   "outputs": [
    {
     "data": {
      "image/png": "[encoded data removed]",
      "text/plain": [
       "<Figure size 800x600 with 1 Axes>"
      ]
     },
     "metadata": {},
     "output_type": "display_data"
    }
   ],
   "source": [
    "precision_recall_curve_plot(y_val,pred['predict_proba'])"
   ]
  },
  {
   "cell_type": "code",
   "execution_count": 45,
   "id": "9e0e4f39-f11d-4d5d-89d4-2a6890ed6ffb",
   "metadata": {
    "tags": []
   },
   "outputs": [
    {
     "name": "stdout",
     "output_type": "stream",
     "text": [
      "임계값:0.45 / f1_score : 0.7567964731814842 / recall : 0.836038961038961 / precision : 0.6912751677852349\n",
      "임계값:0.46 / f1_score : 0.751497005988024 / recall : 0.814935064935065 / precision : 0.6972222222222222\n",
      "임계값:0.47000000000000003 / f1_score : 0.7515151515151516 / recall : 0.8051948051948052 / precision : 0.7045454545454546\n",
      "임계값:0.48 / f1_score : 0.7501921598770178 / recall : 0.7922077922077922 / precision : 0.7124087591240876\n",
      "임계값:0.49 / f1_score : 0.7496087636932707 / recall : 0.7775974025974026 / precision : 0.7235649546827795\n",
      "임계값:0.5 / f1_score : 0.7444444444444445 / recall : 0.7613636363636364 / precision : 0.7282608695652174\n",
      "임계값:0.51 / f1_score : 0.7437751004016064 / recall : 0.7516233766233766 / precision : 0.7360890302066773\n",
      "임계값:0.52 / f1_score : 0.7400162999185005 / recall : 0.737012987012987 / precision : 0.7430441898527005\n",
      "임계값:0.53 / f1_score : 0.7293729372937294 / recall : 0.7175324675324676 / precision : 0.7416107382550335\n",
      "임계값:0.54 / f1_score : 0.7260504201680672 / recall : 0.7012987012987013 / precision : 0.7526132404181185\n"
     ]
    }
   ],
   "source": [
    "f1_score_list = []\n",
    "threshold_list = []\n",
    "for j in range(10):\n",
    "    j = 0.45+j*0.01\n",
    "    # j = 0.485\n",
    "    result = [0 if i<=j else 1 for i in pred['predict_proba']]\n",
    "    score = f1_score(y_val,result)\n",
    "    f1_score_list.append(score)\n",
    "    threshold_list.append(j)\n",
    "    print(f'임계값:{j} / f1_score : {score} / recall : {recall_score(y_val,result)} / precision : {precision_score(y_val,result)}')"
   ]
  },
  {
   "cell_type": "code",
   "execution_count": 46,
   "id": "5c076fe3-c333-4e4d-a31e-62005b8c8440",
   "metadata": {
    "tags": []
   },
   "outputs": [
    {
     "name": "stdout",
     "output_type": "stream",
     "text": [
      "임계값:0.505 / f1_score : 0.7422186751795691 / recall : 0.7548701298701299 / precision : 0.7299843014128728\n"
     ]
    }
   ],
   "source": [
    "j = 0.505\n",
    "# j = 0.485\n",
    "result = [0 if i<=j else 1 for i in pred['predict_proba']]\n",
    "score = f1_score(y_val,result)\n",
    "f1_score_list.append(score)\n",
    "threshold_list.append(j)\n",
    "print(f'임계값:{j} / f1_score : {score} / recall : {recall_score(y_val,result)} / precision : {precision_score(y_val,result)}')"
   ]
  },
  {
   "cell_type": "markdown",
   "id": "0cc069a6-d4e1-46f5-81da-b3172c3db123",
   "metadata": {},
   "source": [
    "# 테스트 데이터"
   ]
  },
  {
   "cell_type": "code",
   "execution_count": 47,
   "id": "9f5aee74-03fb-415a-83f1-d1adad8c39ad",
   "metadata": {
    "tags": []
   },
   "outputs": [
    {
     "data": {
      "text/html": [],
      "text/plain": [
       "<IPython.core.display.HTML object>"
      ]
     },
     "metadata": {},
     "output_type": "display_data"
    }
   ],
   "source": [
    "# 검증 예측\n",
    "pred = predict_model(final_model,data=X_test,verbose=True)"
   ]
  },
  {
   "cell_type": "code",
   "execution_count": 48,
   "id": "6f64b653-5be6-4bb9-8c9c-2193e449f838",
   "metadata": {
    "tags": []
   },
   "outputs": [
    {
     "data": {
      "text/html": [
       "<div>\n",
       "<style scoped>\n",
       "    .dataframe tbody tr th:only-of-type {\n",
       "        vertical-align: middle;\n",
       "    }\n",
       "\n",
       "    .dataframe tbody tr th {\n",
       "        vertical-align: top;\n",
       "    }\n",
       "\n",
       "    .dataframe thead th {\n",
       "        text-align: right;\n",
       "    }\n",
       "</style>\n",
       "<table border=\"1\" class=\"dataframe\">\n",
       "  <thead>\n",
       "    <tr style=\"text-align: right;\">\n",
       "      <th></th>\n",
       "      <th>AGE</th>\n",
       "      <th>ALCSTAT</th>\n",
       "      <th>ARTH1</th>\n",
       "      <th>BMI</th>\n",
       "      <th>CHLEV</th>\n",
       "      <th>EPHEV</th>\n",
       "      <th>FSBALANC</th>\n",
       "      <th>GENDER</th>\n",
       "      <th>HYPEV</th>\n",
       "      <th>HYPMDEV2</th>\n",
       "      <th>...</th>\n",
       "      <th>MRACRPI2_17.0</th>\n",
       "      <th>MRACRPI2_nan</th>\n",
       "      <th>REGION_1.0</th>\n",
       "      <th>REGION_2.0</th>\n",
       "      <th>REGION_3.0</th>\n",
       "      <th>REGION_4.0</th>\n",
       "      <th>REGION_nan</th>\n",
       "      <th>HISPAN_I_7.0</th>\n",
       "      <th>prediction_label</th>\n",
       "      <th>prediction_score</th>\n",
       "    </tr>\n",
       "  </thead>\n",
       "  <tbody>\n",
       "    <tr>\n",
       "      <th>20014</th>\n",
       "      <td>-0.607742</td>\n",
       "      <td>0.0</td>\n",
       "      <td>0.0</td>\n",
       "      <td>0.516837</td>\n",
       "      <td>1.0</td>\n",
       "      <td>0.0</td>\n",
       "      <td>0</td>\n",
       "      <td>1.0</td>\n",
       "      <td>0.0</td>\n",
       "      <td>0.0</td>\n",
       "      <td>...</td>\n",
       "      <td>0.0</td>\n",
       "      <td>0.0</td>\n",
       "      <td>0.0</td>\n",
       "      <td>0.0</td>\n",
       "      <td>0.0</td>\n",
       "      <td>1.0</td>\n",
       "      <td>0.0</td>\n",
       "      <td>0</td>\n",
       "      <td>1</td>\n",
       "      <td>0.5196</td>\n",
       "    </tr>\n",
       "    <tr>\n",
       "      <th>21999</th>\n",
       "      <td>-0.380075</td>\n",
       "      <td>0.0</td>\n",
       "      <td>0.0</td>\n",
       "      <td>-0.786938</td>\n",
       "      <td>0.0</td>\n",
       "      <td>0.0</td>\n",
       "      <td>0</td>\n",
       "      <td>0.0</td>\n",
       "      <td>0.0</td>\n",
       "      <td>0.0</td>\n",
       "      <td>...</td>\n",
       "      <td>0.0</td>\n",
       "      <td>0.0</td>\n",
       "      <td>0.0</td>\n",
       "      <td>0.0</td>\n",
       "      <td>0.0</td>\n",
       "      <td>1.0</td>\n",
       "      <td>0.0</td>\n",
       "      <td>0</td>\n",
       "      <td>0</td>\n",
       "      <td>0.6663</td>\n",
       "    </tr>\n",
       "    <tr>\n",
       "      <th>18840</th>\n",
       "      <td>-1.461491</td>\n",
       "      <td>1.0</td>\n",
       "      <td>0.0</td>\n",
       "      <td>0.379484</td>\n",
       "      <td>0.0</td>\n",
       "      <td>0.0</td>\n",
       "      <td>0</td>\n",
       "      <td>1.0</td>\n",
       "      <td>0.0</td>\n",
       "      <td>0.0</td>\n",
       "      <td>...</td>\n",
       "      <td>0.0</td>\n",
       "      <td>0.0</td>\n",
       "      <td>0.0</td>\n",
       "      <td>0.0</td>\n",
       "      <td>1.0</td>\n",
       "      <td>0.0</td>\n",
       "      <td>0.0</td>\n",
       "      <td>0</td>\n",
       "      <td>0</td>\n",
       "      <td>0.6737</td>\n",
       "    </tr>\n",
       "    <tr>\n",
       "      <th>3169</th>\n",
       "      <td>0.246007</td>\n",
       "      <td>0.0</td>\n",
       "      <td>0.0</td>\n",
       "      <td>-1.549367</td>\n",
       "      <td>0.0</td>\n",
       "      <td>0.0</td>\n",
       "      <td>0</td>\n",
       "      <td>1.0</td>\n",
       "      <td>0.0</td>\n",
       "      <td>0.0</td>\n",
       "      <td>...</td>\n",
       "      <td>0.0</td>\n",
       "      <td>0.0</td>\n",
       "      <td>0.0</td>\n",
       "      <td>0.0</td>\n",
       "      <td>1.0</td>\n",
       "      <td>0.0</td>\n",
       "      <td>0.0</td>\n",
       "      <td>0</td>\n",
       "      <td>0</td>\n",
       "      <td>0.6869</td>\n",
       "    </tr>\n",
       "    <tr>\n",
       "      <th>2573</th>\n",
       "      <td>0.132174</td>\n",
       "      <td>0.0</td>\n",
       "      <td>1.0</td>\n",
       "      <td>0.062350</td>\n",
       "      <td>1.0</td>\n",
       "      <td>1.0</td>\n",
       "      <td>0</td>\n",
       "      <td>1.0</td>\n",
       "      <td>1.0</td>\n",
       "      <td>1.0</td>\n",
       "      <td>...</td>\n",
       "      <td>0.0</td>\n",
       "      <td>0.0</td>\n",
       "      <td>0.0</td>\n",
       "      <td>0.0</td>\n",
       "      <td>1.0</td>\n",
       "      <td>0.0</td>\n",
       "      <td>0.0</td>\n",
       "      <td>0</td>\n",
       "      <td>1</td>\n",
       "      <td>0.6339</td>\n",
       "    </tr>\n",
       "    <tr>\n",
       "      <th>...</th>\n",
       "      <td>...</td>\n",
       "      <td>...</td>\n",
       "      <td>...</td>\n",
       "      <td>...</td>\n",
       "      <td>...</td>\n",
       "      <td>...</td>\n",
       "      <td>...</td>\n",
       "      <td>...</td>\n",
       "      <td>...</td>\n",
       "      <td>...</td>\n",
       "      <td>...</td>\n",
       "      <td>...</td>\n",
       "      <td>...</td>\n",
       "      <td>...</td>\n",
       "      <td>...</td>\n",
       "      <td>...</td>\n",
       "      <td>...</td>\n",
       "      <td>...</td>\n",
       "      <td>...</td>\n",
       "      <td>...</td>\n",
       "      <td>...</td>\n",
       "    </tr>\n",
       "    <tr>\n",
       "      <th>12</th>\n",
       "      <td>-0.949242</td>\n",
       "      <td>0.0</td>\n",
       "      <td>0.0</td>\n",
       "      <td>-1.093777</td>\n",
       "      <td>0.0</td>\n",
       "      <td>0.0</td>\n",
       "      <td>0</td>\n",
       "      <td>0.0</td>\n",
       "      <td>0.0</td>\n",
       "      <td>0.0</td>\n",
       "      <td>...</td>\n",
       "      <td>0.0</td>\n",
       "      <td>0.0</td>\n",
       "      <td>0.0</td>\n",
       "      <td>0.0</td>\n",
       "      <td>0.0</td>\n",
       "      <td>1.0</td>\n",
       "      <td>0.0</td>\n",
       "      <td>0</td>\n",
       "      <td>0</td>\n",
       "      <td>0.7091</td>\n",
       "    </tr>\n",
       "    <tr>\n",
       "      <th>20055</th>\n",
       "      <td>0.530590</td>\n",
       "      <td>0.0</td>\n",
       "      <td>1.0</td>\n",
       "      <td>1.408041</td>\n",
       "      <td>0.0</td>\n",
       "      <td>0.0</td>\n",
       "      <td>0</td>\n",
       "      <td>0.0</td>\n",
       "      <td>0.0</td>\n",
       "      <td>0.0</td>\n",
       "      <td>...</td>\n",
       "      <td>0.0</td>\n",
       "      <td>0.0</td>\n",
       "      <td>0.0</td>\n",
       "      <td>0.0</td>\n",
       "      <td>1.0</td>\n",
       "      <td>0.0</td>\n",
       "      <td>0.0</td>\n",
       "      <td>0</td>\n",
       "      <td>1</td>\n",
       "      <td>0.5146</td>\n",
       "    </tr>\n",
       "    <tr>\n",
       "      <th>18031</th>\n",
       "      <td>-0.436992</td>\n",
       "      <td>0.0</td>\n",
       "      <td>0.0</td>\n",
       "      <td>-0.802510</td>\n",
       "      <td>0.0</td>\n",
       "      <td>0.0</td>\n",
       "      <td>0</td>\n",
       "      <td>1.0</td>\n",
       "      <td>0.0</td>\n",
       "      <td>0.0</td>\n",
       "      <td>...</td>\n",
       "      <td>0.0</td>\n",
       "      <td>0.0</td>\n",
       "      <td>0.0</td>\n",
       "      <td>1.0</td>\n",
       "      <td>0.0</td>\n",
       "      <td>0.0</td>\n",
       "      <td>0.0</td>\n",
       "      <td>0</td>\n",
       "      <td>0</td>\n",
       "      <td>0.6932</td>\n",
       "    </tr>\n",
       "    <tr>\n",
       "      <th>9941</th>\n",
       "      <td>-1.689158</td>\n",
       "      <td>0.0</td>\n",
       "      <td>1.0</td>\n",
       "      <td>-0.590032</td>\n",
       "      <td>0.0</td>\n",
       "      <td>0.0</td>\n",
       "      <td>0</td>\n",
       "      <td>1.0</td>\n",
       "      <td>0.0</td>\n",
       "      <td>0.0</td>\n",
       "      <td>...</td>\n",
       "      <td>0.0</td>\n",
       "      <td>0.0</td>\n",
       "      <td>0.0</td>\n",
       "      <td>0.0</td>\n",
       "      <td>0.0</td>\n",
       "      <td>1.0</td>\n",
       "      <td>0.0</td>\n",
       "      <td>0</td>\n",
       "      <td>0</td>\n",
       "      <td>0.6944</td>\n",
       "    </tr>\n",
       "    <tr>\n",
       "      <th>2042</th>\n",
       "      <td>-0.778492</td>\n",
       "      <td>0.0</td>\n",
       "      <td>0.0</td>\n",
       "      <td>-1.089500</td>\n",
       "      <td>0.0</td>\n",
       "      <td>0.0</td>\n",
       "      <td>0</td>\n",
       "      <td>1.0</td>\n",
       "      <td>0.0</td>\n",
       "      <td>0.0</td>\n",
       "      <td>...</td>\n",
       "      <td>0.0</td>\n",
       "      <td>0.0</td>\n",
       "      <td>0.0</td>\n",
       "      <td>0.0</td>\n",
       "      <td>0.0</td>\n",
       "      <td>1.0</td>\n",
       "      <td>0.0</td>\n",
       "      <td>0</td>\n",
       "      <td>0</td>\n",
       "      <td>0.7059</td>\n",
       "    </tr>\n",
       "  </tbody>\n",
       "</table>\n",
       "<p>1156 rows × 51 columns</p>\n",
       "</div>"
      ],
      "text/plain": [
       "            AGE  ALCSTAT  ARTH1       BMI  CHLEV  EPHEV  FSBALANC  GENDER  \\\n",
       "20014 -0.607742      0.0    0.0  0.516837    1.0    0.0         0     1.0   \n",
       "21999 -0.380075      0.0    0.0 -0.786938    0.0    0.0         0     0.0   \n",
       "18840 -1.461491      1.0    0.0  0.379484    0.0    0.0         0     1.0   \n",
       "3169   0.246007      0.0    0.0 -1.549367    0.0    0.0         0     1.0   \n",
       "2573   0.132174      0.0    1.0  0.062350    1.0    1.0         0     1.0   \n",
       "...         ...      ...    ...       ...    ...    ...       ...     ...   \n",
       "12    -0.949242      0.0    0.0 -1.093777    0.0    0.0         0     0.0   \n",
       "20055  0.530590      0.0    1.0  1.408041    0.0    0.0         0     0.0   \n",
       "18031 -0.436992      0.0    0.0 -0.802510    0.0    0.0         0     1.0   \n",
       "9941  -1.689158      0.0    1.0 -0.590032    0.0    0.0         0     1.0   \n",
       "2042  -0.778492      0.0    0.0 -1.089500    0.0    0.0         0     1.0   \n",
       "\n",
       "       HYPEV  HYPMDEV2  ...  MRACRPI2_17.0  MRACRPI2_nan  REGION_1.0  \\\n",
       "20014    0.0       0.0  ...            0.0           0.0         0.0   \n",
       "21999    0.0       0.0  ...            0.0           0.0         0.0   \n",
       "18840    0.0       0.0  ...            0.0           0.0         0.0   \n",
       "3169     0.0       0.0  ...            0.0           0.0         0.0   \n",
       "2573     1.0       1.0  ...            0.0           0.0         0.0   \n",
       "...      ...       ...  ...            ...           ...         ...   \n",
       "12       0.0       0.0  ...            0.0           0.0         0.0   \n",
       "20055    0.0       0.0  ...            0.0           0.0         0.0   \n",
       "18031    0.0       0.0  ...            0.0           0.0         0.0   \n",
       "9941     0.0       0.0  ...            0.0           0.0         0.0   \n",
       "2042     0.0       0.0  ...            0.0           0.0         0.0   \n",
       "\n",
       "       REGION_2.0  REGION_3.0  REGION_4.0  REGION_nan  HISPAN_I_7.0  \\\n",
       "20014         0.0         0.0         1.0         0.0             0   \n",
       "21999         0.0         0.0         1.0         0.0             0   \n",
       "18840         0.0         1.0         0.0         0.0             0   \n",
       "3169          0.0         1.0         0.0         0.0             0   \n",
       "2573          0.0         1.0         0.0         0.0             0   \n",
       "...           ...         ...         ...         ...           ...   \n",
       "12            0.0         0.0         1.0         0.0             0   \n",
       "20055         0.0         1.0         0.0         0.0             0   \n",
       "18031         1.0         0.0         0.0         0.0             0   \n",
       "9941          0.0         0.0         1.0         0.0             0   \n",
       "2042          0.0         0.0         1.0         0.0             0   \n",
       "\n",
       "       prediction_label  prediction_score  \n",
       "20014                 1            0.5196  \n",
       "21999                 0            0.6663  \n",
       "18840                 0            0.6737  \n",
       "3169                  0            0.6869  \n",
       "2573                  1            0.6339  \n",
       "...                 ...               ...  \n",
       "12                    0            0.7091  \n",
       "20055                 1            0.5146  \n",
       "18031                 0            0.6932  \n",
       "9941                  0            0.6944  \n",
       "2042                  0            0.7059  \n",
       "\n",
       "[1156 rows x 51 columns]"
      ]
     },
     "execution_count": 48,
     "metadata": {},
     "output_type": "execute_result"
    }
   ],
   "source": [
    "pred"
   ]
  },
  {
   "cell_type": "code",
   "execution_count": 49,
   "id": "898b05c8-3de2-4fdd-ae0b-b6058d47afdc",
   "metadata": {
    "tags": []
   },
   "outputs": [
    {
     "name": "stdout",
     "output_type": "stream",
     "text": [
      "              precision    recall  f1-score   support\n",
      "\n",
      "           0       0.95      0.73      0.83       994\n",
      "           1       0.32      0.78      0.46       162\n",
      "\n",
      "    accuracy                           0.74      1156\n",
      "   macro avg       0.64      0.76      0.64      1156\n",
      "weighted avg       0.87      0.74      0.78      1156\n",
      "\n"
     ]
    }
   ],
   "source": [
    "# 실제값 과 예측값 비교\n",
    "print(classification_report(y_test,pred['prediction_label']))"
   ]
  },
  {
   "cell_type": "code",
   "execution_count": 50,
   "id": "8af9eec6-ca4b-4180-9788-d4e0ae88debf",
   "metadata": {
    "tags": []
   },
   "outputs": [
    {
     "data": {
      "text/plain": [
       "0.3248081841432225"
      ]
     },
     "execution_count": 50,
     "metadata": {},
     "output_type": "execute_result"
    }
   ],
   "source": [
    "precision_score(y_test,pred['prediction_label'])"
   ]
  },
  {
   "cell_type": "code",
   "execution_count": 51,
   "id": "f28713b1-804a-468f-8850-e524a32066a8",
   "metadata": {
    "tags": []
   },
   "outputs": [
    {
     "data": {
      "text/plain": [
       "0.7839506172839507"
      ]
     },
     "execution_count": 51,
     "metadata": {},
     "output_type": "execute_result"
    }
   ],
   "source": [
    "recall_score(y_test,pred['prediction_label'])"
   ]
  },
  {
   "cell_type": "code",
   "execution_count": 52,
   "id": "806d2042-16b6-4346-b9f1-c72fe49f1555",
   "metadata": {
    "tags": []
   },
   "outputs": [],
   "source": [
    "pred['predict_proba'] = pred['prediction_score']\n",
    "pred.loc[pred['prediction_label']==0,'predict_proba'] = 1-pred.loc[pred['prediction_label']==0,'predict_proba']"
   ]
  },
  {
   "cell_type": "code",
   "execution_count": 53,
   "id": "ee3c0637-8dc3-485f-97a7-e4dd5b007084",
   "metadata": {
    "tags": []
   },
   "outputs": [
    {
     "data": {
      "image/png": "[encoded data removed]",
      "text/plain": [
       "<Figure size 800x600 with 1 Axes>"
      ]
     },
     "metadata": {},
     "output_type": "display_data"
    }
   ],
   "source": [
    "precision_recall_curve_plot(y_test,pred['predict_proba'])"
   ]
  },
  {
   "cell_type": "code",
   "execution_count": 54,
   "id": "d76d4f2d-19ff-45b5-8fe1-ea59c54bfc1d",
   "metadata": {
    "tags": []
   },
   "outputs": [],
   "source": [
    "result = [0 if i<=j else 1 for i in pred['predict_proba']]"
   ]
  },
  {
   "cell_type": "code",
   "execution_count": 55,
   "id": "74401dae-e4e0-4a96-a780-7b82ec21fafa",
   "metadata": {
    "tags": []
   },
   "outputs": [
    {
     "name": "stdout",
     "output_type": "stream",
     "text": [
      "              precision    recall  f1-score   support\n",
      "\n",
      "           0       0.95      0.74      0.83       994\n",
      "           1       0.32      0.77      0.46       162\n",
      "\n",
      "    accuracy                           0.74      1156\n",
      "   macro avg       0.64      0.76      0.64      1156\n",
      "weighted avg       0.86      0.74      0.78      1156\n",
      "\n"
     ]
    }
   ],
   "source": [
    "print(classification_report(y_test,result))"
   ]
  },
  {
   "cell_type": "code",
   "execution_count": 56,
   "id": "eef3f1a8-b142-40c5-af07-336849b11a3b",
   "metadata": {
    "tags": []
   },
   "outputs": [
    {
     "data": {
      "text/plain": [
       "0.3246753246753247"
      ]
     },
     "execution_count": 56,
     "metadata": {},
     "output_type": "execute_result"
    }
   ],
   "source": [
    "precision_score(y_test,result)"
   ]
  },
  {
   "cell_type": "code",
   "execution_count": 57,
   "id": "d2b1472c-e69f-41f6-8547-c955ba2cb696",
   "metadata": {
    "tags": []
   },
   "outputs": [
    {
     "data": {
      "text/plain": [
       "0.7716049382716049"
      ]
     },
     "execution_count": 57,
     "metadata": {},
     "output_type": "execute_result"
    }
   ],
   "source": [
    "recall_score(y_test,result)"
   ]
  },
  {
   "cell_type": "code",
   "execution_count": null,
   "id": "3291c7ca-eaae-4bbd-bf27-da5e9bef3798",
   "metadata": {},
   "outputs": [],
   "source": []
  }
 ],
 "metadata": {
  "kernelspec": {
   "display_name": "Python 3 (ipykernel)",
   "language": "python",
   "name": "python3"
  },
  "language_info": {
   "codemirror_mode": {
    "name": "ipython",
    "version": 3
   },
   "file_extension": ".py",
   "mimetype": "text/x-python",
   "name": "python",
   "nbconvert_exporter": "python",
   "pygments_lexer": "ipython3",
   "version": "3.10.13"
  }
 },
 "nbformat": 4,
 "nbformat_minor": 5
}
