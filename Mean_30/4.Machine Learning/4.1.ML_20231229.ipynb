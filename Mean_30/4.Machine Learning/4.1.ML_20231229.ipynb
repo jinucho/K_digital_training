{
 "cells": [
  {
   "cell_type": "code",
   "execution_count": 1,
   "id": "a14ce43d-8920-4ea2-b230-bcbf28fc924b",
   "metadata": {
    "tags": []
   },
   "outputs": [],
   "source": [
    "import pandas as pd\n",
    "import numpy as np\n",
    "from sklearn.preprocessing import StandardScaler,MinMaxScaler\n",
    "from collections import Counter\n",
    "from imblearn.datasets import make_imbalance\n",
    "from sklearn.model_selection import train_test_split\n",
    "from imblearn.over_sampling import SMOTE\n",
    "import matplotlib.pyplot as plt\n",
    "import warnings\n",
    "warnings.filterwarnings(action='ignore')\n",
    "from sklearn.metrics import roc_auc_score,classification_report, recall_score, f1_score,precision_recall_curve, auc,precision_score"
   ]
  },
  {
   "cell_type": "code",
   "execution_count": 2,
   "id": "fd5472fa-d18a-4dfd-93b9-4bae9892e002",
   "metadata": {
    "tags": []
   },
   "outputs": [],
   "source": [
    "# !pip install imbalanced-learn"
   ]
  },
  {
   "cell_type": "code",
   "execution_count": 3,
   "id": "80b26b23-b919-4c07-b12d-12e0f91c6e4f",
   "metadata": {
    "tags": []
   },
   "outputs": [],
   "source": [
    "df = pd.read_csv('Data_preprocessing(dibev1수정).csv')"
   ]
  },
  {
   "cell_type": "code",
   "execution_count": 4,
   "id": "c6b8d969-56d8-48cd-9fa2-ba46868d7eef",
   "metadata": {
    "tags": []
   },
   "outputs": [
    {
     "data": {
      "text/html": [
       "<div>\n",
       "<style scoped>\n",
       "    .dataframe tbody tr th:only-of-type {\n",
       "        vertical-align: middle;\n",
       "    }\n",
       "\n",
       "    .dataframe tbody tr th {\n",
       "        vertical-align: top;\n",
       "    }\n",
       "\n",
       "    .dataframe thead th {\n",
       "        text-align: right;\n",
       "    }\n",
       "</style>\n",
       "<table border=\"1\" class=\"dataframe\">\n",
       "  <thead>\n",
       "    <tr style=\"text-align: right;\">\n",
       "      <th></th>\n",
       "      <th>id</th>\n",
       "      <th>AGE</th>\n",
       "      <th>ALCSTAT</th>\n",
       "      <th>ARTH1</th>\n",
       "      <th>BMI</th>\n",
       "      <th>CHLEV</th>\n",
       "      <th>CIGAREV2</th>\n",
       "      <th>CPLROU</th>\n",
       "      <th>EPHEV</th>\n",
       "      <th>FSBALANC</th>\n",
       "      <th>...</th>\n",
       "      <th>INTIL2W</th>\n",
       "      <th>MRACBPI2</th>\n",
       "      <th>MRACRPI2</th>\n",
       "      <th>REGION</th>\n",
       "      <th>SMKSTAT2</th>\n",
       "      <th>TIRED_1</th>\n",
       "      <th>PREG</th>\n",
       "      <th>HEIGHT(cm)</th>\n",
       "      <th>WEIGHT(kg)</th>\n",
       "      <th>DIBEV1</th>\n",
       "    </tr>\n",
       "  </thead>\n",
       "  <tbody>\n",
       "    <tr>\n",
       "      <th>0</th>\n",
       "      <td>100011</td>\n",
       "      <td>79.0</td>\n",
       "      <td>0.0</td>\n",
       "      <td>1.0</td>\n",
       "      <td>23.594147</td>\n",
       "      <td>1.0</td>\n",
       "      <td>0.0</td>\n",
       "      <td>1.0</td>\n",
       "      <td>0.0</td>\n",
       "      <td>0</td>\n",
       "      <td>...</td>\n",
       "      <td>0.0</td>\n",
       "      <td>1.0</td>\n",
       "      <td>1.0</td>\n",
       "      <td>3.0</td>\n",
       "      <td>0.0</td>\n",
       "      <td>1.0</td>\n",
       "      <td>1</td>\n",
       "      <td>157.48</td>\n",
       "      <td>58.513368</td>\n",
       "      <td>1</td>\n",
       "    </tr>\n",
       "    <tr>\n",
       "      <th>1</th>\n",
       "      <td>100061</td>\n",
       "      <td>37.0</td>\n",
       "      <td>0.0</td>\n",
       "      <td>0.0</td>\n",
       "      <td>32.775484</td>\n",
       "      <td>1.0</td>\n",
       "      <td>1.0</td>\n",
       "      <td>0.0</td>\n",
       "      <td>0.0</td>\n",
       "      <td>0</td>\n",
       "      <td>...</td>\n",
       "      <td>0.0</td>\n",
       "      <td>1.0</td>\n",
       "      <td>1.0</td>\n",
       "      <td>3.0</td>\n",
       "      <td>0.0</td>\n",
       "      <td>0.0</td>\n",
       "      <td>1</td>\n",
       "      <td>180.34</td>\n",
       "      <td>106.594120</td>\n",
       "      <td>0</td>\n",
       "    </tr>\n",
       "    <tr>\n",
       "      <th>2</th>\n",
       "      <td>100091</td>\n",
       "      <td>75.0</td>\n",
       "      <td>0.0</td>\n",
       "      <td>1.0</td>\n",
       "      <td>22.273536</td>\n",
       "      <td>1.0</td>\n",
       "      <td>1.0</td>\n",
       "      <td>1.0</td>\n",
       "      <td>0.0</td>\n",
       "      <td>1</td>\n",
       "      <td>...</td>\n",
       "      <td>0.0</td>\n",
       "      <td>7.0</td>\n",
       "      <td>11.0</td>\n",
       "      <td>3.0</td>\n",
       "      <td>0.0</td>\n",
       "      <td>0.0</td>\n",
       "      <td>1</td>\n",
       "      <td>167.64</td>\n",
       "      <td>62.595696</td>\n",
       "      <td>0</td>\n",
       "    </tr>\n",
       "    <tr>\n",
       "      <th>3</th>\n",
       "      <td>1000101</td>\n",
       "      <td>39.0</td>\n",
       "      <td>0.0</td>\n",
       "      <td>0.0</td>\n",
       "      <td>23.709925</td>\n",
       "      <td>0.0</td>\n",
       "      <td>0.0</td>\n",
       "      <td>1.0</td>\n",
       "      <td>0.0</td>\n",
       "      <td>0</td>\n",
       "      <td>...</td>\n",
       "      <td>0.0</td>\n",
       "      <td>1.0</td>\n",
       "      <td>1.0</td>\n",
       "      <td>1.0</td>\n",
       "      <td>0.0</td>\n",
       "      <td>1.0</td>\n",
       "      <td>1</td>\n",
       "      <td>180.34</td>\n",
       "      <td>77.110640</td>\n",
       "      <td>0</td>\n",
       "    </tr>\n",
       "    <tr>\n",
       "      <th>4</th>\n",
       "      <td>1000131</td>\n",
       "      <td>54.0</td>\n",
       "      <td>1.0</td>\n",
       "      <td>0.0</td>\n",
       "      <td>38.273579</td>\n",
       "      <td>1.0</td>\n",
       "      <td>0.0</td>\n",
       "      <td>1.0</td>\n",
       "      <td>0.0</td>\n",
       "      <td>0</td>\n",
       "      <td>...</td>\n",
       "      <td>0.0</td>\n",
       "      <td>2.0</td>\n",
       "      <td>2.0</td>\n",
       "      <td>3.0</td>\n",
       "      <td>0.0</td>\n",
       "      <td>1.0</td>\n",
       "      <td>1</td>\n",
       "      <td>165.10</td>\n",
       "      <td>104.326160</td>\n",
       "      <td>0</td>\n",
       "    </tr>\n",
       "  </tbody>\n",
       "</table>\n",
       "<p>5 rows × 25 columns</p>\n",
       "</div>"
      ],
      "text/plain": [
       "        id   AGE  ALCSTAT  ARTH1        BMI  CHLEV  CIGAREV2  CPLROU  EPHEV   \n",
       "0   100011  79.0      0.0    1.0  23.594147    1.0       0.0     1.0    0.0  \\\n",
       "1   100061  37.0      0.0    0.0  32.775484    1.0       1.0     0.0    0.0   \n",
       "2   100091  75.0      0.0    1.0  22.273536    1.0       1.0     1.0    0.0   \n",
       "3  1000101  39.0      0.0    0.0  23.709925    0.0       0.0     1.0    0.0   \n",
       "4  1000131  54.0      1.0    0.0  38.273579    1.0       0.0     1.0    0.0   \n",
       "\n",
       "   FSBALANC  ...  INTIL2W  MRACBPI2  MRACRPI2  REGION  SMKSTAT2  TIRED_1   \n",
       "0         0  ...      0.0       1.0       1.0     3.0       0.0      1.0  \\\n",
       "1         0  ...      0.0       1.0       1.0     3.0       0.0      0.0   \n",
       "2         1  ...      0.0       7.0      11.0     3.0       0.0      0.0   \n",
       "3         0  ...      0.0       1.0       1.0     1.0       0.0      1.0   \n",
       "4         0  ...      0.0       2.0       2.0     3.0       0.0      1.0   \n",
       "\n",
       "   PREG  HEIGHT(cm)  WEIGHT(kg)  DIBEV1  \n",
       "0     1      157.48   58.513368       1  \n",
       "1     1      180.34  106.594120       0  \n",
       "2     1      167.64   62.595696       0  \n",
       "3     1      180.34   77.110640       0  \n",
       "4     1      165.10  104.326160       0  \n",
       "\n",
       "[5 rows x 25 columns]"
      ]
     },
     "execution_count": 4,
     "metadata": {},
     "output_type": "execute_result"
    }
   ],
   "source": [
    "df.head()"
   ]
  },
  {
   "cell_type": "code",
   "execution_count": 5,
   "id": "3daddc94-4c17-4337-ae96-cb304cc82d7f",
   "metadata": {
    "tags": []
   },
   "outputs": [
    {
     "name": "stdout",
     "output_type": "stream",
     "text": [
      "id의 고유값 개수 23524\n",
      "AGE의 고유값 개수 74\n",
      "ALCSTAT의 고유값 개수 2\n",
      "ARTH1의 고유값 개수 2\n",
      "BMI의 고유값 개수 2325\n",
      "CHLEV의 고유값 개수 2\n",
      "CIGAREV2의 고유값 개수 2\n",
      "CPLROU의 고유값 개수 2\n",
      "EPHEV의 고유값 개수 2\n",
      "FSBALANC의 고유값 개수 2\n",
      "GENDER의 고유값 개수 2\n",
      "HISPAN_I의 고유값 개수 10\n",
      "HYPEV의 고유값 개수 2\n",
      "HYPMDEV2의 고유값 개수 2\n",
      "HYPMED2의 고유값 개수 2\n",
      "INTIL2W의 고유값 개수 2\n",
      "MRACBPI2의 고유값 개수 8\n",
      "MRACRPI2의 고유값 개수 9\n",
      "REGION의 고유값 개수 4\n",
      "SMKSTAT2의 고유값 개수 2\n",
      "TIRED_1의 고유값 개수 2\n",
      "PREG의 고유값 개수 2\n",
      "HEIGHT(cm)의 고유값 개수 25\n",
      "WEIGHT(kg)의 고유값 개수 216\n",
      "DIBEV1의 고유값 개수 2\n"
     ]
    }
   ],
   "source": [
    "for col in df.columns:\n",
    "    print(f'{col}의 고유값 개수 {df[col].nunique()}')"
   ]
  },
  {
   "cell_type": "markdown",
   "id": "aa228eef-e1e9-43fb-a314-99cb2ba2d089",
   "metadata": {},
   "source": [
    "# 1. 데이터 오버 샘플링"
   ]
  },
  {
   "cell_type": "code",
   "execution_count": 6,
   "id": "8c8817c7-72ff-4405-9903-f6a1338223f8",
   "metadata": {
    "tags": []
   },
   "outputs": [],
   "source": [
    "# 원본 데이터를 학습 / 테스트로 분리 / 9:1\n",
    "X_tr, X_test, y_tr, y_test = train_test_split(df.iloc[:,:-1],df['DIBEV1'],random_state=123,test_size=0.1,shuffle=True,stratify=df['DIBEV1'])"
   ]
  },
  {
   "cell_type": "code",
   "execution_count": 7,
   "id": "46ddfcc5-935d-41f7-ab1a-e9416183e42f",
   "metadata": {
    "tags": []
   },
   "outputs": [],
   "source": [
    "y_tr = y_tr.astype('int')"
   ]
  },
  {
   "cell_type": "code",
   "execution_count": 8,
   "id": "6bf755a6-1da8-4b0e-813c-d3c101de4efa",
   "metadata": {
    "tags": []
   },
   "outputs": [
    {
     "data": {
      "text/plain": [
       "((21171, 24), (2353, 24), (21171,), (2353,))"
      ]
     },
     "execution_count": 8,
     "metadata": {},
     "output_type": "execute_result"
    }
   ],
   "source": [
    "# 분할된 데이터 셋 사이즈 확인\n",
    "X_tr.shape, X_test.shape, y_tr.shape, y_test.shape"
   ]
  },
  {
   "cell_type": "code",
   "execution_count": 9,
   "id": "a39d6b2f-fa18-4875-8b73-9944d072b8f3",
   "metadata": {
    "tags": []
   },
   "outputs": [
    {
     "name": "stdout",
     "output_type": "stream",
     "text": [
      "학습데이터 Counter({0: 18252, 1: 2919})\n",
      "테스트데이터 Counter({0: 2029, 1: 324})\n"
     ]
    }
   ],
   "source": [
    "# target 데이터 비율 확인\n",
    "print(f'학습데이터 {Counter(y_tr)}')\n",
    "print(f'테스트데이터 {Counter(y_test)}')"
   ]
  },
  {
   "cell_type": "markdown",
   "id": "655a3644-8f5a-4d3d-a9ed-12f68fbb240c",
   "metadata": {},
   "source": [
    "## 1-1. 수치형 데이터 스케일링"
   ]
  },
  {
   "cell_type": "code",
   "execution_count": 10,
   "id": "9ba0101a-8a93-4e09-abb5-ff6c215ef4f8",
   "metadata": {
    "tags": []
   },
   "outputs": [],
   "source": [
    "num_col = ['AGE','BMI','HEIGHT(cm)','WEIGHT(kg)']"
   ]
  },
  {
   "cell_type": "code",
   "execution_count": 11,
   "id": "5ab4e51d-1dec-469d-b320-cef51c7895a6",
   "metadata": {
    "tags": []
   },
   "outputs": [],
   "source": [
    "scaler = StandardScaler()\n",
    "\n",
    "for col in num_col:\n",
    "    X_tr[col] = scaler.fit_transform(X_tr[[col]])\n",
    "    X_test[col] = scaler.transform(X_test[[col]])"
   ]
  },
  {
   "cell_type": "markdown",
   "id": "2f7162eb-90fa-42ec-bedb-a461a5c329eb",
   "metadata": {},
   "source": [
    "## 1-2. unique 개수가 3개 이상인 컬럼들 onehotencoding"
   ]
  },
  {
   "cell_type": "code",
   "execution_count": 12,
   "id": "8b1c9438-3f72-4983-b0f2-3d734816ae32",
   "metadata": {
    "tags": []
   },
   "outputs": [],
   "source": [
    "# 데이터프레임 전체 컬럼에서 수치형 컬럼 제외\n",
    "cols = np.setdiff1d(df.columns,num_col)\n",
    "\n",
    "# 위 컬럼에서 고유값 개수가 3개 이상인 컬럼만 추출\n",
    "nom_col = []\n",
    "for col in cols:\n",
    "    if df[col].nunique() >= 3:\n",
    "        nom_col.append(col)"
   ]
  },
  {
   "cell_type": "code",
   "execution_count": 13,
   "id": "b0876672-92ab-4c29-ac36-53bef5464600",
   "metadata": {
    "tags": []
   },
   "outputs": [
    {
     "data": {
      "text/plain": [
       "['HISPAN_I', 'MRACBPI2', 'MRACRPI2', 'REGION', 'id']"
      ]
     },
     "execution_count": 13,
     "metadata": {},
     "output_type": "execute_result"
    }
   ],
   "source": [
    "nom_col"
   ]
  },
  {
   "cell_type": "code",
   "execution_count": 14,
   "id": "1d35652d-1163-44d8-ac4e-e7d9e5673a47",
   "metadata": {
    "tags": []
   },
   "outputs": [
    {
     "data": {
      "text/plain": [
       "['HISPAN_I', 'MRACBPI2', 'MRACRPI2', 'REGION']"
      ]
     },
     "execution_count": 14,
     "metadata": {},
     "output_type": "execute_result"
    }
   ],
   "source": [
    "# 위 명목형 컬럼들에서 id 컬럼 제외\n",
    "nom_col.remove('id')\n",
    "nom_col"
   ]
  },
  {
   "cell_type": "code",
   "execution_count": 15,
   "id": "d1ee433a-958a-4662-8dd8-743ac695873d",
   "metadata": {
    "tags": []
   },
   "outputs": [],
   "source": [
    "# 명목형 컬럼들에 대한 dummy 데이터 생성(원핫인코딩)\n",
    "train_dummies = []\n",
    "test_dummies = []\n",
    "for col in nom_col:\n",
    "    train_dummies.append(pd.get_dummies(X_tr[col],prefix=col,dummy_na=True,dtype='float'))\n",
    "    test_dummies.append(pd.get_dummies(X_test[col],prefix=col,dummy_na=True,dtype='float'))"
   ]
  },
  {
   "cell_type": "code",
   "execution_count": 16,
   "id": "136caaa7-9f80-4bed-8465-e0d7b56b6f48",
   "metadata": {
    "tags": []
   },
   "outputs": [],
   "source": [
    "train_dummies = pd.concat(train_dummies,axis=1)\n",
    "test_dummies = pd.concat(test_dummies,axis=1)"
   ]
  },
  {
   "cell_type": "code",
   "execution_count": 17,
   "id": "9377b907-12ea-428c-9e4f-a24279155a13",
   "metadata": {
    "tags": []
   },
   "outputs": [
    {
     "data": {
      "text/plain": [
       "((21171, 35), (2353, 35))"
      ]
     },
     "execution_count": 17,
     "metadata": {},
     "output_type": "execute_result"
    }
   ],
   "source": [
    "train_dummies.shape, test_dummies.shape"
   ]
  },
  {
   "cell_type": "code",
   "execution_count": 18,
   "id": "2a034525-6975-484f-b482-580664ef2405",
   "metadata": {
    "tags": []
   },
   "outputs": [],
   "source": [
    "# 만약 고유값 개수 차이로 인해 학습셋과 테스트셋의 더미 데이터셋 컬럼 차이가 있다면 컬럼수가 적은 쪽으로 컬럼 재지정\n",
    "\n",
    "if train_dummies.shape[1] > test_dummies.shape[1]:\n",
    "    train_dummies = train_dummies[test_dummies.columns]\n",
    "elif train_dummies.shape[1] == test_dummies.shape[1]:\n",
    "    pass\n",
    "else:\n",
    "    test_dummies = test_dummies[train_dummies.columns]"
   ]
  },
  {
   "cell_type": "code",
   "execution_count": 19,
   "id": "cf3f4dfb-4e1a-48be-a730-92b85a57032f",
   "metadata": {
    "tags": []
   },
   "outputs": [
    {
     "data": {
      "text/plain": [
       "((21171, 35), (2353, 35))"
      ]
     },
     "execution_count": 19,
     "metadata": {},
     "output_type": "execute_result"
    }
   ],
   "source": [
    "train_dummies.shape, test_dummies.shape"
   ]
  },
  {
   "cell_type": "code",
   "execution_count": 20,
   "id": "08aebea3-5b25-4a1f-a4d8-8d29fd187d48",
   "metadata": {
    "tags": []
   },
   "outputs": [],
   "source": [
    "# 원본의 학습,테스트셋에 더미데이터셋 합친 후 기존 명목형 컬럼 제거\n",
    "X_tr = pd.concat([X_tr,train_dummies],axis=1).drop(nom_col,axis=1)\n",
    "X_test = pd.concat([X_test,test_dummies],axis=1).drop(nom_col,axis=1)"
   ]
  },
  {
   "cell_type": "code",
   "execution_count": 21,
   "id": "b407e2cf-65c8-47ba-8376-d419fd6d4775",
   "metadata": {
    "tags": []
   },
   "outputs": [
    {
     "data": {
      "text/plain": [
       "((21171, 55), (2353, 55))"
      ]
     },
     "execution_count": 21,
     "metadata": {},
     "output_type": "execute_result"
    }
   ],
   "source": [
    "X_tr.shape, X_test.shape"
   ]
  },
  {
   "cell_type": "code",
   "execution_count": 22,
   "id": "4a8b7b9e-4530-4496-b6ee-1b8b20e2f609",
   "metadata": {
    "tags": []
   },
   "outputs": [
    {
     "data": {
      "text/plain": [
       "id               0\n",
       "AGE              0\n",
       "ALCSTAT          0\n",
       "ARTH1            0\n",
       "BMI              0\n",
       "CHLEV            0\n",
       "CIGAREV2         0\n",
       "CPLROU           0\n",
       "EPHEV            0\n",
       "FSBALANC         0\n",
       "GENDER           0\n",
       "HYPEV            0\n",
       "HYPMDEV2         0\n",
       "HYPMED2          0\n",
       "INTIL2W          0\n",
       "SMKSTAT2         0\n",
       "TIRED_1          0\n",
       "PREG             0\n",
       "HEIGHT(cm)       0\n",
       "WEIGHT(kg)       0\n",
       "HISPAN_I_0.0     0\n",
       "HISPAN_I_1.0     0\n",
       "HISPAN_I_2.0     0\n",
       "HISPAN_I_3.0     0\n",
       "HISPAN_I_4.0     0\n",
       "HISPAN_I_5.0     0\n",
       "HISPAN_I_6.0     0\n",
       "HISPAN_I_7.0     0\n",
       "HISPAN_I_8.0     0\n",
       "HISPAN_I_12.0    0\n",
       "HISPAN_I_nan     0\n",
       "MRACBPI2_1.0     0\n",
       "MRACBPI2_2.0     0\n",
       "MRACBPI2_3.0     0\n",
       "MRACBPI2_6.0     0\n",
       "MRACBPI2_7.0     0\n",
       "MRACBPI2_12.0    0\n",
       "MRACBPI2_16.0    0\n",
       "MRACBPI2_17.0    0\n",
       "MRACBPI2_nan     0\n",
       "MRACRPI2_1.0     0\n",
       "MRACRPI2_2.0     0\n",
       "MRACRPI2_3.0     0\n",
       "MRACRPI2_9.0     0\n",
       "MRACRPI2_10.0    0\n",
       "MRACRPI2_11.0    0\n",
       "MRACRPI2_15.0    0\n",
       "MRACRPI2_16.0    0\n",
       "MRACRPI2_17.0    0\n",
       "MRACRPI2_nan     0\n",
       "REGION_1.0       0\n",
       "REGION_2.0       0\n",
       "REGION_3.0       0\n",
       "REGION_4.0       0\n",
       "REGION_nan       0\n",
       "dtype: int64"
      ]
     },
     "execution_count": 22,
     "metadata": {},
     "output_type": "execute_result"
    }
   ],
   "source": [
    "X_tr.isnull().sum()"
   ]
  },
  {
   "cell_type": "code",
   "execution_count": 23,
   "id": "6041902f-19d1-4848-a12a-5bbc0a400b0d",
   "metadata": {
    "tags": []
   },
   "outputs": [
    {
     "data": {
      "text/plain": [
       "id               0\n",
       "AGE              0\n",
       "ALCSTAT          0\n",
       "ARTH1            0\n",
       "BMI              0\n",
       "CHLEV            0\n",
       "CIGAREV2         0\n",
       "CPLROU           0\n",
       "EPHEV            0\n",
       "FSBALANC         0\n",
       "GENDER           0\n",
       "HYPEV            0\n",
       "HYPMDEV2         0\n",
       "HYPMED2          0\n",
       "INTIL2W          0\n",
       "SMKSTAT2         0\n",
       "TIRED_1          0\n",
       "PREG             0\n",
       "HEIGHT(cm)       0\n",
       "WEIGHT(kg)       0\n",
       "HISPAN_I_0.0     0\n",
       "HISPAN_I_1.0     0\n",
       "HISPAN_I_2.0     0\n",
       "HISPAN_I_3.0     0\n",
       "HISPAN_I_4.0     0\n",
       "HISPAN_I_5.0     0\n",
       "HISPAN_I_6.0     0\n",
       "HISPAN_I_7.0     0\n",
       "HISPAN_I_8.0     0\n",
       "HISPAN_I_12.0    0\n",
       "HISPAN_I_nan     0\n",
       "MRACBPI2_1.0     0\n",
       "MRACBPI2_2.0     0\n",
       "MRACBPI2_3.0     0\n",
       "MRACBPI2_6.0     0\n",
       "MRACBPI2_7.0     0\n",
       "MRACBPI2_12.0    0\n",
       "MRACBPI2_16.0    0\n",
       "MRACBPI2_17.0    0\n",
       "MRACBPI2_nan     0\n",
       "MRACRPI2_1.0     0\n",
       "MRACRPI2_2.0     0\n",
       "MRACRPI2_3.0     0\n",
       "MRACRPI2_9.0     0\n",
       "MRACRPI2_10.0    0\n",
       "MRACRPI2_11.0    0\n",
       "MRACRPI2_15.0    0\n",
       "MRACRPI2_16.0    0\n",
       "MRACRPI2_17.0    0\n",
       "MRACRPI2_nan     0\n",
       "REGION_1.0       0\n",
       "REGION_2.0       0\n",
       "REGION_3.0       0\n",
       "REGION_4.0       0\n",
       "REGION_nan       0\n",
       "dtype: int64"
      ]
     },
     "execution_count": 23,
     "metadata": {},
     "output_type": "execute_result"
    }
   ],
   "source": [
    "X_test.isnull().sum()"
   ]
  },
  {
   "cell_type": "markdown",
   "id": "8b2a5178-8d8f-4e2c-a0f9-6439f1ab2dec",
   "metadata": {},
   "source": [
    "## 1-3 오버샘플링 전 학습 및 평가"
   ]
  },
  {
   "cell_type": "code",
   "execution_count": 24,
   "id": "c8fe0655-fd95-498b-8707-fa69d8b8617a",
   "metadata": {
    "tags": []
   },
   "outputs": [],
   "source": [
    "# 학습 전 학습데이터를 학습/검증으로 분리\n",
    "X_tr_1, X_val, y_tr_1, y_val = train_test_split(X_tr,y_tr,random_state=123,test_size=0.1,shuffle=True,stratify=y_tr)"
   ]
  },
  {
   "cell_type": "code",
   "execution_count": 25,
   "id": "6b62dff3-0813-42d0-949d-39f52ec6644c",
   "metadata": {
    "tags": []
   },
   "outputs": [
    {
     "data": {
      "text/html": [
       "<style>#sk-container-id-1 {color: black;background-color: white;}#sk-container-id-1 pre{padding: 0;}#sk-container-id-1 div.sk-toggleable {background-color: white;}#sk-container-id-1 label.sk-toggleable__label {cursor: pointer;display: block;width: 100%;margin-bottom: 0;padding: 0.3em;box-sizing: border-box;text-align: center;}#sk-container-id-1 label.sk-toggleable__label-arrow:before {content: \"▸\";float: left;margin-right: 0.25em;color: #696969;}#sk-container-id-1 label.sk-toggleable__label-arrow:hover:before {color: black;}#sk-container-id-1 div.sk-estimator:hover label.sk-toggleable__label-arrow:before {color: black;}#sk-container-id-1 div.sk-toggleable__content {max-height: 0;max-width: 0;overflow: hidden;text-align: left;background-color: #f0f8ff;}#sk-container-id-1 div.sk-toggleable__content pre {margin: 0.2em;color: black;border-radius: 0.25em;background-color: #f0f8ff;}#sk-container-id-1 input.sk-toggleable__control:checked~div.sk-toggleable__content {max-height: 200px;max-width: 100%;overflow: auto;}#sk-container-id-1 input.sk-toggleable__control:checked~label.sk-toggleable__label-arrow:before {content: \"▾\";}#sk-container-id-1 div.sk-estimator input.sk-toggleable__control:checked~label.sk-toggleable__label {background-color: #d4ebff;}#sk-container-id-1 div.sk-label input.sk-toggleable__control:checked~label.sk-toggleable__label {background-color: #d4ebff;}#sk-container-id-1 input.sk-hidden--visually {border: 0;clip: rect(1px 1px 1px 1px);clip: rect(1px, 1px, 1px, 1px);height: 1px;margin: -1px;overflow: hidden;padding: 0;position: absolute;width: 1px;}#sk-container-id-1 div.sk-estimator {font-family: monospace;background-color: #f0f8ff;border: 1px dotted black;border-radius: 0.25em;box-sizing: border-box;margin-bottom: 0.5em;}#sk-container-id-1 div.sk-estimator:hover {background-color: #d4ebff;}#sk-container-id-1 div.sk-parallel-item::after {content: \"\";width: 100%;border-bottom: 1px solid gray;flex-grow: 1;}#sk-container-id-1 div.sk-label:hover label.sk-toggleable__label {background-color: #d4ebff;}#sk-container-id-1 div.sk-serial::before {content: \"\";position: absolute;border-left: 1px solid gray;box-sizing: border-box;top: 0;bottom: 0;left: 50%;z-index: 0;}#sk-container-id-1 div.sk-serial {display: flex;flex-direction: column;align-items: center;background-color: white;padding-right: 0.2em;padding-left: 0.2em;position: relative;}#sk-container-id-1 div.sk-item {position: relative;z-index: 1;}#sk-container-id-1 div.sk-parallel {display: flex;align-items: stretch;justify-content: center;background-color: white;position: relative;}#sk-container-id-1 div.sk-item::before, #sk-container-id-1 div.sk-parallel-item::before {content: \"\";position: absolute;border-left: 1px solid gray;box-sizing: border-box;top: 0;bottom: 0;left: 50%;z-index: -1;}#sk-container-id-1 div.sk-parallel-item {display: flex;flex-direction: column;z-index: 1;position: relative;background-color: white;}#sk-container-id-1 div.sk-parallel-item:first-child::after {align-self: flex-end;width: 50%;}#sk-container-id-1 div.sk-parallel-item:last-child::after {align-self: flex-start;width: 50%;}#sk-container-id-1 div.sk-parallel-item:only-child::after {width: 0;}#sk-container-id-1 div.sk-dashed-wrapped {border: 1px dashed gray;margin: 0 0.4em 0.5em 0.4em;box-sizing: border-box;padding-bottom: 0.4em;background-color: white;}#sk-container-id-1 div.sk-label label {font-family: monospace;font-weight: bold;display: inline-block;line-height: 1.2em;}#sk-container-id-1 div.sk-label-container {text-align: center;}#sk-container-id-1 div.sk-container {/* jupyter's `normalize.less` sets `[hidden] { display: none; }` but bootstrap.min.css set `[hidden] { display: none !important; }` so we also need the `!important` here to be able to override the default hidden behavior on the sphinx rendered scikit-learn.org. See: https://github.com/scikit-learn/scikit-learn/issues/21755 */display: inline-block !important;position: relative;}#sk-container-id-1 div.sk-text-repr-fallback {display: none;}</style><div id=\"sk-container-id-1\" class=\"sk-top-container\"><div class=\"sk-text-repr-fallback\"><pre>RandomForestClassifier(max_depth=5, n_estimators=500, n_jobs=5,\n",
       "                       random_state=123)</pre><b>In a Jupyter environment, please rerun this cell to show the HTML representation or trust the notebook. <br />On GitHub, the HTML representation is unable to render, please try loading this page with nbviewer.org.</b></div><div class=\"sk-container\" hidden><div class=\"sk-item\"><div class=\"sk-estimator sk-toggleable\"><input class=\"sk-toggleable__control sk-hidden--visually\" id=\"sk-estimator-id-1\" type=\"checkbox\" checked><label for=\"sk-estimator-id-1\" class=\"sk-toggleable__label sk-toggleable__label-arrow\">RandomForestClassifier</label><div class=\"sk-toggleable__content\"><pre>RandomForestClassifier(max_depth=5, n_estimators=500, n_jobs=5,\n",
       "                       random_state=123)</pre></div></div></div></div></div>"
      ],
      "text/plain": [
       "RandomForestClassifier(max_depth=5, n_estimators=500, n_jobs=5,\n",
       "                       random_state=123)"
      ]
     },
     "execution_count": 25,
     "metadata": {},
     "output_type": "execute_result"
    }
   ],
   "source": [
    "from sklearn.ensemble import RandomForestClassifier\n",
    "\n",
    "rf = RandomForestClassifier(random_state=123, max_depth=5, n_estimators=500,n_jobs=5)\n",
    "rf.fit(X_tr_1,y_tr_1)"
   ]
  },
  {
   "cell_type": "code",
   "execution_count": 26,
   "id": "1823285e-9b8c-4568-a0e2-c193fb3da8ad",
   "metadata": {
    "tags": []
   },
   "outputs": [],
   "source": [
    "pred_prob = rf.predict_proba(X_val)\n",
    "pred = rf.predict(X_val)"
   ]
  },
  {
   "cell_type": "code",
   "execution_count": 27,
   "id": "689c443e-c755-4c91-979f-65859d7c78a0",
   "metadata": {
    "tags": []
   },
   "outputs": [
    {
     "data": {
      "text/plain": [
       "0.8158149409593543"
      ]
     },
     "execution_count": 27,
     "metadata": {},
     "output_type": "execute_result"
    }
   ],
   "source": [
    "from sklearn.metrics import roc_auc_score,classification_report\n",
    "roc_auc_score(y_val, pred_prob[:,1])"
   ]
  },
  {
   "cell_type": "code",
   "execution_count": 28,
   "id": "fe6fd5a5-29d5-4177-86a3-c919af8c5327",
   "metadata": {
    "tags": []
   },
   "outputs": [
    {
     "data": {
      "text/plain": [
       "Counter({0: 2117, 1: 1})"
      ]
     },
     "execution_count": 28,
     "metadata": {},
     "output_type": "execute_result"
    }
   ],
   "source": [
    "Counter(pred)"
   ]
  },
  {
   "cell_type": "code",
   "execution_count": 29,
   "id": "888b639b-3926-4cab-a0bd-ffd8ccb9a31b",
   "metadata": {
    "tags": []
   },
   "outputs": [
    {
     "data": {
      "text/plain": [
       "Counter({0: 1826, 1: 292})"
      ]
     },
     "execution_count": 29,
     "metadata": {},
     "output_type": "execute_result"
    }
   ],
   "source": [
    "Counter(y_val)"
   ]
  },
  {
   "cell_type": "code",
   "execution_count": 30,
   "id": "8f580a44-e7ee-4f36-8d98-1fb06f96381d",
   "metadata": {
    "tags": []
   },
   "outputs": [
    {
     "name": "stdout",
     "output_type": "stream",
     "text": [
      "              precision    recall  f1-score   support\n",
      "\n",
      "           0       0.86      1.00      0.93      1826\n",
      "           1       1.00      0.00      0.01       292\n",
      "\n",
      "    accuracy                           0.86      2118\n",
      "   macro avg       0.93      0.50      0.47      2118\n",
      "weighted avg       0.88      0.86      0.80      2118\n",
      "\n"
     ]
    }
   ],
   "source": [
    "print(classification_report(y_val,pred))"
   ]
  },
  {
   "cell_type": "markdown",
   "id": "335c0407-207e-419a-88f7-a589ae7af04b",
   "metadata": {},
   "source": [
    "1-3-1. 샘플링 없이 학습할 경우 정밀도, f1_score, 정확도 등은 높으나 재현율이 아예 0으로 실제 당뇨병 환자를 당뇨병이 아니라고 오분류 하고 있음"
   ]
  },
  {
   "cell_type": "markdown",
   "id": "06402880-cea6-461c-9962-9ecfa30a01cb",
   "metadata": {
    "tags": []
   },
   "source": [
    "## 1-4 오버샘플링 후 학습"
   ]
  },
  {
   "cell_type": "code",
   "execution_count": 31,
   "id": "997041fd-9923-4beb-b8a6-67f3d4d0cfcf",
   "metadata": {
    "tags": []
   },
   "outputs": [],
   "source": [
    "smote = SMOTE()\n",
    "X_smote,y_smote = smote.fit_resample(X_tr,y_tr)"
   ]
  },
  {
   "cell_type": "code",
   "execution_count": 32,
   "id": "a4b1e703-1c51-40da-b8a7-cc967d382a33",
   "metadata": {
    "tags": []
   },
   "outputs": [
    {
     "data": {
      "text/plain": [
       "((36504, 55), (36504,))"
      ]
     },
     "execution_count": 32,
     "metadata": {},
     "output_type": "execute_result"
    }
   ],
   "source": [
    "X_smote.shape, y_smote.shape"
   ]
  },
  {
   "cell_type": "code",
   "execution_count": 33,
   "id": "83d40211-9b11-49ce-9aa1-e5889335ebdd",
   "metadata": {
    "tags": []
   },
   "outputs": [
    {
     "name": "stdout",
     "output_type": "stream",
     "text": [
      "원본 타겟데이터 비율 Counter({0: 18252, 1: 2919})\n",
      "오버샘플링 타겟데이터 비율 Counter({0: 18252, 1: 18252})\n"
     ]
    }
   ],
   "source": [
    "print(f'원본 타겟데이터 비율 {Counter(y_tr)}')\n",
    "print(f'오버샘플링 타겟데이터 비율 {Counter(y_smote)}')"
   ]
  },
  {
   "cell_type": "code",
   "execution_count": 34,
   "id": "3b948b61-f9a8-48ae-b941-3246a132c5f7",
   "metadata": {
    "tags": []
   },
   "outputs": [],
   "source": [
    "# 학습 전 학습데이터를 학습/검증으로 분리\n",
    "X_tr_2, X_val, y_tr_2, y_val = train_test_split(X_smote,y_smote,random_state=123,test_size=0.1,shuffle=True,stratify=y_smote)"
   ]
  },
  {
   "cell_type": "code",
   "execution_count": 35,
   "id": "625ab50c-2be2-4b9f-9adb-6840e8e730c4",
   "metadata": {
    "tags": []
   },
   "outputs": [
    {
     "data": {
      "text/html": [
       "<style>#sk-container-id-2 {color: black;background-color: white;}#sk-container-id-2 pre{padding: 0;}#sk-container-id-2 div.sk-toggleable {background-color: white;}#sk-container-id-2 label.sk-toggleable__label {cursor: pointer;display: block;width: 100%;margin-bottom: 0;padding: 0.3em;box-sizing: border-box;text-align: center;}#sk-container-id-2 label.sk-toggleable__label-arrow:before {content: \"▸\";float: left;margin-right: 0.25em;color: #696969;}#sk-container-id-2 label.sk-toggleable__label-arrow:hover:before {color: black;}#sk-container-id-2 div.sk-estimator:hover label.sk-toggleable__label-arrow:before {color: black;}#sk-container-id-2 div.sk-toggleable__content {max-height: 0;max-width: 0;overflow: hidden;text-align: left;background-color: #f0f8ff;}#sk-container-id-2 div.sk-toggleable__content pre {margin: 0.2em;color: black;border-radius: 0.25em;background-color: #f0f8ff;}#sk-container-id-2 input.sk-toggleable__control:checked~div.sk-toggleable__content {max-height: 200px;max-width: 100%;overflow: auto;}#sk-container-id-2 input.sk-toggleable__control:checked~label.sk-toggleable__label-arrow:before {content: \"▾\";}#sk-container-id-2 div.sk-estimator input.sk-toggleable__control:checked~label.sk-toggleable__label {background-color: #d4ebff;}#sk-container-id-2 div.sk-label input.sk-toggleable__control:checked~label.sk-toggleable__label {background-color: #d4ebff;}#sk-container-id-2 input.sk-hidden--visually {border: 0;clip: rect(1px 1px 1px 1px);clip: rect(1px, 1px, 1px, 1px);height: 1px;margin: -1px;overflow: hidden;padding: 0;position: absolute;width: 1px;}#sk-container-id-2 div.sk-estimator {font-family: monospace;background-color: #f0f8ff;border: 1px dotted black;border-radius: 0.25em;box-sizing: border-box;margin-bottom: 0.5em;}#sk-container-id-2 div.sk-estimator:hover {background-color: #d4ebff;}#sk-container-id-2 div.sk-parallel-item::after {content: \"\";width: 100%;border-bottom: 1px solid gray;flex-grow: 1;}#sk-container-id-2 div.sk-label:hover label.sk-toggleable__label {background-color: #d4ebff;}#sk-container-id-2 div.sk-serial::before {content: \"\";position: absolute;border-left: 1px solid gray;box-sizing: border-box;top: 0;bottom: 0;left: 50%;z-index: 0;}#sk-container-id-2 div.sk-serial {display: flex;flex-direction: column;align-items: center;background-color: white;padding-right: 0.2em;padding-left: 0.2em;position: relative;}#sk-container-id-2 div.sk-item {position: relative;z-index: 1;}#sk-container-id-2 div.sk-parallel {display: flex;align-items: stretch;justify-content: center;background-color: white;position: relative;}#sk-container-id-2 div.sk-item::before, #sk-container-id-2 div.sk-parallel-item::before {content: \"\";position: absolute;border-left: 1px solid gray;box-sizing: border-box;top: 0;bottom: 0;left: 50%;z-index: -1;}#sk-container-id-2 div.sk-parallel-item {display: flex;flex-direction: column;z-index: 1;position: relative;background-color: white;}#sk-container-id-2 div.sk-parallel-item:first-child::after {align-self: flex-end;width: 50%;}#sk-container-id-2 div.sk-parallel-item:last-child::after {align-self: flex-start;width: 50%;}#sk-container-id-2 div.sk-parallel-item:only-child::after {width: 0;}#sk-container-id-2 div.sk-dashed-wrapped {border: 1px dashed gray;margin: 0 0.4em 0.5em 0.4em;box-sizing: border-box;padding-bottom: 0.4em;background-color: white;}#sk-container-id-2 div.sk-label label {font-family: monospace;font-weight: bold;display: inline-block;line-height: 1.2em;}#sk-container-id-2 div.sk-label-container {text-align: center;}#sk-container-id-2 div.sk-container {/* jupyter's `normalize.less` sets `[hidden] { display: none; }` but bootstrap.min.css set `[hidden] { display: none !important; }` so we also need the `!important` here to be able to override the default hidden behavior on the sphinx rendered scikit-learn.org. See: https://github.com/scikit-learn/scikit-learn/issues/21755 */display: inline-block !important;position: relative;}#sk-container-id-2 div.sk-text-repr-fallback {display: none;}</style><div id=\"sk-container-id-2\" class=\"sk-top-container\"><div class=\"sk-text-repr-fallback\"><pre>RandomForestClassifier(max_depth=5, n_estimators=500, n_jobs=5,\n",
       "                       random_state=123)</pre><b>In a Jupyter environment, please rerun this cell to show the HTML representation or trust the notebook. <br />On GitHub, the HTML representation is unable to render, please try loading this page with nbviewer.org.</b></div><div class=\"sk-container\" hidden><div class=\"sk-item\"><div class=\"sk-estimator sk-toggleable\"><input class=\"sk-toggleable__control sk-hidden--visually\" id=\"sk-estimator-id-2\" type=\"checkbox\" checked><label for=\"sk-estimator-id-2\" class=\"sk-toggleable__label sk-toggleable__label-arrow\">RandomForestClassifier</label><div class=\"sk-toggleable__content\"><pre>RandomForestClassifier(max_depth=5, n_estimators=500, n_jobs=5,\n",
       "                       random_state=123)</pre></div></div></div></div></div>"
      ],
      "text/plain": [
       "RandomForestClassifier(max_depth=5, n_estimators=500, n_jobs=5,\n",
       "                       random_state=123)"
      ]
     },
     "execution_count": 35,
     "metadata": {},
     "output_type": "execute_result"
    }
   ],
   "source": [
    "from sklearn.ensemble import RandomForestClassifier\n",
    "\n",
    "rf = RandomForestClassifier(random_state=123, max_depth=5, n_estimators=500,n_jobs=5)\n",
    "rf.fit(X_tr_2,y_tr_2)"
   ]
  },
  {
   "cell_type": "code",
   "execution_count": 36,
   "id": "ce32779c-ec73-49ad-b2c1-73c0903d87e1",
   "metadata": {
    "tags": []
   },
   "outputs": [],
   "source": [
    "pred_prob = rf.predict_proba(X_val)\n",
    "pred = rf.predict(X_val)"
   ]
  },
  {
   "cell_type": "code",
   "execution_count": 37,
   "id": "cba67140-65bb-46af-9c0b-684046ed9fc0",
   "metadata": {
    "tags": []
   },
   "outputs": [
    {
     "data": {
      "text/plain": [
       "0.9502433644915902"
      ]
     },
     "execution_count": 37,
     "metadata": {},
     "output_type": "execute_result"
    }
   ],
   "source": [
    "roc_auc_score(y_val, pred_prob[:,1])"
   ]
  },
  {
   "cell_type": "code",
   "execution_count": 38,
   "id": "ad13d46a-8e85-47eb-a1ea-0dc8eba0d735",
   "metadata": {
    "tags": []
   },
   "outputs": [
    {
     "data": {
      "text/plain": [
       "Counter({0: 1782, 1: 1869})"
      ]
     },
     "execution_count": 38,
     "metadata": {},
     "output_type": "execute_result"
    }
   ],
   "source": [
    "Counter(pred)"
   ]
  },
  {
   "cell_type": "code",
   "execution_count": 39,
   "id": "fb2d9125-dd49-474d-8e9d-a832df0e0a2f",
   "metadata": {
    "tags": []
   },
   "outputs": [
    {
     "data": {
      "text/plain": [
       "Counter({0: 1826, 1: 1825})"
      ]
     },
     "execution_count": 39,
     "metadata": {},
     "output_type": "execute_result"
    }
   ],
   "source": [
    "Counter(y_val)"
   ]
  },
  {
   "cell_type": "code",
   "execution_count": 40,
   "id": "d1564035-9efa-485b-ba92-16f404c15976",
   "metadata": {
    "tags": []
   },
   "outputs": [
    {
     "name": "stdout",
     "output_type": "stream",
     "text": [
      "              precision    recall  f1-score   support\n",
      "\n",
      "           0       0.87      0.85      0.86      1826\n",
      "           1       0.85      0.87      0.86      1825\n",
      "\n",
      "    accuracy                           0.86      3651\n",
      "   macro avg       0.86      0.86      0.86      3651\n",
      "weighted avg       0.86      0.86      0.86      3651\n",
      "\n"
     ]
    }
   ],
   "source": [
    "print(classification_report(y_val,pred))"
   ]
  },
  {
   "cell_type": "code",
   "execution_count": 41,
   "id": "6bb0f89b-b24c-46a7-ab56-7912a337199b",
   "metadata": {
    "tags": []
   },
   "outputs": [],
   "source": [
    "pred_prob = rf.predict_proba(X_test)\n",
    "pred = rf.predict(X_test)"
   ]
  },
  {
   "cell_type": "code",
   "execution_count": 42,
   "id": "7e8b3f50-4ec8-496d-b37f-49b2f4e53dbe",
   "metadata": {
    "tags": []
   },
   "outputs": [
    {
     "data": {
      "text/plain": [
       "0.7935483331203719"
      ]
     },
     "execution_count": 42,
     "metadata": {},
     "output_type": "execute_result"
    }
   ],
   "source": [
    "roc_auc_score(y_test, pred_prob[:,1])"
   ]
  },
  {
   "cell_type": "code",
   "execution_count": 43,
   "id": "63473c2d-ced3-4092-bf89-979fee3e67d4",
   "metadata": {
    "tags": []
   },
   "outputs": [
    {
     "name": "stdout",
     "output_type": "stream",
     "text": [
      "              precision    recall  f1-score   support\n",
      "\n",
      "           0       0.92      0.84      0.88      2029\n",
      "           1       0.36      0.56      0.44       324\n",
      "\n",
      "    accuracy                           0.80      2353\n",
      "   macro avg       0.64      0.70      0.66      2353\n",
      "weighted avg       0.85      0.80      0.82      2353\n",
      "\n"
     ]
    }
   ],
   "source": [
    "print(classification_report(y_test,pred))"
   ]
  },
  {
   "cell_type": "code",
   "execution_count": 44,
   "id": "d613a0f8-b4df-4e25-a40d-4413d544f857",
   "metadata": {
    "tags": []
   },
   "outputs": [
    {
     "name": "stdout",
     "output_type": "stream",
     "text": [
      "True data 비율 Counter({0: 2029, 1: 324})\n",
      "예측 data 비율 Counter({0: 1850, 1: 503})\n"
     ]
    }
   ],
   "source": [
    "print(f'True data 비율 {Counter(y_test)}')\n",
    "print(f'예측 data 비율 {Counter(pred)}')      "
   ]
  },
  {
   "cell_type": "code",
   "execution_count": 45,
   "id": "ddc95931-2158-46e6-a0de-40cc558c0f5b",
   "metadata": {
    "tags": []
   },
   "outputs": [
    {
     "data": {
      "text/plain": [
       "0.36182902584493043"
      ]
     },
     "execution_count": 45,
     "metadata": {},
     "output_type": "execute_result"
    }
   ],
   "source": [
    "precision_score(y_test,pred)"
   ]
  },
  {
   "cell_type": "code",
   "execution_count": 46,
   "id": "bbd29241-3871-427b-a014-27f2933ab66d",
   "metadata": {
    "tags": []
   },
   "outputs": [
    {
     "data": {
      "text/plain": [
       "0.5617283950617284"
      ]
     },
     "execution_count": 46,
     "metadata": {},
     "output_type": "execute_result"
    }
   ],
   "source": [
    "recall_score(y_test,pred)"
   ]
  },
  {
   "cell_type": "code",
   "execution_count": 47,
   "id": "4863d16e-fc82-499b-8913-2b42ccb2950c",
   "metadata": {
    "tags": []
   },
   "outputs": [
    {
     "data": {
      "text/plain": [
       "0.44014510278113667"
      ]
     },
     "execution_count": 47,
     "metadata": {},
     "output_type": "execute_result"
    }
   ],
   "source": [
    "f1_score(y_test,pred)"
   ]
  },
  {
   "cell_type": "code",
   "execution_count": 48,
   "id": "be4b8353-d325-4d72-abad-387ab03358a6",
   "metadata": {
    "tags": []
   },
   "outputs": [
    {
     "data": {
      "text/plain": [
       "0.3597567679603712"
      ]
     },
     "execution_count": 48,
     "metadata": {},
     "output_type": "execute_result"
    }
   ],
   "source": [
    "precision, recall, _ = precision_recall_curve(y_test, pred_prob[:,1])\n",
    "pr_auc = auc(recall, precision)\n",
    "pr_auc"
   ]
  },
  {
   "cell_type": "markdown",
   "id": "998dd8b4-34d3-49e0-8c23-35ffc4510a97",
   "metadata": {
    "tags": []
   },
   "source": [
    "## 1-4. 모델 선정 및 하이퍼파라미터 최적화\n",
    "\n",
    "모델 : RandomForestClassifier / XGBClassifier / XGBRFClassifier / LGBM / LogisticRegressor\n",
    "\n",
    "하이퍼파라미터 최적화 툴 : Optuna, Pycaret, auto-sklearn"
   ]
  },
  {
   "cell_type": "markdown",
   "id": "b96f2e4d-e92a-42d0-9aae-f6728fa59875",
   "metadata": {},
   "source": [
    "# 2. 데이터 언더샘플링"
   ]
  },
  {
   "cell_type": "markdown",
   "id": "99a30d4c-a023-4fa1-a3ff-3a7711c9b39c",
   "metadata": {
    "tags": []
   },
   "source": [
    "## 2-1. 데이터셋 언더샘플링 분할"
   ]
  },
  {
   "cell_type": "code",
   "execution_count": 49,
   "id": "8cb4ffce-c708-4fea-a34d-c3651e2cf736",
   "metadata": {
    "tags": []
   },
   "outputs": [
    {
     "data": {
      "text/plain": [
       "DIBEV1\n",
       "0    20281\n",
       "1     3243\n",
       "Name: count, dtype: int64"
      ]
     },
     "execution_count": 49,
     "metadata": {},
     "output_type": "execute_result"
    }
   ],
   "source": [
    "df['DIBEV1'].value_counts()"
   ]
  },
  {
   "cell_type": "code",
   "execution_count": 50,
   "id": "5e7b0ccb-ec3d-4cc8-8b0d-7a94afe55529",
   "metadata": {
    "tags": []
   },
   "outputs": [],
   "source": [
    "df_0 = df[df['DIBEV1']==0].copy()\n",
    "df_1 = df[df['DIBEV1']==1].copy()"
   ]
  },
  {
   "cell_type": "code",
   "execution_count": 51,
   "id": "415f29f5-7c88-474a-96b2-dd9783fa4ffc",
   "metadata": {
    "tags": []
   },
   "outputs": [],
   "source": [
    "def data_sampling(X,n_set):\n",
    "    '''비복원 데이터 샘플링'''\n",
    "    np.random.seed(123)\n",
    "    n_sets = n_set  # 만들고자하는 데이터세트 수\n",
    "    set_size = round(X.shape[0]/n_set)  # 각 세트의 크기\n",
    "    X_index = X.index  # 데이터프레임의 인덱스\n",
    "\n",
    "    data_set = []  # X 데이터의 여러 세트를 저장할 리스트\n",
    "\n",
    "    for _ in range(n_sets - 1):\n",
    "        sampled_index = np.random.choice(X_index, size=set_size, replace=False)\n",
    "        X_index = np.setdiff1d(X_index, sampled_index)  # 추출된 인덱스를 제외합니다.\n",
    "        data_set.append(X.loc[sampled_index])\n",
    "    \n",
    "    data_set.append(X.loc[X_index])\n",
    "    return data_set"
   ]
  },
  {
   "cell_type": "code",
   "execution_count": 52,
   "id": "e3be8be6-ca96-4acd-8b5f-ef0c772f7e73",
   "metadata": {
    "tags": []
   },
   "outputs": [],
   "source": [
    "data_set = data_sampling(df_0,9)"
   ]
  },
  {
   "cell_type": "code",
   "execution_count": 53,
   "id": "2d841518-83cd-442c-82d9-73067c26bcc7",
   "metadata": {
    "tags": []
   },
   "outputs": [
    {
     "data": {
      "text/plain": [
       "((2253, 25), (2257, 25))"
      ]
     },
     "execution_count": 53,
     "metadata": {},
     "output_type": "execute_result"
    }
   ],
   "source": [
    "data_set[0].shape , data_set[-1].shape"
   ]
  },
  {
   "cell_type": "code",
   "execution_count": 54,
   "id": "fabf2538-917c-43e4-a824-3ed1b597cbe6",
   "metadata": {
    "tags": []
   },
   "outputs": [],
   "source": [
    "for i,data in enumerate(data_set,start=1):\n",
    "    globals()[f'udf_{i}'] = pd.concat([data,df_1],axis=0)"
   ]
  },
  {
   "cell_type": "code",
   "execution_count": 55,
   "id": "fbf7bdb1-dade-45aa-918d-ec2836fc5cb7",
   "metadata": {
    "tags": []
   },
   "outputs": [],
   "source": [
    "# 언더샘플링 1~8을 학습용 / 마지막 udf_9를 검증용으로 사용\n",
    "udf_set = [udf_1,udf_2,udf_3,udf_4,udf_5,udf_6,udf_7,udf_8]\n",
    "# uff_9 <- 검증용으로 사용"
   ]
  },
  {
   "cell_type": "code",
   "execution_count": 56,
   "id": "8899d882-a894-426e-8916-9734e5f03cbc",
   "metadata": {
    "tags": []
   },
   "outputs": [
    {
     "name": "stdout",
     "output_type": "stream",
     "text": [
      "1번째 데이터셋 타겟 비율 : Counter({1: 3243, 0: 2253})\n",
      "2번째 데이터셋 타겟 비율 : Counter({1: 3243, 0: 2253})\n",
      "3번째 데이터셋 타겟 비율 : Counter({1: 3243, 0: 2253})\n",
      "4번째 데이터셋 타겟 비율 : Counter({1: 3243, 0: 2253})\n",
      "5번째 데이터셋 타겟 비율 : Counter({1: 3243, 0: 2253})\n",
      "6번째 데이터셋 타겟 비율 : Counter({1: 3243, 0: 2253})\n",
      "7번째 데이터셋 타겟 비율 : Counter({1: 3243, 0: 2253})\n",
      "8번째 데이터셋 타겟 비율 : Counter({1: 3243, 0: 2253})\n",
      "9번째 데이터셋 타겟 비율 : Counter({1: 3243, 0: 2257})\n"
     ]
    }
   ],
   "source": [
    "# 각 데이터셋 타겟 비율 확인\n",
    "for i,data in enumerate(udf_set+[udf_9]):\n",
    "    print(f'{i+1}번째 데이터셋 타겟 비율 : {Counter(data.iloc[:,-1])}')"
   ]
  },
  {
   "cell_type": "markdown",
   "id": "08a9ed60-f43e-4444-af2d-7cd48d7f5fd9",
   "metadata": {
    "tags": []
   },
   "source": [
    "## 2-1. 수치형 데이터 스케일링"
   ]
  },
  {
   "cell_type": "code",
   "execution_count": 57,
   "id": "5299e842-0c0e-4492-86c5-5bd3dd41e4e1",
   "metadata": {
    "tags": []
   },
   "outputs": [],
   "source": [
    "total_set = pd.concat(udf_set,axis=0)"
   ]
  },
  {
   "cell_type": "code",
   "execution_count": 58,
   "id": "fc864661-4681-4c35-bffb-744e3fae10ad",
   "metadata": {
    "tags": []
   },
   "outputs": [],
   "source": [
    "num_col = ['AGE','BMI','HEIGHT(cm)','WEIGHT(kg)']"
   ]
  },
  {
   "cell_type": "code",
   "execution_count": 59,
   "id": "2f71ffa6-781f-4f1b-b851-2242f6d5132e",
   "metadata": {
    "tags": []
   },
   "outputs": [],
   "source": [
    "for col in num_col:\n",
    "    ss = StandardScaler()\n",
    "    ss.fit(total_set[[col]])\n",
    "    for udf in udf_set:\n",
    "        udf[col] = ss.transform(udf[[col]])\n",
    "udf_9[col] = ss.transform(udf_9[[col]])"
   ]
  },
  {
   "cell_type": "markdown",
   "id": "7ed177cb-4829-447b-bedf-4aaa31b5f50e",
   "metadata": {},
   "source": [
    "## 2-2. unique 개수가 3개 이상인 컬럼들 onehotencoding"
   ]
  },
  {
   "cell_type": "code",
   "execution_count": 60,
   "id": "6d3241c3-102e-475e-ae00-d01774480314",
   "metadata": {
    "tags": []
   },
   "outputs": [],
   "source": [
    "# 데이터프레임 전체 컬럼에서 수치형 컬럼 제외\n",
    "cols = np.setdiff1d(df.columns,num_col)\n",
    "\n",
    "# 위 컬럼에서 고유값 개수가 3개 이상인 컬럼만 추출\n",
    "nom_col = []\n",
    "for col in cols:\n",
    "    if df[col].nunique() >= 3:\n",
    "        nom_col.append(col)"
   ]
  },
  {
   "cell_type": "code",
   "execution_count": 61,
   "id": "179549fd-0c1e-4609-b2d0-296e4d314394",
   "metadata": {
    "tags": []
   },
   "outputs": [
    {
     "data": {
      "text/plain": [
       "['HISPAN_I', 'MRACBPI2', 'MRACRPI2', 'REGION', 'id']"
      ]
     },
     "execution_count": 61,
     "metadata": {},
     "output_type": "execute_result"
    }
   ],
   "source": [
    "nom_col"
   ]
  },
  {
   "cell_type": "code",
   "execution_count": 62,
   "id": "7f5a8cd8-8bdd-4f60-bc03-06fb944426aa",
   "metadata": {
    "tags": []
   },
   "outputs": [
    {
     "data": {
      "text/plain": [
       "['HISPAN_I', 'MRACBPI2', 'MRACRPI2', 'REGION']"
      ]
     },
     "execution_count": 62,
     "metadata": {},
     "output_type": "execute_result"
    }
   ],
   "source": [
    "# 위 명목형 컬럼들에서 id 컬럼 제외\n",
    "nom_col.remove('id')\n",
    "nom_col"
   ]
  },
  {
   "cell_type": "code",
   "execution_count": 63,
   "id": "25d7642d-50a7-4f99-982d-dd2c981eb2ad",
   "metadata": {
    "tags": []
   },
   "outputs": [],
   "source": [
    "# 명목형 컬럼들에 대한 dummy 데이터 생성(원핫인코딩)\n",
    "train_dummies = []\n",
    "test_dummies = []\n",
    "for col in nom_col:\n",
    "    train_dummies.append(pd.get_dummies(total_set[col],prefix=col,dummy_na=True,dtype='float'))\n",
    "    test_dummies.append(pd.get_dummies(udf_9[col],prefix=col,dummy_na=True,dtype='float'))"
   ]
  },
  {
   "cell_type": "code",
   "execution_count": 64,
   "id": "53579a0e-7311-4130-a657-c4efaa1b3aca",
   "metadata": {
    "tags": []
   },
   "outputs": [],
   "source": [
    "train_dummies = pd.concat(train_dummies,axis=1)\n",
    "test_dummies = pd.concat(test_dummies,axis=1)"
   ]
  },
  {
   "cell_type": "code",
   "execution_count": 65,
   "id": "de48ded8-e585-4509-8522-0cd4c70ab6de",
   "metadata": {
    "tags": []
   },
   "outputs": [
    {
     "data": {
      "text/plain": [
       "((43968, 35), (5500, 35))"
      ]
     },
     "execution_count": 65,
     "metadata": {},
     "output_type": "execute_result"
    }
   ],
   "source": [
    "train_dummies.shape, test_dummies.shape"
   ]
  },
  {
   "cell_type": "code",
   "execution_count": 66,
   "id": "357d9fc0-2b91-4f55-b6ad-08a5eadb3357",
   "metadata": {
    "tags": []
   },
   "outputs": [],
   "source": [
    "# 만약 고유값 개수 차이로 인해 학습셋과 테스트셋의 더미 데이터셋 컬럼 차이가 있다면 컬럼수가 적은 쪽으로 컬럼 재지정\n",
    "\n",
    "if train_dummies.shape[1] > test_dummies.shape[1]:\n",
    "    train_dummies = train_dummies[test_dummies.columns]\n",
    "elif train_dummies.shape[1] == test_dummies.shape[1]:\n",
    "    pass\n",
    "else:\n",
    "    test_dummies = test_dummies[train_dummies.columns]"
   ]
  },
  {
   "cell_type": "code",
   "execution_count": 67,
   "id": "2751b75c-e6ec-4d5e-adc1-c81f865e9f48",
   "metadata": {
    "tags": []
   },
   "outputs": [
    {
     "data": {
      "text/plain": [
       "((43968, 35), (5500, 35))"
      ]
     },
     "execution_count": 67,
     "metadata": {},
     "output_type": "execute_result"
    }
   ],
   "source": [
    "train_dummies.shape, test_dummies.shape"
   ]
  },
  {
   "cell_type": "code",
   "execution_count": 74,
   "id": "88c1dd4f-3f9f-438b-ba7d-0628e134607c",
   "metadata": {
    "tags": []
   },
   "outputs": [
    {
     "data": {
      "text/plain": [
       "(5496, 25)"
      ]
     },
     "execution_count": 74,
     "metadata": {},
     "output_type": "execute_result"
    }
   ],
   "source": [
    "udf_1.shape"
   ]
  },
  {
   "cell_type": "code",
   "execution_count": 69,
   "id": "9e0f89ab-aade-4f3b-a494-de4aba8b4c77",
   "metadata": {
    "tags": []
   },
   "outputs": [
    {
     "data": {
      "text/plain": [
       "DIBEV1\n",
       "1    3243\n",
       "0    2253\n",
       "Name: count, dtype: int64"
      ]
     },
     "execution_count": 69,
     "metadata": {},
     "output_type": "execute_result"
    }
   ],
   "source": [
    "udf_1['DIBEV1'].value_counts()"
   ]
  },
  {
   "cell_type": "code",
   "execution_count": 70,
   "id": "25c39913-7825-4496-98a0-18c1a8c68272",
   "metadata": {
    "tags": []
   },
   "outputs": [],
   "source": [
    "total_set = pd.concat(udf_set,axis=0)"
   ]
  },
  {
   "cell_type": "code",
   "execution_count": 75,
   "id": "31e864d3-464e-4610-83e5-001bff8c4553",
   "metadata": {
    "tags": []
   },
   "outputs": [
    {
     "data": {
      "text/plain": [
       "3243"
      ]
     },
     "execution_count": 75,
     "metadata": {},
     "output_type": "execute_result"
    }
   ],
   "source": [
    "total_set['DIBEV1'][:5497].sum()"
   ]
  },
  {
   "cell_type": "code",
   "execution_count": 76,
   "id": "a026840a-30ed-4601-8ace-92a5f1d59e81",
   "metadata": {
    "tags": []
   },
   "outputs": [],
   "source": [
    "# 원본의 학습,테스트셋에 더미데이터셋 합친 후 기존 명목형 컬럼 제거\n",
    "total_set = pd.concat([total_set,train_dummies],axis=1).drop(nom_col,axis=1)\n",
    "udf_9 = pd.concat([udf_9,test_dummies],axis=1).drop(nom_col,axis=1)"
   ]
  },
  {
   "cell_type": "code",
   "execution_count": 78,
   "id": "949b7c99-d3fd-4ed7-8ddb-74be08eda9f8",
   "metadata": {
    "tags": []
   },
   "outputs": [
    {
     "data": {
      "text/plain": [
       "((5496, 25), (43968, 56))"
      ]
     },
     "execution_count": 78,
     "metadata": {},
     "output_type": "execute_result"
    }
   ],
   "source": [
    "udf_1.shape, total_set.shape"
   ]
  },
  {
   "cell_type": "code",
   "execution_count": 88,
   "id": "a8e4c805-6e7b-4bc6-9671-800842fa2b21",
   "metadata": {
    "tags": []
   },
   "outputs": [
    {
     "data": {
      "text/html": [
       "<div>\n",
       "<style scoped>\n",
       "    .dataframe tbody tr th:only-of-type {\n",
       "        vertical-align: middle;\n",
       "    }\n",
       "\n",
       "    .dataframe tbody tr th {\n",
       "        vertical-align: top;\n",
       "    }\n",
       "\n",
       "    .dataframe thead th {\n",
       "        text-align: right;\n",
       "    }\n",
       "</style>\n",
       "<table border=\"1\" class=\"dataframe\">\n",
       "  <thead>\n",
       "    <tr style=\"text-align: right;\">\n",
       "      <th></th>\n",
       "      <th>id</th>\n",
       "      <th>AGE</th>\n",
       "      <th>ALCSTAT</th>\n",
       "      <th>ARTH1</th>\n",
       "      <th>BMI</th>\n",
       "      <th>CHLEV</th>\n",
       "      <th>CIGAREV2</th>\n",
       "      <th>CPLROU</th>\n",
       "      <th>EPHEV</th>\n",
       "      <th>FSBALANC</th>\n",
       "      <th>...</th>\n",
       "      <th>MRACRPI2_11.0</th>\n",
       "      <th>MRACRPI2_15.0</th>\n",
       "      <th>MRACRPI2_16.0</th>\n",
       "      <th>MRACRPI2_17.0</th>\n",
       "      <th>MRACRPI2_nan</th>\n",
       "      <th>REGION_1.0</th>\n",
       "      <th>REGION_2.0</th>\n",
       "      <th>REGION_3.0</th>\n",
       "      <th>REGION_4.0</th>\n",
       "      <th>REGION_nan</th>\n",
       "    </tr>\n",
       "  </thead>\n",
       "  <tbody>\n",
       "    <tr>\n",
       "      <th>5498</th>\n",
       "      <td>1000123561</td>\n",
       "      <td>-0.750579</td>\n",
       "      <td>0.0</td>\n",
       "      <td>0.0</td>\n",
       "      <td>-0.692189</td>\n",
       "      <td>0.0</td>\n",
       "      <td>0.0</td>\n",
       "      <td>1.0</td>\n",
       "      <td>0.0</td>\n",
       "      <td>0</td>\n",
       "      <td>...</td>\n",
       "      <td>0.0</td>\n",
       "      <td>0.0</td>\n",
       "      <td>0.0</td>\n",
       "      <td>0.0</td>\n",
       "      <td>0.0</td>\n",
       "      <td>1.0</td>\n",
       "      <td>0.0</td>\n",
       "      <td>0.0</td>\n",
       "      <td>0.0</td>\n",
       "      <td>0.0</td>\n",
       "    </tr>\n",
       "    <tr>\n",
       "      <th>18663</th>\n",
       "      <td>1000440471</td>\n",
       "      <td>0.328700</td>\n",
       "      <td>0.0</td>\n",
       "      <td>1.0</td>\n",
       "      <td>0.622534</td>\n",
       "      <td>0.0</td>\n",
       "      <td>0.0</td>\n",
       "      <td>1.0</td>\n",
       "      <td>0.0</td>\n",
       "      <td>0</td>\n",
       "      <td>...</td>\n",
       "      <td>0.0</td>\n",
       "      <td>0.0</td>\n",
       "      <td>0.0</td>\n",
       "      <td>0.0</td>\n",
       "      <td>0.0</td>\n",
       "      <td>0.0</td>\n",
       "      <td>0.0</td>\n",
       "      <td>1.0</td>\n",
       "      <td>0.0</td>\n",
       "      <td>0.0</td>\n",
       "    </tr>\n",
       "    <tr>\n",
       "      <th>12513</th>\n",
       "      <td>1000288831</td>\n",
       "      <td>1.578391</td>\n",
       "      <td>0.0</td>\n",
       "      <td>0.0</td>\n",
       "      <td>-1.287723</td>\n",
       "      <td>0.0</td>\n",
       "      <td>0.0</td>\n",
       "      <td>0.0</td>\n",
       "      <td>0.0</td>\n",
       "      <td>0</td>\n",
       "      <td>...</td>\n",
       "      <td>0.0</td>\n",
       "      <td>0.0</td>\n",
       "      <td>0.0</td>\n",
       "      <td>0.0</td>\n",
       "      <td>0.0</td>\n",
       "      <td>1.0</td>\n",
       "      <td>0.0</td>\n",
       "      <td>0.0</td>\n",
       "      <td>0.0</td>\n",
       "      <td>0.0</td>\n",
       "    </tr>\n",
       "    <tr>\n",
       "      <th>20029</th>\n",
       "      <td>1000473161</td>\n",
       "      <td>-1.773053</td>\n",
       "      <td>1.0</td>\n",
       "      <td>0.0</td>\n",
       "      <td>-1.499974</td>\n",
       "      <td>0.0</td>\n",
       "      <td>0.0</td>\n",
       "      <td>1.0</td>\n",
       "      <td>0.0</td>\n",
       "      <td>0</td>\n",
       "      <td>...</td>\n",
       "      <td>0.0</td>\n",
       "      <td>0.0</td>\n",
       "      <td>0.0</td>\n",
       "      <td>0.0</td>\n",
       "      <td>0.0</td>\n",
       "      <td>0.0</td>\n",
       "      <td>1.0</td>\n",
       "      <td>0.0</td>\n",
       "      <td>0.0</td>\n",
       "      <td>0.0</td>\n",
       "    </tr>\n",
       "    <tr>\n",
       "      <th>4253</th>\n",
       "      <td>100095441</td>\n",
       "      <td>0.215092</td>\n",
       "      <td>0.0</td>\n",
       "      <td>1.0</td>\n",
       "      <td>-1.608091</td>\n",
       "      <td>0.0</td>\n",
       "      <td>0.0</td>\n",
       "      <td>1.0</td>\n",
       "      <td>0.0</td>\n",
       "      <td>0</td>\n",
       "      <td>...</td>\n",
       "      <td>0.0</td>\n",
       "      <td>0.0</td>\n",
       "      <td>0.0</td>\n",
       "      <td>0.0</td>\n",
       "      <td>0.0</td>\n",
       "      <td>0.0</td>\n",
       "      <td>0.0</td>\n",
       "      <td>0.0</td>\n",
       "      <td>1.0</td>\n",
       "      <td>0.0</td>\n",
       "    </tr>\n",
       "    <tr>\n",
       "      <th>...</th>\n",
       "      <td>...</td>\n",
       "      <td>...</td>\n",
       "      <td>...</td>\n",
       "      <td>...</td>\n",
       "      <td>...</td>\n",
       "      <td>...</td>\n",
       "      <td>...</td>\n",
       "      <td>...</td>\n",
       "      <td>...</td>\n",
       "      <td>...</td>\n",
       "      <td>...</td>\n",
       "      <td>...</td>\n",
       "      <td>...</td>\n",
       "      <td>...</td>\n",
       "      <td>...</td>\n",
       "      <td>...</td>\n",
       "      <td>...</td>\n",
       "      <td>...</td>\n",
       "      <td>...</td>\n",
       "      <td>...</td>\n",
       "      <td>...</td>\n",
       "    </tr>\n",
       "    <tr>\n",
       "      <th>23506</th>\n",
       "      <td>1000555271</td>\n",
       "      <td>0.442308</td>\n",
       "      <td>0.0</td>\n",
       "      <td>0.0</td>\n",
       "      <td>0.460561</td>\n",
       "      <td>1.0</td>\n",
       "      <td>0.0</td>\n",
       "      <td>1.0</td>\n",
       "      <td>0.0</td>\n",
       "      <td>0</td>\n",
       "      <td>...</td>\n",
       "      <td>0.0</td>\n",
       "      <td>0.0</td>\n",
       "      <td>0.0</td>\n",
       "      <td>0.0</td>\n",
       "      <td>0.0</td>\n",
       "      <td>0.0</td>\n",
       "      <td>1.0</td>\n",
       "      <td>0.0</td>\n",
       "      <td>0.0</td>\n",
       "      <td>0.0</td>\n",
       "    </tr>\n",
       "    <tr>\n",
       "      <th>23507</th>\n",
       "      <td>1000555281</td>\n",
       "      <td>1.010350</td>\n",
       "      <td>1.0</td>\n",
       "      <td>0.0</td>\n",
       "      <td>-0.204676</td>\n",
       "      <td>1.0</td>\n",
       "      <td>0.0</td>\n",
       "      <td>1.0</td>\n",
       "      <td>0.0</td>\n",
       "      <td>0</td>\n",
       "      <td>...</td>\n",
       "      <td>0.0</td>\n",
       "      <td>0.0</td>\n",
       "      <td>0.0</td>\n",
       "      <td>0.0</td>\n",
       "      <td>0.0</td>\n",
       "      <td>0.0</td>\n",
       "      <td>0.0</td>\n",
       "      <td>1.0</td>\n",
       "      <td>0.0</td>\n",
       "      <td>0.0</td>\n",
       "    </tr>\n",
       "    <tr>\n",
       "      <th>23509</th>\n",
       "      <td>1000555341</td>\n",
       "      <td>-0.012125</td>\n",
       "      <td>0.0</td>\n",
       "      <td>0.0</td>\n",
       "      <td>-1.309706</td>\n",
       "      <td>1.0</td>\n",
       "      <td>0.0</td>\n",
       "      <td>1.0</td>\n",
       "      <td>0.0</td>\n",
       "      <td>0</td>\n",
       "      <td>...</td>\n",
       "      <td>0.0</td>\n",
       "      <td>1.0</td>\n",
       "      <td>0.0</td>\n",
       "      <td>0.0</td>\n",
       "      <td>0.0</td>\n",
       "      <td>0.0</td>\n",
       "      <td>1.0</td>\n",
       "      <td>0.0</td>\n",
       "      <td>0.0</td>\n",
       "      <td>0.0</td>\n",
       "    </tr>\n",
       "    <tr>\n",
       "      <th>23513</th>\n",
       "      <td>1000555411</td>\n",
       "      <td>1.010350</td>\n",
       "      <td>0.0</td>\n",
       "      <td>1.0</td>\n",
       "      <td>3.090395</td>\n",
       "      <td>1.0</td>\n",
       "      <td>0.0</td>\n",
       "      <td>1.0</td>\n",
       "      <td>0.0</td>\n",
       "      <td>0</td>\n",
       "      <td>...</td>\n",
       "      <td>0.0</td>\n",
       "      <td>0.0</td>\n",
       "      <td>0.0</td>\n",
       "      <td>0.0</td>\n",
       "      <td>0.0</td>\n",
       "      <td>0.0</td>\n",
       "      <td>0.0</td>\n",
       "      <td>0.0</td>\n",
       "      <td>1.0</td>\n",
       "      <td>0.0</td>\n",
       "    </tr>\n",
       "    <tr>\n",
       "      <th>23523</th>\n",
       "      <td>1000555631</td>\n",
       "      <td>0.726329</td>\n",
       "      <td>0.0</td>\n",
       "      <td>1.0</td>\n",
       "      <td>-0.714305</td>\n",
       "      <td>1.0</td>\n",
       "      <td>0.0</td>\n",
       "      <td>0.0</td>\n",
       "      <td>0.0</td>\n",
       "      <td>0</td>\n",
       "      <td>...</td>\n",
       "      <td>0.0</td>\n",
       "      <td>0.0</td>\n",
       "      <td>0.0</td>\n",
       "      <td>0.0</td>\n",
       "      <td>0.0</td>\n",
       "      <td>0.0</td>\n",
       "      <td>0.0</td>\n",
       "      <td>0.0</td>\n",
       "      <td>1.0</td>\n",
       "      <td>0.0</td>\n",
       "    </tr>\n",
       "  </tbody>\n",
       "</table>\n",
       "<p>5496 rows × 56 columns</p>\n",
       "</div>"
      ],
      "text/plain": [
       "               id       AGE  ALCSTAT  ARTH1       BMI  CHLEV  CIGAREV2   \n",
       "5498   1000123561 -0.750579      0.0    0.0 -0.692189    0.0       0.0  \\\n",
       "18663  1000440471  0.328700      0.0    1.0  0.622534    0.0       0.0   \n",
       "12513  1000288831  1.578391      0.0    0.0 -1.287723    0.0       0.0   \n",
       "20029  1000473161 -1.773053      1.0    0.0 -1.499974    0.0       0.0   \n",
       "4253    100095441  0.215092      0.0    1.0 -1.608091    0.0       0.0   \n",
       "...           ...       ...      ...    ...       ...    ...       ...   \n",
       "23506  1000555271  0.442308      0.0    0.0  0.460561    1.0       0.0   \n",
       "23507  1000555281  1.010350      1.0    0.0 -0.204676    1.0       0.0   \n",
       "23509  1000555341 -0.012125      0.0    0.0 -1.309706    1.0       0.0   \n",
       "23513  1000555411  1.010350      0.0    1.0  3.090395    1.0       0.0   \n",
       "23523  1000555631  0.726329      0.0    1.0 -0.714305    1.0       0.0   \n",
       "\n",
       "       CPLROU  EPHEV  FSBALANC  ...  MRACRPI2_11.0  MRACRPI2_15.0   \n",
       "5498      1.0    0.0         0  ...            0.0            0.0  \\\n",
       "18663     1.0    0.0         0  ...            0.0            0.0   \n",
       "12513     0.0    0.0         0  ...            0.0            0.0   \n",
       "20029     1.0    0.0         0  ...            0.0            0.0   \n",
       "4253      1.0    0.0         0  ...            0.0            0.0   \n",
       "...       ...    ...       ...  ...            ...            ...   \n",
       "23506     1.0    0.0         0  ...            0.0            0.0   \n",
       "23507     1.0    0.0         0  ...            0.0            0.0   \n",
       "23509     1.0    0.0         0  ...            0.0            1.0   \n",
       "23513     1.0    0.0         0  ...            0.0            0.0   \n",
       "23523     0.0    0.0         0  ...            0.0            0.0   \n",
       "\n",
       "       MRACRPI2_16.0  MRACRPI2_17.0  MRACRPI2_nan  REGION_1.0  REGION_2.0   \n",
       "5498             0.0            0.0           0.0         1.0         0.0  \\\n",
       "18663            0.0            0.0           0.0         0.0         0.0   \n",
       "12513            0.0            0.0           0.0         1.0         0.0   \n",
       "20029            0.0            0.0           0.0         0.0         1.0   \n",
       "4253             0.0            0.0           0.0         0.0         0.0   \n",
       "...              ...            ...           ...         ...         ...   \n",
       "23506            0.0            0.0           0.0         0.0         1.0   \n",
       "23507            0.0            0.0           0.0         0.0         0.0   \n",
       "23509            0.0            0.0           0.0         0.0         1.0   \n",
       "23513            0.0            0.0           0.0         0.0         0.0   \n",
       "23523            0.0            0.0           0.0         0.0         0.0   \n",
       "\n",
       "       REGION_3.0  REGION_4.0  REGION_nan  \n",
       "5498          0.0         0.0         0.0  \n",
       "18663         1.0         0.0         0.0  \n",
       "12513         0.0         0.0         0.0  \n",
       "20029         0.0         0.0         0.0  \n",
       "4253          0.0         1.0         0.0  \n",
       "...           ...         ...         ...  \n",
       "23506         0.0         0.0         0.0  \n",
       "23507         1.0         0.0         0.0  \n",
       "23509         0.0         0.0         0.0  \n",
       "23513         0.0         1.0         0.0  \n",
       "23523         0.0         1.0         0.0  \n",
       "\n",
       "[5496 rows x 56 columns]"
      ]
     },
     "execution_count": 88,
     "metadata": {},
     "output_type": "execute_result"
    }
   ],
   "source": [
    "total_set.iloc[:5496]"
   ]
  },
  {
   "cell_type": "code",
   "execution_count": 105,
   "id": "7f3fbb49-e70a-4b46-a4f8-4a3628f604f6",
   "metadata": {
    "tags": []
   },
   "outputs": [],
   "source": [
    "for i in range(8):\n",
    "    globals()[f'udf_{i+1}'] = total_set.iloc[5496*i:5496*(i+1)]"
   ]
  },
  {
   "cell_type": "code",
   "execution_count": 108,
   "id": "6fb0ae5c-ddc3-46aa-a7ab-ffdaee3951e8",
   "metadata": {
    "tags": []
   },
   "outputs": [],
   "source": [
    "udf_set = [udf_1,udf_2,udf_3,udf_4,udf_5,udf_6,udf_7,udf_8]"
   ]
  },
  {
   "cell_type": "code",
   "execution_count": 111,
   "id": "7b9f2381-5da3-4e24-b398-83bde3a225ac",
   "metadata": {
    "tags": []
   },
   "outputs": [],
   "source": [
    "model_list = []\n",
    "for i in range(8):\n",
    "    model_list.append(RandomForestClassifier(random_state=123,max_depth=5,n_estimators=500,n_jobs=5))"
   ]
  },
  {
   "cell_type": "code",
   "execution_count": 115,
   "id": "cfe6a2b2-4b59-4239-9127-e83c4b53a7aa",
   "metadata": {
    "tags": []
   },
   "outputs": [],
   "source": [
    "for data,model in zip(udf_set,model_list):\n",
    "    model.fit(data.drop(['id','DIBEV1'],axis=1),data['DIBEV1'])"
   ]
  },
  {
   "cell_type": "code",
   "execution_count": 121,
   "id": "b3b9056e-9f40-4ff3-a09d-593b43dd0e0c",
   "metadata": {
    "tags": []
   },
   "outputs": [],
   "source": [
    "def ensemble_predictions(models, X):\n",
    "    predictions = [model.predict_proba(X) for model in models]\n",
    "    return np.mean(predictions, axis=0)"
   ]
  },
  {
   "cell_type": "code",
   "execution_count": 122,
   "id": "053b4513-5c82-4a39-87f3-fb63ec965e05",
   "metadata": {
    "tags": []
   },
   "outputs": [],
   "source": [
    "X_test = udf_9.drop(['id','DIBEV1'],axis=1)\n",
    "y_test = udf_9['DIBEV1']"
   ]
  },
  {
   "cell_type": "code",
   "execution_count": 124,
   "id": "087083f5-aeb0-4d8b-a9fb-24d6aa30df38",
   "metadata": {
    "tags": []
   },
   "outputs": [],
   "source": [
    "prob = ensemble_predictions(model_list,X_test)"
   ]
  },
  {
   "cell_type": "code",
   "execution_count": 178,
   "id": "f69d24eb-8a39-4747-a785-1ae65a23e0da",
   "metadata": {
    "tags": []
   },
   "outputs": [
    {
     "data": {
      "text/plain": [
       "array([[0.23379732, 0.76620268],\n",
       "       [0.55105736, 0.44894264],\n",
       "       [0.59273364, 0.40726636],\n",
       "       ...,\n",
       "       [0.2096523 , 0.7903477 ],\n",
       "       [0.1577153 , 0.8422847 ],\n",
       "       [0.23385602, 0.76614398]])"
      ]
     },
     "execution_count": 178,
     "metadata": {},
     "output_type": "execute_result"
    }
   ],
   "source": [
    "prob"
   ]
  },
  {
   "cell_type": "code",
   "execution_count": 152,
   "id": "db5eacde-f8ae-4162-bca6-3c298c5cf74a",
   "metadata": {
    "tags": []
   },
   "outputs": [
    {
     "data": {
      "text/plain": [
       "0.8019313197123664"
      ]
     },
     "execution_count": 152,
     "metadata": {},
     "output_type": "execute_result"
    }
   ],
   "source": [
    "roc_auc_score(y_test,prob[:,1])"
   ]
  },
  {
   "cell_type": "code",
   "execution_count": 188,
   "id": "bf9f08d3-7dc8-4dba-8ceb-f035001eb8ef",
   "metadata": {
    "tags": []
   },
   "outputs": [
    {
     "name": "stdout",
     "output_type": "stream",
     "text": [
      "0.5\n",
      "recall:0.900709219858156\n",
      "    precision:0.7214126944924673\n",
      "    f1_score:0.8011519473395502\n",
      "------------------------------\n",
      "0.51\n",
      "recall:0.8840579710144928\n",
      "    precision:0.7295165394402036\n",
      "    f1_score:0.7993865885961244\n",
      "------------------------------\n",
      "0.52\n",
      "recall:0.8711069996916435\n",
      "    precision:0.737597911227154\n",
      "    f1_score:0.7988123851265374\n",
      "------------------------------\n",
      "0.53\n",
      "recall:0.8603145235892692\n",
      "    precision:0.7434052757793765\n",
      "    f1_score:0.797598627787307\n",
      "------------------------------\n",
      "0.54\n",
      "recall:0.8532223250077089\n",
      "    precision:0.7494582881906826\n",
      "    f1_score:0.7979812545061283\n",
      "------------------------------\n",
      "0.55\n",
      "recall:0.8424298489053346\n",
      "    precision:0.7561583171879325\n",
      "    f1_score:0.7969661610268378\n",
      "------------------------------\n",
      "0.56\n",
      "recall:0.8307123034227567\n",
      "    precision:0.7612319864368465\n",
      "    f1_score:0.7944559127101151\n",
      "------------------------------\n",
      "0.5700000000000001\n",
      "recall:0.8189947579401788\n",
      "    precision:0.7656385125396368\n",
      "    f1_score:0.7914183551847437\n",
      "------------------------------\n",
      "0.58\n",
      "recall:0.8041936478569226\n",
      "    precision:0.7686413203654583\n",
      "    f1_score:0.7860156720916216\n",
      "------------------------------\n",
      "0.59\n",
      "recall:0.7906259636139377\n",
      "    precision:0.7736873868436934\n",
      "    f1_score:0.7820649687357022\n",
      "------------------------------\n",
      "0.6\n",
      "recall:0.7711995066296639\n",
      "    precision:0.7791277258566979\n",
      "    f1_score:0.7751433441810011\n",
      "------------------------------\n",
      "0.61\n",
      "recall:0.7585568917668826\n",
      "    precision:0.7829408020369192\n",
      "    f1_score:0.7705559906029759\n",
      "------------------------------\n",
      "0.62\n",
      "recall:0.7437557816836263\n",
      "    precision:0.788235294117647\n",
      "    f1_score:0.7653498334126606\n",
      "------------------------------\n",
      "0.63\n",
      "recall:0.7301880974406414\n",
      "    precision:0.7909151636606546\n",
      "    f1_score:0.7593394260060926\n",
      "------------------------------\n",
      "0.64\n",
      "recall:0.7163120567375887\n",
      "    precision:0.7917518745739605\n",
      "    f1_score:0.7521450542334467\n",
      "------------------------------\n",
      "0.65\n",
      "recall:0.7012025901942646\n",
      "    precision:0.7926106657371906\n",
      "    f1_score:0.7441099476439791\n",
      "------------------------------\n",
      "0.66\n",
      "recall:0.6922602528522973\n",
      "    precision:0.7944090587402689\n",
      "    f1_score:0.7398253419014665\n",
      "------------------------------\n",
      "0.67\n",
      "recall:0.6833179155103299\n",
      "    precision:0.7959770114942529\n",
      "    f1_score:0.7353575576572093\n",
      "------------------------------\n",
      "0.6799999999999999\n",
      "recall:0.67190872648782\n",
      "    precision:0.7972923527259422\n",
      "    f1_score:0.7292503346720215\n",
      "------------------------------\n",
      "0.69\n",
      "recall:0.6611162503854455\n",
      "    precision:0.8011958146487295\n",
      "    f1_score:0.7244466970772089\n",
      "------------------------------\n"
     ]
    }
   ],
   "source": [
    "for j in range(20):\n",
    "    j = j*0.01 + 0.5\n",
    "    print(j)\n",
    "    result = [0 if i < j else 1 for i in prob[:,1]]\n",
    "    print(f'''recall:{recall_score(y_test,result)}\n",
    "precision:{precision_score(y_test,result)}\n",
    "f1_score:{f1_score(y_test,result)}''')\n",
    "    print('---'*10)"
   ]
  },
  {
   "cell_type": "code",
   "execution_count": 180,
   "id": "02de4b2a-e026-495c-ac75-aadfe76a1e59",
   "metadata": {
    "tags": []
   },
   "outputs": [
    {
     "data": {
      "text/plain": [
       "0.8424298489053346"
      ]
     },
     "execution_count": 180,
     "metadata": {},
     "output_type": "execute_result"
    }
   ],
   "source": [
    "recall:0.8424298489053346\n",
    "precision:0.7561583171879325\n",
    "f1_score:0.7969661610268378"
   ]
  },
  {
   "cell_type": "code",
   "execution_count": 181,
   "id": "a69a1bb0-d272-43bf-ba62-4eaa24c68ff8",
   "metadata": {
    "tags": []
   },
   "outputs": [
    {
     "data": {
      "text/plain": [
       "0.7561583171879325"
      ]
     },
     "execution_count": 181,
     "metadata": {},
     "output_type": "execute_result"
    }
   ],
   "source": [
    "precision_score(y_test,result)"
   ]
  },
  {
   "cell_type": "code",
   "execution_count": 182,
   "id": "5a9f5f7a-9da3-4a5f-9861-67a1cbbd225b",
   "metadata": {
    "tags": []
   },
   "outputs": [
    {
     "data": {
      "text/plain": [
       "0.7969661610268378"
      ]
     },
     "execution_count": 182,
     "metadata": {},
     "output_type": "execute_result"
    }
   ],
   "source": [
    "f1_score(y_test,result)"
   ]
  },
  {
   "cell_type": "code",
   "execution_count": 177,
   "id": "ab985a87-7336-473d-9088-8368920771d6",
   "metadata": {
    "tags": []
   },
   "outputs": [
    {
     "name": "stdout",
     "output_type": "stream",
     "text": [
      "              precision    recall  f1-score   support\n",
      "\n",
      "           0       0.68      0.69      0.68      2257\n",
      "           1       0.78      0.77      0.78      3243\n",
      "\n",
      "    accuracy                           0.74      5500\n",
      "   macro avg       0.73      0.73      0.73      5500\n",
      "weighted avg       0.74      0.74      0.74      5500\n",
      "\n"
     ]
    }
   ],
   "source": [
    "print(classification_report(y_test,result))"
   ]
  },
  {
   "cell_type": "code",
   "execution_count": null,
   "id": "391db237-1afe-4536-a561-6110663cae21",
   "metadata": {},
   "outputs": [],
   "source": []
  }
 ],
 "metadata": {
  "kernelspec": {
   "display_name": "Python 3 (ipykernel)",
   "language": "python",
   "name": "python3"
  },
  "language_info": {
   "codemirror_mode": {
    "name": "ipython",
    "version": 3
   },
   "file_extension": ".py",
   "mimetype": "text/x-python",
   "name": "python",
   "nbconvert_exporter": "python",
   "pygments_lexer": "ipython3",
   "version": "3.10.9"
  }
 },
 "nbformat": 4,
 "nbformat_minor": 5
}
