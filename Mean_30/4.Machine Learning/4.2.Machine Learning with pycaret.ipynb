{
 "cells": [
  {
   "cell_type": "code",
   "execution_count": 42,
   "id": "71805a6a-b9f1-4ac6-bbf7-645cbc33eae7",
   "metadata": {
    "tags": []
   },
   "outputs": [],
   "source": [
    "# !pip install pandas\n",
    "# !pip install numpy\n",
    "# !pip install imblearn\n",
    "# !pip install pycaret"
   ]
  },
  {
   "cell_type": "code",
   "execution_count": 43,
   "id": "7ea7bd48-a0c4-44a9-920d-e6cd5f148af2",
   "metadata": {},
   "outputs": [],
   "source": [
    "# !pip install pycaret\n",
    "# !pip install scikit-learn==1.2.2 "
   ]
  },
  {
   "cell_type": "code",
   "execution_count": 5,
   "id": "a14ce43d-8920-4ea2-b230-bcbf28fc924b",
   "metadata": {
    "tags": []
   },
   "outputs": [],
   "source": [
    "import pandas as pd\n",
    "import numpy as np\n",
    "from sklearn.preprocessing import StandardScaler,MinMaxScaler\n",
    "from collections import Counter\n",
    "from imblearn.datasets import make_imbalance\n",
    "from sklearn.model_selection import train_test_split\n",
    "from imblearn.over_sampling import SMOTE\n",
    "import matplotlib.pyplot as plt\n",
    "# import warnings\n",
    "# warnings.filterwarnings(action='ignore')\n",
    "from sklearn.metrics import roc_auc_score,classification_report, recall_score, f1_score,precision_recall_curve, auc,precision_score\n",
    "import multiprocessing\n",
    "from pycaret.classification import *"
   ]
  },
  {
   "cell_type": "markdown",
   "id": "cf9e063f-9424-4462-8511-fcfce88480da",
   "metadata": {},
   "source": [
    "# target = DIBEV1"
   ]
  },
  {
   "cell_type": "code",
   "execution_count": 6,
   "id": "80b26b23-b919-4c07-b12d-12e0f91c6e4f",
   "metadata": {
    "tags": []
   },
   "outputs": [],
   "source": [
    "df = pd.read_csv('Data_preprocessing(dibev1수정).csv')"
   ]
  },
  {
   "cell_type": "code",
   "execution_count": 7,
   "id": "c6b8d969-56d8-48cd-9fa2-ba46868d7eef",
   "metadata": {
    "tags": []
   },
   "outputs": [
    {
     "data": {
      "text/html": [
       "<div>\n",
       "<style scoped>\n",
       "    .dataframe tbody tr th:only-of-type {\n",
       "        vertical-align: middle;\n",
       "    }\n",
       "\n",
       "    .dataframe tbody tr th {\n",
       "        vertical-align: top;\n",
       "    }\n",
       "\n",
       "    .dataframe thead th {\n",
       "        text-align: right;\n",
       "    }\n",
       "</style>\n",
       "<table border=\"1\" class=\"dataframe\">\n",
       "  <thead>\n",
       "    <tr style=\"text-align: right;\">\n",
       "      <th></th>\n",
       "      <th>id</th>\n",
       "      <th>AGE</th>\n",
       "      <th>ALCSTAT</th>\n",
       "      <th>ARTH1</th>\n",
       "      <th>BMI</th>\n",
       "      <th>CHLEV</th>\n",
       "      <th>CIGAREV2</th>\n",
       "      <th>CPLROU</th>\n",
       "      <th>EPHEV</th>\n",
       "      <th>FSBALANC</th>\n",
       "      <th>...</th>\n",
       "      <th>INTIL2W</th>\n",
       "      <th>MRACBPI2</th>\n",
       "      <th>MRACRPI2</th>\n",
       "      <th>REGION</th>\n",
       "      <th>SMKSTAT2</th>\n",
       "      <th>TIRED_1</th>\n",
       "      <th>PREG</th>\n",
       "      <th>HEIGHT(cm)</th>\n",
       "      <th>WEIGHT(kg)</th>\n",
       "      <th>DIBEV1</th>\n",
       "    </tr>\n",
       "  </thead>\n",
       "  <tbody>\n",
       "    <tr>\n",
       "      <th>0</th>\n",
       "      <td>100011</td>\n",
       "      <td>79.0</td>\n",
       "      <td>0.0</td>\n",
       "      <td>1.0</td>\n",
       "      <td>23.594147</td>\n",
       "      <td>1.0</td>\n",
       "      <td>0.0</td>\n",
       "      <td>1.0</td>\n",
       "      <td>0.0</td>\n",
       "      <td>0</td>\n",
       "      <td>...</td>\n",
       "      <td>0.0</td>\n",
       "      <td>1.0</td>\n",
       "      <td>1.0</td>\n",
       "      <td>3.0</td>\n",
       "      <td>0.0</td>\n",
       "      <td>1.0</td>\n",
       "      <td>1</td>\n",
       "      <td>157.48</td>\n",
       "      <td>58.513368</td>\n",
       "      <td>1</td>\n",
       "    </tr>\n",
       "    <tr>\n",
       "      <th>1</th>\n",
       "      <td>100061</td>\n",
       "      <td>37.0</td>\n",
       "      <td>0.0</td>\n",
       "      <td>0.0</td>\n",
       "      <td>32.775484</td>\n",
       "      <td>1.0</td>\n",
       "      <td>1.0</td>\n",
       "      <td>0.0</td>\n",
       "      <td>0.0</td>\n",
       "      <td>0</td>\n",
       "      <td>...</td>\n",
       "      <td>0.0</td>\n",
       "      <td>1.0</td>\n",
       "      <td>1.0</td>\n",
       "      <td>3.0</td>\n",
       "      <td>0.0</td>\n",
       "      <td>0.0</td>\n",
       "      <td>1</td>\n",
       "      <td>180.34</td>\n",
       "      <td>106.594120</td>\n",
       "      <td>0</td>\n",
       "    </tr>\n",
       "    <tr>\n",
       "      <th>2</th>\n",
       "      <td>100091</td>\n",
       "      <td>75.0</td>\n",
       "      <td>0.0</td>\n",
       "      <td>1.0</td>\n",
       "      <td>22.273536</td>\n",
       "      <td>1.0</td>\n",
       "      <td>1.0</td>\n",
       "      <td>1.0</td>\n",
       "      <td>0.0</td>\n",
       "      <td>1</td>\n",
       "      <td>...</td>\n",
       "      <td>0.0</td>\n",
       "      <td>7.0</td>\n",
       "      <td>11.0</td>\n",
       "      <td>3.0</td>\n",
       "      <td>0.0</td>\n",
       "      <td>0.0</td>\n",
       "      <td>1</td>\n",
       "      <td>167.64</td>\n",
       "      <td>62.595696</td>\n",
       "      <td>0</td>\n",
       "    </tr>\n",
       "    <tr>\n",
       "      <th>3</th>\n",
       "      <td>1000101</td>\n",
       "      <td>39.0</td>\n",
       "      <td>0.0</td>\n",
       "      <td>0.0</td>\n",
       "      <td>23.709925</td>\n",
       "      <td>0.0</td>\n",
       "      <td>0.0</td>\n",
       "      <td>1.0</td>\n",
       "      <td>0.0</td>\n",
       "      <td>0</td>\n",
       "      <td>...</td>\n",
       "      <td>0.0</td>\n",
       "      <td>1.0</td>\n",
       "      <td>1.0</td>\n",
       "      <td>1.0</td>\n",
       "      <td>0.0</td>\n",
       "      <td>1.0</td>\n",
       "      <td>1</td>\n",
       "      <td>180.34</td>\n",
       "      <td>77.110640</td>\n",
       "      <td>0</td>\n",
       "    </tr>\n",
       "    <tr>\n",
       "      <th>4</th>\n",
       "      <td>1000131</td>\n",
       "      <td>54.0</td>\n",
       "      <td>1.0</td>\n",
       "      <td>0.0</td>\n",
       "      <td>38.273579</td>\n",
       "      <td>1.0</td>\n",
       "      <td>0.0</td>\n",
       "      <td>1.0</td>\n",
       "      <td>0.0</td>\n",
       "      <td>0</td>\n",
       "      <td>...</td>\n",
       "      <td>0.0</td>\n",
       "      <td>2.0</td>\n",
       "      <td>2.0</td>\n",
       "      <td>3.0</td>\n",
       "      <td>0.0</td>\n",
       "      <td>1.0</td>\n",
       "      <td>1</td>\n",
       "      <td>165.10</td>\n",
       "      <td>104.326160</td>\n",
       "      <td>0</td>\n",
       "    </tr>\n",
       "  </tbody>\n",
       "</table>\n",
       "<p>5 rows × 25 columns</p>\n",
       "</div>"
      ],
      "text/plain": [
       "        id   AGE  ALCSTAT  ARTH1        BMI  CHLEV  CIGAREV2  CPLROU  EPHEV  \\\n",
       "0   100011  79.0      0.0    1.0  23.594147    1.0       0.0     1.0    0.0   \n",
       "1   100061  37.0      0.0    0.0  32.775484    1.0       1.0     0.0    0.0   \n",
       "2   100091  75.0      0.0    1.0  22.273536    1.0       1.0     1.0    0.0   \n",
       "3  1000101  39.0      0.0    0.0  23.709925    0.0       0.0     1.0    0.0   \n",
       "4  1000131  54.0      1.0    0.0  38.273579    1.0       0.0     1.0    0.0   \n",
       "\n",
       "   FSBALANC  ...  INTIL2W  MRACBPI2  MRACRPI2  REGION  SMKSTAT2  TIRED_1  \\\n",
       "0         0  ...      0.0       1.0       1.0     3.0       0.0      1.0   \n",
       "1         0  ...      0.0       1.0       1.0     3.0       0.0      0.0   \n",
       "2         1  ...      0.0       7.0      11.0     3.0       0.0      0.0   \n",
       "3         0  ...      0.0       1.0       1.0     1.0       0.0      1.0   \n",
       "4         0  ...      0.0       2.0       2.0     3.0       0.0      1.0   \n",
       "\n",
       "   PREG  HEIGHT(cm)  WEIGHT(kg)  DIBEV1  \n",
       "0     1      157.48   58.513368       1  \n",
       "1     1      180.34  106.594120       0  \n",
       "2     1      167.64   62.595696       0  \n",
       "3     1      180.34   77.110640       0  \n",
       "4     1      165.10  104.326160       0  \n",
       "\n",
       "[5 rows x 25 columns]"
      ]
     },
     "execution_count": 7,
     "metadata": {},
     "output_type": "execute_result"
    }
   ],
   "source": [
    "df.head()"
   ]
  },
  {
   "cell_type": "code",
   "execution_count": 8,
   "id": "3c7aed03-b68d-4aff-8141-c4d121c75286",
   "metadata": {
    "tags": []
   },
   "outputs": [
    {
     "data": {
      "text/plain": [
       "(23524, 25)"
      ]
     },
     "execution_count": 8,
     "metadata": {},
     "output_type": "execute_result"
    }
   ],
   "source": [
    "df.shape"
   ]
  },
  {
   "cell_type": "code",
   "execution_count": 9,
   "id": "9ef5f73b-a006-4e2b-8c52-bebae6dd12f9",
   "metadata": {
    "tags": []
   },
   "outputs": [],
   "source": [
    "# target 데이터를 구분하여 새로운 데이터셋 각각 생성\n",
    "df_0 = df[df['DIBEV1']==0].copy()\n",
    "df_1 = df[df['DIBEV1']==1].copy()"
   ]
  },
  {
   "cell_type": "code",
   "execution_count": 10,
   "id": "ebafd811-cd64-4d6d-9427-8f5e09ee6721",
   "metadata": {
    "tags": []
   },
   "outputs": [],
   "source": [
    "def data_sampling(X,n_set):\n",
    "    '''비복원 데이터 샘플링'''\n",
    "    np.random.seed(123)\n",
    "    n_sets = n_set  # 만들고자하는 데이터세트 수\n",
    "    set_size = round(X.shape[0]/n_set)  # 각 세트의 크기\n",
    "    X_index = X.index  # 데이터프레임의 인덱스\n",
    "\n",
    "    data_set = []  # X 데이터의 여러 세트를 저장할 리스트\n",
    "\n",
    "    for _ in range(n_sets - 1): # 마지막 데이터셋은 데이터 행 개수가 다르므로 n-1개만 반복문으로 데이터셋 생성\n",
    "        sampled_index = np.random.choice(X_index, size=set_size, replace=False) # 전체 데이터셋 중 size만큼 index 추출\n",
    "        X_index = np.setdiff1d(X_index, sampled_index)  # 전체 인덱스에서 추출된 인덱스를 제외\n",
    "        data_set.append(X.loc[sampled_index]) # 추출된 인덱스만큼 데이터셋 filtering 후 데이터셋에 저장\n",
    "    \n",
    "    data_set.append(X.loc[X_index]) #데이터 행 개수가 맞지 않는 마지막 데이터셋 추가\n",
    "    return data_set"
   ]
  },
  {
   "cell_type": "code",
   "execution_count": 11,
   "id": "1170b396-104c-451b-92f1-5d586c3ad6b5",
   "metadata": {
    "tags": []
   },
   "outputs": [],
   "source": [
    "data_set = data_sampling(df_0,9)"
   ]
  },
  {
   "cell_type": "code",
   "execution_count": 12,
   "id": "c59be992-fa63-4ec1-9215-461f57f5e5ef",
   "metadata": {
    "tags": []
   },
   "outputs": [
    {
     "data": {
      "text/plain": [
       "((2253, 25), (2257, 25))"
      ]
     },
     "execution_count": 12,
     "metadata": {},
     "output_type": "execute_result"
    }
   ],
   "source": [
    "# 첫 번째 데이터셋과 마지막 데이터셋의 개수 차이 확인\n",
    "data_set[0].shape , data_set[-1].shape"
   ]
  },
  {
   "cell_type": "code",
   "execution_count": 13,
   "id": "df69350d-3c67-4982-a405-5e74e3c3adac",
   "metadata": {
    "tags": []
   },
   "outputs": [],
   "source": [
    "# 분할 된 각 데이터셋을 target이 1인 데이터셋과 합침\n",
    "# 반복문 및 전역변수 선언을 통한 각 데이터셋 변수 생성\n",
    "for i,data in enumerate(data_set,start=1):\n",
    "    globals()[f'udf_{i}'] = pd.concat([data,df_1],axis=0)"
   ]
  },
  {
   "cell_type": "code",
   "execution_count": 14,
   "id": "4995e27d-60b3-4b74-a568-a3ddd9c3e944",
   "metadata": {
    "tags": []
   },
   "outputs": [],
   "source": [
    "# 언더샘플링 1~8을 학습용 / 마지막 udf_9를 검증용으로 사용\n",
    "udf_set = [udf_1,udf_2,udf_3,udf_4,udf_5,udf_6,udf_7,udf_8]\n",
    "# uff_9 <- 검증용으로 사용"
   ]
  },
  {
   "cell_type": "code",
   "execution_count": 15,
   "id": "4c564bce-2999-495f-b3cb-5e5d0dde7c37",
   "metadata": {
    "tags": []
   },
   "outputs": [
    {
     "name": "stdout",
     "output_type": "stream",
     "text": [
      "1번째 데이터셋 타겟 비율 : Counter({1: 3243, 0: 2253})\n",
      "2번째 데이터셋 타겟 비율 : Counter({1: 3243, 0: 2253})\n",
      "3번째 데이터셋 타겟 비율 : Counter({1: 3243, 0: 2253})\n",
      "4번째 데이터셋 타겟 비율 : Counter({1: 3243, 0: 2253})\n",
      "5번째 데이터셋 타겟 비율 : Counter({1: 3243, 0: 2253})\n",
      "6번째 데이터셋 타겟 비율 : Counter({1: 3243, 0: 2253})\n",
      "7번째 데이터셋 타겟 비율 : Counter({1: 3243, 0: 2253})\n",
      "8번째 데이터셋 타겟 비율 : Counter({1: 3243, 0: 2253})\n",
      "9번째 데이터셋 타겟 비율 : Counter({1: 3243, 0: 2257})\n"
     ]
    }
   ],
   "source": [
    "# 각 데이터셋 타겟 비율 확인\n",
    "for i,data in enumerate(udf_set+[udf_9]):\n",
    "    print(f'{i+1}번째 데이터셋 타겟 비율 : {Counter(data.iloc[:,-1])}')"
   ]
  },
  {
   "cell_type": "markdown",
   "id": "d829c97f-1898-448f-a186-8230c5337337",
   "metadata": {
    "tags": []
   },
   "source": [
    "## 2-1. 수치형 데이터 스케일링"
   ]
  },
  {
   "cell_type": "code",
   "execution_count": 16,
   "id": "7e796989-60fc-40f0-8a08-8413de529691",
   "metadata": {
    "tags": []
   },
   "outputs": [],
   "source": [
    "# 전처리를 위해 학습용 데이터셋 합침\n",
    "total_set = pd.concat(udf_set,axis=0)"
   ]
  },
  {
   "cell_type": "code",
   "execution_count": 17,
   "id": "1f27627c-e5a3-4db8-8efb-e01b839f1b6a",
   "metadata": {
    "tags": []
   },
   "outputs": [],
   "source": [
    "# 스케일링을 적용할 컬럼 선정\n",
    "num_col = ['AGE','BMI','HEIGHT(cm)','WEIGHT(kg)']"
   ]
  },
  {
   "cell_type": "code",
   "execution_count": 18,
   "id": "236e6126-fe58-4d02-9f8c-b16d7b641f46",
   "metadata": {
    "tags": []
   },
   "outputs": [],
   "source": [
    "# 전체 데이터셋의 위 컬럼들에 대해 스케일링 fit 후 각 데이터셋 및 검증용 데이터셋에 transform 적용\n",
    "for col in num_col:\n",
    "    ss = StandardScaler()\n",
    "    # ss.fit(total_set[[col]]) <- 굳이 없어도 될 코드?\n",
    "    total_set[col] = ss.fit_transform(total_set[[col]])\n",
    "    # for udf in udf_set:\n",
    "    #     udf[col] = ss.transform(udf[[col]]) <- 굳이 없어도 될 코드?\n",
    "    udf_9[col] = ss.transform(udf_9[[col]])"
   ]
  },
  {
   "cell_type": "markdown",
   "id": "272eec0f-1fb9-4ec7-8f7c-6f0d972089c9",
   "metadata": {},
   "source": [
    "## 2-2. unique 개수가 3개 이상인 컬럼들 onehotencoding"
   ]
  },
  {
   "cell_type": "code",
   "execution_count": 19,
   "id": "1068052c-98f6-4536-be54-4c53f09e5e2f",
   "metadata": {
    "tags": []
   },
   "outputs": [],
   "source": [
    "# 데이터프레임 전체 컬럼에서 수치형 컬럼 제외\n",
    "cols = np.setdiff1d(df.columns,num_col)\n",
    "\n",
    "# 위 컬럼에서 고유값 개수가 3개 이상인 컬럼만 추출\n",
    "# 0,1만 가지는 binary 컬럼은 굳이 ohe를 하지 않을 것\n",
    "nom_col = [col for col in cols if total_set[col].nunique() >= 3 ]\n",
    "# for col in cols:\n",
    "#     if total_set[col].nunique() >= 3:\n",
    "#         nom_col.append(col)"
   ]
  },
  {
   "cell_type": "code",
   "execution_count": 20,
   "id": "1c14980a-c135-413c-82d6-2b4aacd3f8c4",
   "metadata": {
    "tags": []
   },
   "outputs": [
    {
     "data": {
      "text/plain": [
       "['HISPAN_I', 'MRACBPI2', 'MRACRPI2', 'REGION', 'id']"
      ]
     },
     "execution_count": 20,
     "metadata": {},
     "output_type": "execute_result"
    }
   ],
   "source": [
    "nom_col"
   ]
  },
  {
   "cell_type": "code",
   "execution_count": 21,
   "id": "e1af7740-4020-483e-9eba-0a611280df67",
   "metadata": {
    "tags": []
   },
   "outputs": [
    {
     "data": {
      "text/plain": [
       "['HISPAN_I', 'MRACBPI2', 'MRACRPI2', 'REGION']"
      ]
     },
     "execution_count": 21,
     "metadata": {},
     "output_type": "execute_result"
    }
   ],
   "source": [
    "# 위 명목형 컬럼들에서 id 컬럼 제외\n",
    "nom_col.remove('id')\n",
    "nom_col"
   ]
  },
  {
   "cell_type": "code",
   "execution_count": 22,
   "id": "6a8ed51a-c189-485d-864f-c2b5187e9937",
   "metadata": {
    "tags": []
   },
   "outputs": [],
   "source": [
    "# 명목형 컬럼들에 대한 dummy 데이터 생성(원핫인코딩)\n",
    "train_dummies = [] # 학습용 데이터셋의 명목형 컬럼들의 더미데이터셋 저장용 리스트\n",
    "test_dummies = [] # 검증용 데이터셋의 명목형 컬럼들의 더미데이터셋 저장용 리스트\n",
    "for col in nom_col:\n",
    "    train_dummies.append(pd.get_dummies(total_set[col],prefix=col,dummy_na=True,dtype='float')) # 학습데이터의 각 컬럼들의 더미데이터셋을 리스트에 저장\n",
    "    test_dummies.append(pd.get_dummies(udf_9[col],prefix=col,dummy_na=True,dtype='float')) # 검증데이터의 각 컬럼들의 더미데이터셋을 리스트에 저장"
   ]
  },
  {
   "cell_type": "code",
   "execution_count": 23,
   "id": "0199943a-cf61-4b80-950f-a8f8573317b5",
   "metadata": {
    "tags": []
   },
   "outputs": [],
   "source": [
    "train_dummies = pd.concat(train_dummies,axis=1) # 학습 데이터의 더미데이터셋 리스트를 하나로 합침\n",
    "test_dummies = pd.concat(test_dummies,axis=1) # 검증 데이터의 더미데이터셋 리스트를 하나로 합침"
   ]
  },
  {
   "cell_type": "code",
   "execution_count": 24,
   "id": "1db857e8-118b-4d2a-badc-1508cd6fa768",
   "metadata": {
    "tags": []
   },
   "outputs": [
    {
     "data": {
      "text/plain": [
       "((43968, 35), (5500, 35))"
      ]
     },
     "execution_count": 24,
     "metadata": {},
     "output_type": "execute_result"
    }
   ],
   "source": [
    "train_dummies.shape, test_dummies.shape"
   ]
  },
  {
   "cell_type": "code",
   "execution_count": 25,
   "id": "ffc319ea-6b12-4920-8539-935069d96360",
   "metadata": {
    "tags": []
   },
   "outputs": [],
   "source": [
    "# 만약 고유값 개수 차이로 인해 학습셋과 테스트셋의 더미 데이터셋 컬럼 차이가 있다면 컬럼수가 적은 쪽으로 컬럼 재지정\n",
    "# 학습 및 예측 오류 방지\n",
    "\n",
    "if train_dummies.shape[1] > test_dummies.shape[1]:\n",
    "    train_dummies = train_dummies[test_dummies.columns]\n",
    "elif train_dummies.shape[1] == test_dummies.shape[1]:\n",
    "    pass\n",
    "else:\n",
    "    test_dummies = test_dummies[train_dummies.columns]"
   ]
  },
  {
   "cell_type": "code",
   "execution_count": 26,
   "id": "efa86b0c-234b-4c9e-8413-8473ce5ce94d",
   "metadata": {
    "tags": []
   },
   "outputs": [
    {
     "data": {
      "text/plain": [
       "((43968, 35), (5500, 35))"
      ]
     },
     "execution_count": 26,
     "metadata": {},
     "output_type": "execute_result"
    }
   ],
   "source": [
    "train_dummies.shape, test_dummies.shape"
   ]
  },
  {
   "cell_type": "code",
   "execution_count": 27,
   "id": "b3aa463d-ddf8-4fce-82e8-3a3f88b410f5",
   "metadata": {
    "tags": []
   },
   "outputs": [],
   "source": [
    "# 원본의 학습,테스트셋에 더미데이터셋 합친 후 기존 명목형 컬럼 제거\n",
    "total_set = pd.concat([total_set,train_dummies],axis=1).drop(nom_col,axis=1)\n",
    "udf_9 = pd.concat([udf_9,test_dummies],axis=1).drop(nom_col,axis=1)"
   ]
  },
  {
   "cell_type": "code",
   "execution_count": 28,
   "id": "096991fd-1d09-4740-accf-7e06ed81f006",
   "metadata": {
    "tags": []
   },
   "outputs": [
    {
     "data": {
      "text/plain": [
       "((5496, 25), (43968, 56))"
      ]
     },
     "execution_count": 28,
     "metadata": {},
     "output_type": "execute_result"
    }
   ],
   "source": [
    "udf_1.shape, total_set.shape"
   ]
  },
  {
   "cell_type": "code",
   "execution_count": 29,
   "id": "b82aedf4-c513-4bb4-81b5-46453e1c5d74",
   "metadata": {
    "tags": []
   },
   "outputs": [],
   "source": [
    "# 전처리된 전체 데이터셋을 다시 8분할\n",
    "for i in range(8):\n",
    "    globals()[f'udf_{i+1}'] = total_set.iloc[5496*i:5496*(i+1)]"
   ]
  },
  {
   "cell_type": "code",
   "execution_count": 30,
   "id": "b9f9a584-9e32-4a59-93ab-05b5a2983e0b",
   "metadata": {
    "tags": []
   },
   "outputs": [],
   "source": [
    "udf_set = [udf_1,udf_2,udf_3,udf_4,udf_5,udf_6,udf_7,udf_8]"
   ]
  },
  {
   "cell_type": "markdown",
   "id": "84ffdf2c-e69e-4697-8925-838d7358b54c",
   "metadata": {},
   "source": [
    "# pycaret 모델링"
   ]
  },
  {
   "cell_type": "code",
   "execution_count": 31,
   "id": "391db237-1afe-4536-a561-6110663cae21",
   "metadata": {},
   "outputs": [],
   "source": [
    "best_models = []\n",
    "for data in udf_set:\n",
    "    clf = setup(data=data.drop(['id','DIBEV1'],axis=1),target=data['DIBEV1'],preprocess=False,verbose=False,n_jobs=-1,session_id=123) # pycaret AutoML사용을 위한 초기화\n",
    "    best_5 = compare_models(fold=10, sort='F1',verbose=False,n_select=5) # pycaret에서 F1 score기준으로 데이터셋에 최적화된 모델 1개 선정(n_select = 1이 기본값이며, 이 값에 따라 선정되는 모델의 개수 변경 됨)\n",
    "    # 각 데이터셋에 최적화된 모델 5개 중 predict_proba 메소드가 없는 모델 제거\n",
    "    for model in best_5:\n",
    "        try : \n",
    "            blend_models(estimator_list=[model], method='soft',verbose=False)\n",
    "        except:\n",
    "            best_5.remove(model)\n",
    "            \n",
    "    best = blend_models(estimator_list=best_5, method='soft',optimize='F1',verbose=False) # best_5 모델들에 대한 앙상블\n",
    "    tuned_best = tune_model(best,optimize='F1',verbose=False) # 앙상블 모델을 최적화\n",
    "    best_models.append(tuned_best) # 최적화된 모델을 모델 리스트에 추가"
   ]
  },
  {
   "cell_type": "code",
   "execution_count": 32,
   "id": "d64c9f5b-613a-4824-8c38-49c519952662",
   "metadata": {
    "tags": []
   },
   "outputs": [
    {
     "data": {
      "text/html": [],
      "text/plain": [
       "<IPython.core.display.HTML object>"
      ]
     },
     "metadata": {},
     "output_type": "display_data"
    },
    {
     "data": {
      "text/html": [
       "<style type=\"text/css\">\n",
       "#T_d2baa_row10_col0, #T_d2baa_row10_col1, #T_d2baa_row10_col2, #T_d2baa_row10_col3, #T_d2baa_row10_col4, #T_d2baa_row10_col5, #T_d2baa_row10_col6 {\n",
       "  background: yellow;\n",
       "}\n",
       "</style>\n",
       "<table id=\"T_d2baa\">\n",
       "  <thead>\n",
       "    <tr>\n",
       "      <th class=\"blank level0\" >&nbsp;</th>\n",
       "      <th id=\"T_d2baa_level0_col0\" class=\"col_heading level0 col0\" >Accuracy</th>\n",
       "      <th id=\"T_d2baa_level0_col1\" class=\"col_heading level0 col1\" >AUC</th>\n",
       "      <th id=\"T_d2baa_level0_col2\" class=\"col_heading level0 col2\" >Recall</th>\n",
       "      <th id=\"T_d2baa_level0_col3\" class=\"col_heading level0 col3\" >Prec.</th>\n",
       "      <th id=\"T_d2baa_level0_col4\" class=\"col_heading level0 col4\" >F1</th>\n",
       "      <th id=\"T_d2baa_level0_col5\" class=\"col_heading level0 col5\" >Kappa</th>\n",
       "      <th id=\"T_d2baa_level0_col6\" class=\"col_heading level0 col6\" >MCC</th>\n",
       "    </tr>\n",
       "    <tr>\n",
       "      <th class=\"index_name level0\" >Fold</th>\n",
       "      <th class=\"blank col0\" >&nbsp;</th>\n",
       "      <th class=\"blank col1\" >&nbsp;</th>\n",
       "      <th class=\"blank col2\" >&nbsp;</th>\n",
       "      <th class=\"blank col3\" >&nbsp;</th>\n",
       "      <th class=\"blank col4\" >&nbsp;</th>\n",
       "      <th class=\"blank col5\" >&nbsp;</th>\n",
       "      <th class=\"blank col6\" >&nbsp;</th>\n",
       "    </tr>\n",
       "  </thead>\n",
       "  <tbody>\n",
       "    <tr>\n",
       "      <th id=\"T_d2baa_level0_row0\" class=\"row_heading level0 row0\" >0</th>\n",
       "      <td id=\"T_d2baa_row0_col0\" class=\"data row0 col0\" >0.7584</td>\n",
       "      <td id=\"T_d2baa_row0_col1\" class=\"data row0 col1\" >0.8105</td>\n",
       "      <td id=\"T_d2baa_row0_col2\" class=\"data row0 col2\" >0.8326</td>\n",
       "      <td id=\"T_d2baa_row0_col3\" class=\"data row0 col3\" >0.7746</td>\n",
       "      <td id=\"T_d2baa_row0_col4\" class=\"data row0 col4\" >0.8025</td>\n",
       "      <td id=\"T_d2baa_row0_col5\" class=\"data row0 col5\" >0.4926</td>\n",
       "      <td id=\"T_d2baa_row0_col6\" class=\"data row0 col6\" >0.4947</td>\n",
       "    </tr>\n",
       "    <tr>\n",
       "      <th id=\"T_d2baa_level0_row1\" class=\"row_heading level0 row1\" >1</th>\n",
       "      <td id=\"T_d2baa_row1_col0\" class=\"data row1 col0\" >0.7143</td>\n",
       "      <td id=\"T_d2baa_row1_col1\" class=\"data row1 col1\" >0.7864</td>\n",
       "      <td id=\"T_d2baa_row1_col2\" class=\"data row1 col2\" >0.7841</td>\n",
       "      <td id=\"T_d2baa_row1_col3\" class=\"data row1 col3\" >0.7448</td>\n",
       "      <td id=\"T_d2baa_row1_col4\" class=\"data row1 col4\" >0.7639</td>\n",
       "      <td id=\"T_d2baa_row1_col5\" class=\"data row1 col5\" >0.4027</td>\n",
       "      <td id=\"T_d2baa_row1_col6\" class=\"data row1 col6\" >0.4036</td>\n",
       "    </tr>\n",
       "    <tr>\n",
       "      <th id=\"T_d2baa_level0_row2\" class=\"row_heading level0 row2\" >2</th>\n",
       "      <td id=\"T_d2baa_row2_col0\" class=\"data row2 col0\" >0.7532</td>\n",
       "      <td id=\"T_d2baa_row2_col1\" class=\"data row2 col1\" >0.8029</td>\n",
       "      <td id=\"T_d2baa_row2_col2\" class=\"data row2 col2\" >0.8370</td>\n",
       "      <td id=\"T_d2baa_row2_col3\" class=\"data row2 col3\" >0.7661</td>\n",
       "      <td id=\"T_d2baa_row2_col4\" class=\"data row2 col4\" >0.8000</td>\n",
       "      <td id=\"T_d2baa_row2_col5\" class=\"data row2 col5\" >0.4796</td>\n",
       "      <td id=\"T_d2baa_row2_col6\" class=\"data row2 col6\" >0.4828</td>\n",
       "    </tr>\n",
       "    <tr>\n",
       "      <th id=\"T_d2baa_level0_row3\" class=\"row_heading level0 row3\" >3</th>\n",
       "      <td id=\"T_d2baa_row3_col0\" class=\"data row3 col0\" >0.7818</td>\n",
       "      <td id=\"T_d2baa_row3_col1\" class=\"data row3 col1\" >0.8322</td>\n",
       "      <td id=\"T_d2baa_row3_col2\" class=\"data row3 col2\" >0.8326</td>\n",
       "      <td id=\"T_d2baa_row3_col3\" class=\"data row3 col3\" >0.8043</td>\n",
       "      <td id=\"T_d2baa_row3_col4\" class=\"data row3 col4\" >0.8182</td>\n",
       "      <td id=\"T_d2baa_row3_col5\" class=\"data row3 col5\" >0.5457</td>\n",
       "      <td id=\"T_d2baa_row3_col6\" class=\"data row3 col6\" >0.5462</td>\n",
       "    </tr>\n",
       "    <tr>\n",
       "      <th id=\"T_d2baa_level0_row4\" class=\"row_heading level0 row4\" >4</th>\n",
       "      <td id=\"T_d2baa_row4_col0\" class=\"data row4 col0\" >0.7481</td>\n",
       "      <td id=\"T_d2baa_row4_col1\" class=\"data row4 col1\" >0.8108</td>\n",
       "      <td id=\"T_d2baa_row4_col2\" class=\"data row4 col2\" >0.8590</td>\n",
       "      <td id=\"T_d2baa_row4_col3\" class=\"data row4 col3\" >0.7500</td>\n",
       "      <td id=\"T_d2baa_row4_col4\" class=\"data row4 col4\" >0.8008</td>\n",
       "      <td id=\"T_d2baa_row4_col5\" class=\"data row4 col5\" >0.4623</td>\n",
       "      <td id=\"T_d2baa_row4_col6\" class=\"data row4 col6\" >0.4702</td>\n",
       "    </tr>\n",
       "    <tr>\n",
       "      <th id=\"T_d2baa_level0_row5\" class=\"row_heading level0 row5\" >5</th>\n",
       "      <td id=\"T_d2baa_row5_col0\" class=\"data row5 col0\" >0.7714</td>\n",
       "      <td id=\"T_d2baa_row5_col1\" class=\"data row5 col1\" >0.8434</td>\n",
       "      <td id=\"T_d2baa_row5_col2\" class=\"data row5 col2\" >0.8326</td>\n",
       "      <td id=\"T_d2baa_row5_col3\" class=\"data row5 col3\" >0.7908</td>\n",
       "      <td id=\"T_d2baa_row5_col4\" class=\"data row5 col4\" >0.8112</td>\n",
       "      <td id=\"T_d2baa_row5_col5\" class=\"data row5 col5\" >0.5222</td>\n",
       "      <td id=\"T_d2baa_row5_col6\" class=\"data row5 col6\" >0.5233</td>\n",
       "    </tr>\n",
       "    <tr>\n",
       "      <th id=\"T_d2baa_level0_row6\" class=\"row_heading level0 row6\" >6</th>\n",
       "      <td id=\"T_d2baa_row6_col0\" class=\"data row6 col0\" >0.7455</td>\n",
       "      <td id=\"T_d2baa_row6_col1\" class=\"data row6 col1\" >0.7972</td>\n",
       "      <td id=\"T_d2baa_row6_col2\" class=\"data row6 col2\" >0.8370</td>\n",
       "      <td id=\"T_d2baa_row6_col3\" class=\"data row6 col3\" >0.7570</td>\n",
       "      <td id=\"T_d2baa_row6_col4\" class=\"data row6 col4\" >0.7950</td>\n",
       "      <td id=\"T_d2baa_row6_col5\" class=\"data row6 col5\" >0.4616</td>\n",
       "      <td id=\"T_d2baa_row6_col6\" class=\"data row6 col6\" >0.4657</td>\n",
       "    </tr>\n",
       "    <tr>\n",
       "      <th id=\"T_d2baa_level0_row7\" class=\"row_heading level0 row7\" >7</th>\n",
       "      <td id=\"T_d2baa_row7_col0\" class=\"data row7 col0\" >0.7656</td>\n",
       "      <td id=\"T_d2baa_row7_col1\" class=\"data row7 col1\" >0.8031</td>\n",
       "      <td id=\"T_d2baa_row7_col2\" class=\"data row7 col2\" >0.8546</td>\n",
       "      <td id=\"T_d2baa_row7_col3\" class=\"data row7 col3\" >0.7729</td>\n",
       "      <td id=\"T_d2baa_row7_col4\" class=\"data row7 col4\" >0.8117</td>\n",
       "      <td id=\"T_d2baa_row7_col5\" class=\"data row7 col5\" >0.5034</td>\n",
       "      <td id=\"T_d2baa_row7_col6\" class=\"data row7 col6\" >0.5079</td>\n",
       "    </tr>\n",
       "    <tr>\n",
       "      <th id=\"T_d2baa_level0_row8\" class=\"row_heading level0 row8\" >8</th>\n",
       "      <td id=\"T_d2baa_row8_col0\" class=\"data row8 col0\" >0.7526</td>\n",
       "      <td id=\"T_d2baa_row8_col1\" class=\"data row8 col1\" >0.8346</td>\n",
       "      <td id=\"T_d2baa_row8_col2\" class=\"data row8 col2\" >0.8326</td>\n",
       "      <td id=\"T_d2baa_row8_col3\" class=\"data row8 col3\" >0.7683</td>\n",
       "      <td id=\"T_d2baa_row8_col4\" class=\"data row8 col4\" >0.7992</td>\n",
       "      <td id=\"T_d2baa_row8_col5\" class=\"data row8 col5\" >0.4785</td>\n",
       "      <td id=\"T_d2baa_row8_col6\" class=\"data row8 col6\" >0.4811</td>\n",
       "    </tr>\n",
       "    <tr>\n",
       "      <th id=\"T_d2baa_level0_row9\" class=\"row_heading level0 row9\" >9</th>\n",
       "      <td id=\"T_d2baa_row9_col0\" class=\"data row9 col0\" >0.7474</td>\n",
       "      <td id=\"T_d2baa_row9_col1\" class=\"data row9 col1\" >0.8461</td>\n",
       "      <td id=\"T_d2baa_row9_col2\" class=\"data row9 col2\" >0.8194</td>\n",
       "      <td id=\"T_d2baa_row9_col3\" class=\"data row9 col3\" >0.7686</td>\n",
       "      <td id=\"T_d2baa_row9_col4\" class=\"data row9 col4\" >0.7932</td>\n",
       "      <td id=\"T_d2baa_row9_col5\" class=\"data row9 col5\" >0.4696</td>\n",
       "      <td id=\"T_d2baa_row9_col6\" class=\"data row9 col6\" >0.4712</td>\n",
       "    </tr>\n",
       "    <tr>\n",
       "      <th id=\"T_d2baa_level0_row10\" class=\"row_heading level0 row10\" >Mean</th>\n",
       "      <td id=\"T_d2baa_row10_col0\" class=\"data row10 col0\" >0.7538</td>\n",
       "      <td id=\"T_d2baa_row10_col1\" class=\"data row10 col1\" >0.8167</td>\n",
       "      <td id=\"T_d2baa_row10_col2\" class=\"data row10 col2\" >0.8322</td>\n",
       "      <td id=\"T_d2baa_row10_col3\" class=\"data row10 col3\" >0.7697</td>\n",
       "      <td id=\"T_d2baa_row10_col4\" class=\"data row10 col4\" >0.7996</td>\n",
       "      <td id=\"T_d2baa_row10_col5\" class=\"data row10 col5\" >0.4818</td>\n",
       "      <td id=\"T_d2baa_row10_col6\" class=\"data row10 col6\" >0.4847</td>\n",
       "    </tr>\n",
       "    <tr>\n",
       "      <th id=\"T_d2baa_level0_row11\" class=\"row_heading level0 row11\" >Std</th>\n",
       "      <td id=\"T_d2baa_row11_col0\" class=\"data row11 col0\" >0.0172</td>\n",
       "      <td id=\"T_d2baa_row11_col1\" class=\"data row11 col1\" >0.0197</td>\n",
       "      <td id=\"T_d2baa_row11_col2\" class=\"data row11 col2\" >0.0193</td>\n",
       "      <td id=\"T_d2baa_row11_col3\" class=\"data row11 col3\" >0.0169</td>\n",
       "      <td id=\"T_d2baa_row11_col4\" class=\"data row11 col4\" >0.0140</td>\n",
       "      <td id=\"T_d2baa_row11_col5\" class=\"data row11 col5\" >0.0367</td>\n",
       "      <td id=\"T_d2baa_row11_col6\" class=\"data row11 col6\" >0.0364</td>\n",
       "    </tr>\n",
       "  </tbody>\n",
       "</table>\n"
      ],
      "text/plain": [
       "<pandas.io.formats.style.Styler at 0x1bdad1f2a10>"
      ]
     },
     "metadata": {},
     "output_type": "display_data"
    },
    {
     "data": {
      "text/html": [],
      "text/plain": [
       "<IPython.core.display.HTML object>"
      ]
     },
     "metadata": {},
     "output_type": "display_data"
    }
   ],
   "source": [
    "ensemble_model = blend_models(estimator_list=best_models, method='soft',optimize='F1') # 각 데이터셋으로 앙상블된 모델들을 최종 앙상블"
   ]
  },
  {
   "cell_type": "code",
   "execution_count": 33,
   "id": "80fd8363-fa3c-4c72-b99d-1ebb42d449dc",
   "metadata": {
    "tags": []
   },
   "outputs": [
    {
     "data": {
      "text/html": [
       "<style>#sk-container-id-1 {color: black;background-color: white;}#sk-container-id-1 pre{padding: 0;}#sk-container-id-1 div.sk-toggleable {background-color: white;}#sk-container-id-1 label.sk-toggleable__label {cursor: pointer;display: block;width: 100%;margin-bottom: 0;padding: 0.3em;box-sizing: border-box;text-align: center;}#sk-container-id-1 label.sk-toggleable__label-arrow:before {content: \"▸\";float: left;margin-right: 0.25em;color: #696969;}#sk-container-id-1 label.sk-toggleable__label-arrow:hover:before {color: black;}#sk-container-id-1 div.sk-estimator:hover label.sk-toggleable__label-arrow:before {color: black;}#sk-container-id-1 div.sk-toggleable__content {max-height: 0;max-width: 0;overflow: hidden;text-align: left;background-color: #f0f8ff;}#sk-container-id-1 div.sk-toggleable__content pre {margin: 0.2em;color: black;border-radius: 0.25em;background-color: #f0f8ff;}#sk-container-id-1 input.sk-toggleable__control:checked~div.sk-toggleable__content {max-height: 200px;max-width: 100%;overflow: auto;}#sk-container-id-1 input.sk-toggleable__control:checked~label.sk-toggleable__label-arrow:before {content: \"▾\";}#sk-container-id-1 div.sk-estimator input.sk-toggleable__control:checked~label.sk-toggleable__label {background-color: #d4ebff;}#sk-container-id-1 div.sk-label input.sk-toggleable__control:checked~label.sk-toggleable__label {background-color: #d4ebff;}#sk-container-id-1 input.sk-hidden--visually {border: 0;clip: rect(1px 1px 1px 1px);clip: rect(1px, 1px, 1px, 1px);height: 1px;margin: -1px;overflow: hidden;padding: 0;position: absolute;width: 1px;}#sk-container-id-1 div.sk-estimator {font-family: monospace;background-color: #f0f8ff;border: 1px dotted black;border-radius: 0.25em;box-sizing: border-box;margin-bottom: 0.5em;}#sk-container-id-1 div.sk-estimator:hover {background-color: #d4ebff;}#sk-container-id-1 div.sk-parallel-item::after {content: \"\";width: 100%;border-bottom: 1px solid gray;flex-grow: 1;}#sk-container-id-1 div.sk-label:hover label.sk-toggleable__label {background-color: #d4ebff;}#sk-container-id-1 div.sk-serial::before {content: \"\";position: absolute;border-left: 1px solid gray;box-sizing: border-box;top: 0;bottom: 0;left: 50%;z-index: 0;}#sk-container-id-1 div.sk-serial {display: flex;flex-direction: column;align-items: center;background-color: white;padding-right: 0.2em;padding-left: 0.2em;position: relative;}#sk-container-id-1 div.sk-item {position: relative;z-index: 1;}#sk-container-id-1 div.sk-parallel {display: flex;align-items: stretch;justify-content: center;background-color: white;position: relative;}#sk-container-id-1 div.sk-item::before, #sk-container-id-1 div.sk-parallel-item::before {content: \"\";position: absolute;border-left: 1px solid gray;box-sizing: border-box;top: 0;bottom: 0;left: 50%;z-index: -1;}#sk-container-id-1 div.sk-parallel-item {display: flex;flex-direction: column;z-index: 1;position: relative;background-color: white;}#sk-container-id-1 div.sk-parallel-item:first-child::after {align-self: flex-end;width: 50%;}#sk-container-id-1 div.sk-parallel-item:last-child::after {align-self: flex-start;width: 50%;}#sk-container-id-1 div.sk-parallel-item:only-child::after {width: 0;}#sk-container-id-1 div.sk-dashed-wrapped {border: 1px dashed gray;margin: 0 0.4em 0.5em 0.4em;box-sizing: border-box;padding-bottom: 0.4em;background-color: white;}#sk-container-id-1 div.sk-label label {font-family: monospace;font-weight: bold;display: inline-block;line-height: 1.2em;}#sk-container-id-1 div.sk-label-container {text-align: center;}#sk-container-id-1 div.sk-container {/* jupyter's `normalize.less` sets `[hidden] { display: none; }` but bootstrap.min.css set `[hidden] { display: none !important; }` so we also need the `!important` here to be able to override the default hidden behavior on the sphinx rendered scikit-learn.org. See: https://github.com/scikit-learn/scikit-learn/issues/21755 */display: inline-block !important;position: relative;}#sk-container-id-1 div.sk-text-repr-fallback {display: none;}</style><div id=\"sk-container-id-1\" class=\"sk-top-container\"><div class=\"sk-text-repr-fallback\"><pre>VotingClassifier(estimators=[(&#x27;Voting Classifier&#x27;,\n",
       "                              VotingClassifier(estimators=[(&#x27;Gradient Boosting &#x27;\n",
       "                                                            &#x27;Classifier&#x27;,\n",
       "                                                            GradientBoostingClassifier(ccp_alpha=0.0,\n",
       "                                                                                       criterion=&#x27;friedman_mse&#x27;,\n",
       "                                                                                       init=None,\n",
       "                                                                                       learning_rate=0.1,\n",
       "                                                                                       loss=&#x27;log_loss&#x27;,\n",
       "                                                                                       max_depth=3,\n",
       "                                                                                       max_features=None,\n",
       "                                                                                       max_leaf_nodes=None,\n",
       "                                                                                       min_impurity_decrease=0.0,\n",
       "                                                                                       min_samples_leaf=1,\n",
       "                                                                                       min_samples_split=2,\n",
       "                                                                                       min_weight_frac...\n",
       "                                                           (&#x27;Ada Boost &#x27;\n",
       "                                                            &#x27;Classifier&#x27;,\n",
       "                                                            AdaBoostClassifier(algorithm=&#x27;SAMME.R&#x27;,\n",
       "                                                                               base_estimator=&#x27;deprecated&#x27;,\n",
       "                                                                               estimator=None,\n",
       "                                                                               learning_rate=1.0,\n",
       "                                                                               n_estimators=50,\n",
       "                                                                               random_state=123))],\n",
       "                                               flatten_transform=True,\n",
       "                                               n_jobs=-1, verbose=False,\n",
       "                                               voting=&#x27;soft&#x27;,\n",
       "                                               weights=[0.54,\n",
       "                                                        0.18000000000000002,\n",
       "                                                        0.8300000000000001,\n",
       "                                                        0.17]))],\n",
       "                 flatten_transform=True, n_jobs=-1, verbose=False,\n",
       "                 voting=&#x27;soft&#x27;, weights=None)</pre><b>In a Jupyter environment, please rerun this cell to show the HTML representation or trust the notebook. <br />On GitHub, the HTML representation is unable to render, please try loading this page with nbviewer.org.</b></div><div class=\"sk-container\" hidden><div class=\"sk-item sk-dashed-wrapped\"><div class=\"sk-label-container\"><div class=\"sk-label sk-toggleable\"><input class=\"sk-toggleable__control sk-hidden--visually\" id=\"sk-estimator-id-1\" type=\"checkbox\" ><label for=\"sk-estimator-id-1\" class=\"sk-toggleable__label sk-toggleable__label-arrow\">VotingClassifier</label><div class=\"sk-toggleable__content\"><pre>VotingClassifier(estimators=[(&#x27;Voting Classifier&#x27;,\n",
       "                              VotingClassifier(estimators=[(&#x27;Gradient Boosting &#x27;\n",
       "                                                            &#x27;Classifier&#x27;,\n",
       "                                                            GradientBoostingClassifier(ccp_alpha=0.0,\n",
       "                                                                                       criterion=&#x27;friedman_mse&#x27;,\n",
       "                                                                                       init=None,\n",
       "                                                                                       learning_rate=0.1,\n",
       "                                                                                       loss=&#x27;log_loss&#x27;,\n",
       "                                                                                       max_depth=3,\n",
       "                                                                                       max_features=None,\n",
       "                                                                                       max_leaf_nodes=None,\n",
       "                                                                                       min_impurity_decrease=0.0,\n",
       "                                                                                       min_samples_leaf=1,\n",
       "                                                                                       min_samples_split=2,\n",
       "                                                                                       min_weight_frac...\n",
       "                                                           (&#x27;Ada Boost &#x27;\n",
       "                                                            &#x27;Classifier&#x27;,\n",
       "                                                            AdaBoostClassifier(algorithm=&#x27;SAMME.R&#x27;,\n",
       "                                                                               base_estimator=&#x27;deprecated&#x27;,\n",
       "                                                                               estimator=None,\n",
       "                                                                               learning_rate=1.0,\n",
       "                                                                               n_estimators=50,\n",
       "                                                                               random_state=123))],\n",
       "                                               flatten_transform=True,\n",
       "                                               n_jobs=-1, verbose=False,\n",
       "                                               voting=&#x27;soft&#x27;,\n",
       "                                               weights=[0.54,\n",
       "                                                        0.18000000000000002,\n",
       "                                                        0.8300000000000001,\n",
       "                                                        0.17]))],\n",
       "                 flatten_transform=True, n_jobs=-1, verbose=False,\n",
       "                 voting=&#x27;soft&#x27;, weights=None)</pre></div></div></div><div class=\"sk-parallel\"><div class=\"sk-parallel-item\"><div class=\"sk-item\"><div class=\"sk-label-container\"><div class=\"sk-label sk-toggleable\"><label>Voting Classifier</label></div></div><div class=\"sk-serial\"><div class=\"sk-item sk-dashed-wrapped\"><div class=\"sk-parallel\"><div class=\"sk-parallel-item\"><div class=\"sk-item\"><div class=\"sk-label-container\"><div class=\"sk-label sk-toggleable\"><label>Gradient Boosting Classifier</label></div></div><div class=\"sk-serial\"><div class=\"sk-item\"><div class=\"sk-estimator sk-toggleable\"><input class=\"sk-toggleable__control sk-hidden--visually\" id=\"sk-estimator-id-2\" type=\"checkbox\" ><label for=\"sk-estimator-id-2\" class=\"sk-toggleable__label sk-toggleable__label-arrow\">GradientBoostingClassifier</label><div class=\"sk-toggleable__content\"><pre>GradientBoostingClassifier(random_state=123)</pre></div></div></div></div></div></div><div class=\"sk-parallel-item\"><div class=\"sk-item\"><div class=\"sk-label-container\"><div class=\"sk-label sk-toggleable\"><label>Linear Discriminant Analysis</label></div></div><div class=\"sk-serial\"><div class=\"sk-item\"><div class=\"sk-estimator sk-toggleable\"><input class=\"sk-toggleable__control sk-hidden--visually\" id=\"sk-estimator-id-3\" type=\"checkbox\" ><label for=\"sk-estimator-id-3\" class=\"sk-toggleable__label sk-toggleable__label-arrow\">LinearDiscriminantAnalysis</label><div class=\"sk-toggleable__content\"><pre>LinearDiscriminantAnalysis()</pre></div></div></div></div></div></div><div class=\"sk-parallel-item\"><div class=\"sk-item\"><div class=\"sk-label-container\"><div class=\"sk-label sk-toggleable\"><label>Logistic Regression</label></div></div><div class=\"sk-serial\"><div class=\"sk-item\"><div class=\"sk-estimator sk-toggleable\"><input class=\"sk-toggleable__control sk-hidden--visually\" id=\"sk-estimator-id-4\" type=\"checkbox\" ><label for=\"sk-estimator-id-4\" class=\"sk-toggleable__label sk-toggleable__label-arrow\">LogisticRegression</label><div class=\"sk-toggleable__content\"><pre>LogisticRegression(max_iter=1000, random_state=123)</pre></div></div></div></div></div></div><div class=\"sk-parallel-item\"><div class=\"sk-item\"><div class=\"sk-label-container\"><div class=\"sk-label sk-toggleable\"><label>Random Forest Classifier</label></div></div><div class=\"sk-serial\"><div class=\"sk-item\"><div class=\"sk-estimator sk-toggleable\"><input class=\"sk-toggleable__control sk-hidden--visually\" id=\"sk-estimator-id-5\" type=\"checkbox\" ><label for=\"sk-estimator-id-5\" class=\"sk-toggleable__label sk-toggleable__label-arrow\">RandomForestClassifier</label><div class=\"sk-toggleable__content\"><pre>RandomForestClassifier(n_jobs=-1, random_state=123)</pre></div></div></div></div></div></div></div></div></div></div></div><div class=\"sk-parallel-item\"><div class=\"sk-item\"><div class=\"sk-label-container\"><div class=\"sk-label sk-toggleable\"><label>Voting Classifier_1</label></div></div><div class=\"sk-serial\"><div class=\"sk-item sk-dashed-wrapped\"><div class=\"sk-parallel\"><div class=\"sk-parallel-item\"><div class=\"sk-item\"><div class=\"sk-label-container\"><div class=\"sk-label sk-toggleable\"><label>Gradient Boosting Classifier</label></div></div><div class=\"sk-serial\"><div class=\"sk-item\"><div class=\"sk-estimator sk-toggleable\"><input class=\"sk-toggleable__control sk-hidden--visually\" id=\"sk-estimator-id-6\" type=\"checkbox\" ><label for=\"sk-estimator-id-6\" class=\"sk-toggleable__label sk-toggleable__label-arrow\">GradientBoostingClassifier</label><div class=\"sk-toggleable__content\"><pre>GradientBoostingClassifier(random_state=123)</pre></div></div></div></div></div></div><div class=\"sk-parallel-item\"><div class=\"sk-item\"><div class=\"sk-label-container\"><div class=\"sk-label sk-toggleable\"><label>Logistic Regression</label></div></div><div class=\"sk-serial\"><div class=\"sk-item\"><div class=\"sk-estimator sk-toggleable\"><input class=\"sk-toggleable__control sk-hidden--visually\" id=\"sk-estimator-id-7\" type=\"checkbox\" ><label for=\"sk-estimator-id-7\" class=\"sk-toggleable__label sk-toggleable__label-arrow\">LogisticRegression</label><div class=\"sk-toggleable__content\"><pre>LogisticRegression(max_iter=1000, random_state=123)</pre></div></div></div></div></div></div><div class=\"sk-parallel-item\"><div class=\"sk-item\"><div class=\"sk-label-container\"><div class=\"sk-label sk-toggleable\"><label>Linear Discriminant Analysis</label></div></div><div class=\"sk-serial\"><div class=\"sk-item\"><div class=\"sk-estimator sk-toggleable\"><input class=\"sk-toggleable__control sk-hidden--visually\" id=\"sk-estimator-id-8\" type=\"checkbox\" ><label for=\"sk-estimator-id-8\" class=\"sk-toggleable__label sk-toggleable__label-arrow\">LinearDiscriminantAnalysis</label><div class=\"sk-toggleable__content\"><pre>LinearDiscriminantAnalysis()</pre></div></div></div></div></div></div><div class=\"sk-parallel-item\"><div class=\"sk-item\"><div class=\"sk-label-container\"><div class=\"sk-label sk-toggleable\"><label>Ada Boost Classifier</label></div></div><div class=\"sk-serial\"><div class=\"sk-item\"><div class=\"sk-estimator sk-toggleable\"><input class=\"sk-toggleable__control sk-hidden--visually\" id=\"sk-estimator-id-9\" type=\"checkbox\" ><label for=\"sk-estimator-id-9\" class=\"sk-toggleable__label sk-toggleable__label-arrow\">AdaBoostClassifier</label><div class=\"sk-toggleable__content\"><pre>AdaBoostClassifier(random_state=123)</pre></div></div></div></div></div></div></div></div></div></div></div><div class=\"sk-parallel-item\"><div class=\"sk-item\"><div class=\"sk-label-container\"><div class=\"sk-label sk-toggleable\"><label>Voting Classifier_2</label></div></div><div class=\"sk-serial\"><div class=\"sk-item sk-dashed-wrapped\"><div class=\"sk-parallel\"><div class=\"sk-parallel-item\"><div class=\"sk-item\"><div class=\"sk-label-container\"><div class=\"sk-label sk-toggleable\"><label>Logistic Regression</label></div></div><div class=\"sk-serial\"><div class=\"sk-item\"><div class=\"sk-estimator sk-toggleable\"><input class=\"sk-toggleable__control sk-hidden--visually\" id=\"sk-estimator-id-10\" type=\"checkbox\" ><label for=\"sk-estimator-id-10\" class=\"sk-toggleable__label sk-toggleable__label-arrow\">LogisticRegression</label><div class=\"sk-toggleable__content\"><pre>LogisticRegression(max_iter=1000, random_state=123)</pre></div></div></div></div></div></div><div class=\"sk-parallel-item\"><div class=\"sk-item\"><div class=\"sk-label-container\"><div class=\"sk-label sk-toggleable\"><label>Ada Boost Classifier</label></div></div><div class=\"sk-serial\"><div class=\"sk-item\"><div class=\"sk-estimator sk-toggleable\"><input class=\"sk-toggleable__control sk-hidden--visually\" id=\"sk-estimator-id-11\" type=\"checkbox\" ><label for=\"sk-estimator-id-11\" class=\"sk-toggleable__label sk-toggleable__label-arrow\">AdaBoostClassifier</label><div class=\"sk-toggleable__content\"><pre>AdaBoostClassifier(random_state=123)</pre></div></div></div></div></div></div><div class=\"sk-parallel-item\"><div class=\"sk-item\"><div class=\"sk-label-container\"><div class=\"sk-label sk-toggleable\"><label>Gradient Boosting Classifier</label></div></div><div class=\"sk-serial\"><div class=\"sk-item\"><div class=\"sk-estimator sk-toggleable\"><input class=\"sk-toggleable__control sk-hidden--visually\" id=\"sk-estimator-id-12\" type=\"checkbox\" ><label for=\"sk-estimator-id-12\" class=\"sk-toggleable__label sk-toggleable__label-arrow\">GradientBoostingClassifier</label><div class=\"sk-toggleable__content\"><pre>GradientBoostingClassifier(random_state=123)</pre></div></div></div></div></div></div><div class=\"sk-parallel-item\"><div class=\"sk-item\"><div class=\"sk-label-container\"><div class=\"sk-label sk-toggleable\"><label>Linear Discriminant Analysis</label></div></div><div class=\"sk-serial\"><div class=\"sk-item\"><div class=\"sk-estimator sk-toggleable\"><input class=\"sk-toggleable__control sk-hidden--visually\" id=\"sk-estimator-id-13\" type=\"checkbox\" ><label for=\"sk-estimator-id-13\" class=\"sk-toggleable__label sk-toggleable__label-arrow\">LinearDiscriminantAnalysis</label><div class=\"sk-toggleable__content\"><pre>LinearDiscriminantAnalysis()</pre></div></div></div></div></div></div></div></div></div></div></div><div class=\"sk-parallel-item\"><div class=\"sk-item\"><div class=\"sk-label-container\"><div class=\"sk-label sk-toggleable\"><label>Voting Classifier_3</label></div></div><div class=\"sk-serial\"><div class=\"sk-item sk-dashed-wrapped\"><div class=\"sk-parallel\"><div class=\"sk-parallel-item\"><div class=\"sk-item\"><div class=\"sk-label-container\"><div class=\"sk-label sk-toggleable\"><label>Gradient Boosting Classifier</label></div></div><div class=\"sk-serial\"><div class=\"sk-item\"><div class=\"sk-estimator sk-toggleable\"><input class=\"sk-toggleable__control sk-hidden--visually\" id=\"sk-estimator-id-14\" type=\"checkbox\" ><label for=\"sk-estimator-id-14\" class=\"sk-toggleable__label sk-toggleable__label-arrow\">GradientBoostingClassifier</label><div class=\"sk-toggleable__content\"><pre>GradientBoostingClassifier(random_state=123)</pre></div></div></div></div></div></div><div class=\"sk-parallel-item\"><div class=\"sk-item\"><div class=\"sk-label-container\"><div class=\"sk-label sk-toggleable\"><label>Logistic Regression</label></div></div><div class=\"sk-serial\"><div class=\"sk-item\"><div class=\"sk-estimator sk-toggleable\"><input class=\"sk-toggleable__control sk-hidden--visually\" id=\"sk-estimator-id-15\" type=\"checkbox\" ><label for=\"sk-estimator-id-15\" class=\"sk-toggleable__label sk-toggleable__label-arrow\">LogisticRegression</label><div class=\"sk-toggleable__content\"><pre>LogisticRegression(max_iter=1000, random_state=123)</pre></div></div></div></div></div></div><div class=\"sk-parallel-item\"><div class=\"sk-item\"><div class=\"sk-label-container\"><div class=\"sk-label sk-toggleable\"><label>Linear Discriminant Analysis</label></div></div><div class=\"sk-serial\"><div class=\"sk-item\"><div class=\"sk-estimator sk-toggleable\"><input class=\"sk-toggleable__control sk-hidden--visually\" id=\"sk-estimator-id-16\" type=\"checkbox\" ><label for=\"sk-estimator-id-16\" class=\"sk-toggleable__label sk-toggleable__label-arrow\">LinearDiscriminantAnalysis</label><div class=\"sk-toggleable__content\"><pre>LinearDiscriminantAnalysis()</pre></div></div></div></div></div></div><div class=\"sk-parallel-item\"><div class=\"sk-item\"><div class=\"sk-label-container\"><div class=\"sk-label sk-toggleable\"><label>Random Forest Classifier</label></div></div><div class=\"sk-serial\"><div class=\"sk-item\"><div class=\"sk-estimator sk-toggleable\"><input class=\"sk-toggleable__control sk-hidden--visually\" id=\"sk-estimator-id-17\" type=\"checkbox\" ><label for=\"sk-estimator-id-17\" class=\"sk-toggleable__label sk-toggleable__label-arrow\">RandomForestClassifier</label><div class=\"sk-toggleable__content\"><pre>RandomForestClassifier(n_jobs=-1, random_state=123)</pre></div></div></div></div></div></div></div></div></div></div></div><div class=\"sk-parallel-item\"><div class=\"sk-item\"><div class=\"sk-label-container\"><div class=\"sk-label sk-toggleable\"><label>Voting Classifier_4</label></div></div><div class=\"sk-serial\"><div class=\"sk-item sk-dashed-wrapped\"><div class=\"sk-parallel\"><div class=\"sk-parallel-item\"><div class=\"sk-item\"><div class=\"sk-label-container\"><div class=\"sk-label sk-toggleable\"><label>Logistic Regression</label></div></div><div class=\"sk-serial\"><div class=\"sk-item\"><div class=\"sk-estimator sk-toggleable\"><input class=\"sk-toggleable__control sk-hidden--visually\" id=\"sk-estimator-id-18\" type=\"checkbox\" ><label for=\"sk-estimator-id-18\" class=\"sk-toggleable__label sk-toggleable__label-arrow\">LogisticRegression</label><div class=\"sk-toggleable__content\"><pre>LogisticRegression(max_iter=1000, random_state=123)</pre></div></div></div></div></div></div><div class=\"sk-parallel-item\"><div class=\"sk-item\"><div class=\"sk-label-container\"><div class=\"sk-label sk-toggleable\"><label>Linear Discriminant Analysis</label></div></div><div class=\"sk-serial\"><div class=\"sk-item\"><div class=\"sk-estimator sk-toggleable\"><input class=\"sk-toggleable__control sk-hidden--visually\" id=\"sk-estimator-id-19\" type=\"checkbox\" ><label for=\"sk-estimator-id-19\" class=\"sk-toggleable__label sk-toggleable__label-arrow\">LinearDiscriminantAnalysis</label><div class=\"sk-toggleable__content\"><pre>LinearDiscriminantAnalysis()</pre></div></div></div></div></div></div><div class=\"sk-parallel-item\"><div class=\"sk-item\"><div class=\"sk-label-container\"><div class=\"sk-label sk-toggleable\"><label>Gradient Boosting Classifier</label></div></div><div class=\"sk-serial\"><div class=\"sk-item\"><div class=\"sk-estimator sk-toggleable\"><input class=\"sk-toggleable__control sk-hidden--visually\" id=\"sk-estimator-id-20\" type=\"checkbox\" ><label for=\"sk-estimator-id-20\" class=\"sk-toggleable__label sk-toggleable__label-arrow\">GradientBoostingClassifier</label><div class=\"sk-toggleable__content\"><pre>GradientBoostingClassifier(random_state=123)</pre></div></div></div></div></div></div><div class=\"sk-parallel-item\"><div class=\"sk-item\"><div class=\"sk-label-container\"><div class=\"sk-label sk-toggleable\"><label>Ada Boost Classifier</label></div></div><div class=\"sk-serial\"><div class=\"sk-item\"><div class=\"sk-estimator sk-toggleable\"><input class=\"sk-toggleable__control sk-hidden--visually\" id=\"sk-estimator-id-21\" type=\"checkbox\" ><label for=\"sk-estimator-id-21\" class=\"sk-toggleable__label sk-toggleable__label-arrow\">AdaBoostClassifier</label><div class=\"sk-toggleable__content\"><pre>AdaBoostClassifier(random_state=123)</pre></div></div></div></div></div></div></div></div></div></div></div><div class=\"sk-parallel-item\"><div class=\"sk-item\"><div class=\"sk-label-container\"><div class=\"sk-label sk-toggleable\"><label>Voting Classifier_5</label></div></div><div class=\"sk-serial\"><div class=\"sk-item sk-dashed-wrapped\"><div class=\"sk-parallel\"><div class=\"sk-parallel-item\"><div class=\"sk-item\"><div class=\"sk-label-container\"><div class=\"sk-label sk-toggleable\"><label>Gradient Boosting Classifier</label></div></div><div class=\"sk-serial\"><div class=\"sk-item\"><div class=\"sk-estimator sk-toggleable\"><input class=\"sk-toggleable__control sk-hidden--visually\" id=\"sk-estimator-id-22\" type=\"checkbox\" ><label for=\"sk-estimator-id-22\" class=\"sk-toggleable__label sk-toggleable__label-arrow\">GradientBoostingClassifier</label><div class=\"sk-toggleable__content\"><pre>GradientBoostingClassifier(random_state=123)</pre></div></div></div></div></div></div><div class=\"sk-parallel-item\"><div class=\"sk-item\"><div class=\"sk-label-container\"><div class=\"sk-label sk-toggleable\"><label>Linear Discriminant Analysis</label></div></div><div class=\"sk-serial\"><div class=\"sk-item\"><div class=\"sk-estimator sk-toggleable\"><input class=\"sk-toggleable__control sk-hidden--visually\" id=\"sk-estimator-id-23\" type=\"checkbox\" ><label for=\"sk-estimator-id-23\" class=\"sk-toggleable__label sk-toggleable__label-arrow\">LinearDiscriminantAnalysis</label><div class=\"sk-toggleable__content\"><pre>LinearDiscriminantAnalysis()</pre></div></div></div></div></div></div><div class=\"sk-parallel-item\"><div class=\"sk-item\"><div class=\"sk-label-container\"><div class=\"sk-label sk-toggleable\"><label>Logistic Regression</label></div></div><div class=\"sk-serial\"><div class=\"sk-item\"><div class=\"sk-estimator sk-toggleable\"><input class=\"sk-toggleable__control sk-hidden--visually\" id=\"sk-estimator-id-24\" type=\"checkbox\" ><label for=\"sk-estimator-id-24\" class=\"sk-toggleable__label sk-toggleable__label-arrow\">LogisticRegression</label><div class=\"sk-toggleable__content\"><pre>LogisticRegression(max_iter=1000, random_state=123)</pre></div></div></div></div></div></div><div class=\"sk-parallel-item\"><div class=\"sk-item\"><div class=\"sk-label-container\"><div class=\"sk-label sk-toggleable\"><label>Ada Boost Classifier</label></div></div><div class=\"sk-serial\"><div class=\"sk-item\"><div class=\"sk-estimator sk-toggleable\"><input class=\"sk-toggleable__control sk-hidden--visually\" id=\"sk-estimator-id-25\" type=\"checkbox\" ><label for=\"sk-estimator-id-25\" class=\"sk-toggleable__label sk-toggleable__label-arrow\">AdaBoostClassifier</label><div class=\"sk-toggleable__content\"><pre>AdaBoostClassifier(random_state=123)</pre></div></div></div></div></div></div></div></div></div></div></div><div class=\"sk-parallel-item\"><div class=\"sk-item\"><div class=\"sk-label-container\"><div class=\"sk-label sk-toggleable\"><label>Voting Classifier_6</label></div></div><div class=\"sk-serial\"><div class=\"sk-item sk-dashed-wrapped\"><div class=\"sk-parallel\"><div class=\"sk-parallel-item\"><div class=\"sk-item\"><div class=\"sk-label-container\"><div class=\"sk-label sk-toggleable\"><label>Gradient Boosting Classifier</label></div></div><div class=\"sk-serial\"><div class=\"sk-item\"><div class=\"sk-estimator sk-toggleable\"><input class=\"sk-toggleable__control sk-hidden--visually\" id=\"sk-estimator-id-26\" type=\"checkbox\" ><label for=\"sk-estimator-id-26\" class=\"sk-toggleable__label sk-toggleable__label-arrow\">GradientBoostingClassifier</label><div class=\"sk-toggleable__content\"><pre>GradientBoostingClassifier(random_state=123)</pre></div></div></div></div></div></div><div class=\"sk-parallel-item\"><div class=\"sk-item\"><div class=\"sk-label-container\"><div class=\"sk-label sk-toggleable\"><label>Logistic Regression</label></div></div><div class=\"sk-serial\"><div class=\"sk-item\"><div class=\"sk-estimator sk-toggleable\"><input class=\"sk-toggleable__control sk-hidden--visually\" id=\"sk-estimator-id-27\" type=\"checkbox\" ><label for=\"sk-estimator-id-27\" class=\"sk-toggleable__label sk-toggleable__label-arrow\">LogisticRegression</label><div class=\"sk-toggleable__content\"><pre>LogisticRegression(max_iter=1000, random_state=123)</pre></div></div></div></div></div></div><div class=\"sk-parallel-item\"><div class=\"sk-item\"><div class=\"sk-label-container\"><div class=\"sk-label sk-toggleable\"><label>Random Forest Classifier</label></div></div><div class=\"sk-serial\"><div class=\"sk-item\"><div class=\"sk-estimator sk-toggleable\"><input class=\"sk-toggleable__control sk-hidden--visually\" id=\"sk-estimator-id-28\" type=\"checkbox\" ><label for=\"sk-estimator-id-28\" class=\"sk-toggleable__label sk-toggleable__label-arrow\">RandomForestClassifier</label><div class=\"sk-toggleable__content\"><pre>RandomForestClassifier(n_jobs=-1, random_state=123)</pre></div></div></div></div></div></div><div class=\"sk-parallel-item\"><div class=\"sk-item\"><div class=\"sk-label-container\"><div class=\"sk-label sk-toggleable\"><label>Ada Boost Classifier</label></div></div><div class=\"sk-serial\"><div class=\"sk-item\"><div class=\"sk-estimator sk-toggleable\"><input class=\"sk-toggleable__control sk-hidden--visually\" id=\"sk-estimator-id-29\" type=\"checkbox\" ><label for=\"sk-estimator-id-29\" class=\"sk-toggleable__label sk-toggleable__label-arrow\">AdaBoostClassifier</label><div class=\"sk-toggleable__content\"><pre>AdaBoostClassifier(random_state=123)</pre></div></div></div></div></div></div></div></div></div></div></div><div class=\"sk-parallel-item\"><div class=\"sk-item\"><div class=\"sk-label-container\"><div class=\"sk-label sk-toggleable\"><label>Voting Classifier_7</label></div></div><div class=\"sk-serial\"><div class=\"sk-item sk-dashed-wrapped\"><div class=\"sk-parallel\"><div class=\"sk-parallel-item\"><div class=\"sk-item\"><div class=\"sk-label-container\"><div class=\"sk-label sk-toggleable\"><label>Linear Discriminant Analysis</label></div></div><div class=\"sk-serial\"><div class=\"sk-item\"><div class=\"sk-estimator sk-toggleable\"><input class=\"sk-toggleable__control sk-hidden--visually\" id=\"sk-estimator-id-30\" type=\"checkbox\" ><label for=\"sk-estimator-id-30\" class=\"sk-toggleable__label sk-toggleable__label-arrow\">LinearDiscriminantAnalysis</label><div class=\"sk-toggleable__content\"><pre>LinearDiscriminantAnalysis()</pre></div></div></div></div></div></div><div class=\"sk-parallel-item\"><div class=\"sk-item\"><div class=\"sk-label-container\"><div class=\"sk-label sk-toggleable\"><label>Logistic Regression</label></div></div><div class=\"sk-serial\"><div class=\"sk-item\"><div class=\"sk-estimator sk-toggleable\"><input class=\"sk-toggleable__control sk-hidden--visually\" id=\"sk-estimator-id-31\" type=\"checkbox\" ><label for=\"sk-estimator-id-31\" class=\"sk-toggleable__label sk-toggleable__label-arrow\">LogisticRegression</label><div class=\"sk-toggleable__content\"><pre>LogisticRegression(max_iter=1000, random_state=123)</pre></div></div></div></div></div></div><div class=\"sk-parallel-item\"><div class=\"sk-item\"><div class=\"sk-label-container\"><div class=\"sk-label sk-toggleable\"><label>Gradient Boosting Classifier</label></div></div><div class=\"sk-serial\"><div class=\"sk-item\"><div class=\"sk-estimator sk-toggleable\"><input class=\"sk-toggleable__control sk-hidden--visually\" id=\"sk-estimator-id-32\" type=\"checkbox\" ><label for=\"sk-estimator-id-32\" class=\"sk-toggleable__label sk-toggleable__label-arrow\">GradientBoostingClassifier</label><div class=\"sk-toggleable__content\"><pre>GradientBoostingClassifier(random_state=123)</pre></div></div></div></div></div></div><div class=\"sk-parallel-item\"><div class=\"sk-item\"><div class=\"sk-label-container\"><div class=\"sk-label sk-toggleable\"><label>Ada Boost Classifier</label></div></div><div class=\"sk-serial\"><div class=\"sk-item\"><div class=\"sk-estimator sk-toggleable\"><input class=\"sk-toggleable__control sk-hidden--visually\" id=\"sk-estimator-id-33\" type=\"checkbox\" ><label for=\"sk-estimator-id-33\" class=\"sk-toggleable__label sk-toggleable__label-arrow\">AdaBoostClassifier</label><div class=\"sk-toggleable__content\"><pre>AdaBoostClassifier(random_state=123)</pre></div></div></div></div></div></div></div></div></div></div></div></div></div></div></div>"
      ],
      "text/plain": [
       "VotingClassifier(estimators=[('Voting Classifier',\n",
       "                              VotingClassifier(estimators=[('Gradient Boosting '\n",
       "                                                            'Classifier',\n",
       "                                                            GradientBoostingClassifier(ccp_alpha=0.0,\n",
       "                                                                                       criterion='friedman_mse',\n",
       "                                                                                       init=None,\n",
       "                                                                                       learning_rate=0.1,\n",
       "                                                                                       loss='log_loss',\n",
       "                                                                                       max_depth=3,\n",
       "                                                                                       max_features=None,\n",
       "                                                                                       max_leaf_nodes=None,\n",
       "                                                                                       min_impurity_decrease=0.0,\n",
       "                                                                                       min_samples_leaf=1,\n",
       "                                                                                       min_samples_split=2,\n",
       "                                                                                       min_weight_frac...\n",
       "                                                           ('Ada Boost '\n",
       "                                                            'Classifier',\n",
       "                                                            AdaBoostClassifier(algorithm='SAMME.R',\n",
       "                                                                               base_estimator='deprecated',\n",
       "                                                                               estimator=None,\n",
       "                                                                               learning_rate=1.0,\n",
       "                                                                               n_estimators=50,\n",
       "                                                                               random_state=123))],\n",
       "                                               flatten_transform=True,\n",
       "                                               n_jobs=-1, verbose=False,\n",
       "                                               voting='soft',\n",
       "                                               weights=[0.54,\n",
       "                                                        0.18000000000000002,\n",
       "                                                        0.8300000000000001,\n",
       "                                                        0.17]))],\n",
       "                 flatten_transform=True, n_jobs=-1, verbose=False,\n",
       "                 voting='soft', weights=None)"
      ]
     },
     "execution_count": 33,
     "metadata": {},
     "output_type": "execute_result"
    }
   ],
   "source": [
    "ensemble_model"
   ]
  },
  {
   "cell_type": "code",
   "execution_count": 34,
   "id": "c0c48979-cba1-4ad7-a2e9-60dffc4f3f99",
   "metadata": {
    "tags": []
   },
   "outputs": [],
   "source": [
    "# 앙상블 모델을 최종 한개의 모델로 마지막 학습 / cross_val 사용\n",
    "final_model = finalize_model(ensemble_model)"
   ]
  },
  {
   "cell_type": "code",
   "execution_count": 35,
   "id": "f40250d1-1246-4a33-9d18-8bb08c6ea72a",
   "metadata": {
    "tags": []
   },
   "outputs": [
    {
     "data": {
      "text/html": [
       "<style>#sk-container-id-2 {color: black;background-color: white;}#sk-container-id-2 pre{padding: 0;}#sk-container-id-2 div.sk-toggleable {background-color: white;}#sk-container-id-2 label.sk-toggleable__label {cursor: pointer;display: block;width: 100%;margin-bottom: 0;padding: 0.3em;box-sizing: border-box;text-align: center;}#sk-container-id-2 label.sk-toggleable__label-arrow:before {content: \"▸\";float: left;margin-right: 0.25em;color: #696969;}#sk-container-id-2 label.sk-toggleable__label-arrow:hover:before {color: black;}#sk-container-id-2 div.sk-estimator:hover label.sk-toggleable__label-arrow:before {color: black;}#sk-container-id-2 div.sk-toggleable__content {max-height: 0;max-width: 0;overflow: hidden;text-align: left;background-color: #f0f8ff;}#sk-container-id-2 div.sk-toggleable__content pre {margin: 0.2em;color: black;border-radius: 0.25em;background-color: #f0f8ff;}#sk-container-id-2 input.sk-toggleable__control:checked~div.sk-toggleable__content {max-height: 200px;max-width: 100%;overflow: auto;}#sk-container-id-2 input.sk-toggleable__control:checked~label.sk-toggleable__label-arrow:before {content: \"▾\";}#sk-container-id-2 div.sk-estimator input.sk-toggleable__control:checked~label.sk-toggleable__label {background-color: #d4ebff;}#sk-container-id-2 div.sk-label input.sk-toggleable__control:checked~label.sk-toggleable__label {background-color: #d4ebff;}#sk-container-id-2 input.sk-hidden--visually {border: 0;clip: rect(1px 1px 1px 1px);clip: rect(1px, 1px, 1px, 1px);height: 1px;margin: -1px;overflow: hidden;padding: 0;position: absolute;width: 1px;}#sk-container-id-2 div.sk-estimator {font-family: monospace;background-color: #f0f8ff;border: 1px dotted black;border-radius: 0.25em;box-sizing: border-box;margin-bottom: 0.5em;}#sk-container-id-2 div.sk-estimator:hover {background-color: #d4ebff;}#sk-container-id-2 div.sk-parallel-item::after {content: \"\";width: 100%;border-bottom: 1px solid gray;flex-grow: 1;}#sk-container-id-2 div.sk-label:hover label.sk-toggleable__label {background-color: #d4ebff;}#sk-container-id-2 div.sk-serial::before {content: \"\";position: absolute;border-left: 1px solid gray;box-sizing: border-box;top: 0;bottom: 0;left: 50%;z-index: 0;}#sk-container-id-2 div.sk-serial {display: flex;flex-direction: column;align-items: center;background-color: white;padding-right: 0.2em;padding-left: 0.2em;position: relative;}#sk-container-id-2 div.sk-item {position: relative;z-index: 1;}#sk-container-id-2 div.sk-parallel {display: flex;align-items: stretch;justify-content: center;background-color: white;position: relative;}#sk-container-id-2 div.sk-item::before, #sk-container-id-2 div.sk-parallel-item::before {content: \"\";position: absolute;border-left: 1px solid gray;box-sizing: border-box;top: 0;bottom: 0;left: 50%;z-index: -1;}#sk-container-id-2 div.sk-parallel-item {display: flex;flex-direction: column;z-index: 1;position: relative;background-color: white;}#sk-container-id-2 div.sk-parallel-item:first-child::after {align-self: flex-end;width: 50%;}#sk-container-id-2 div.sk-parallel-item:last-child::after {align-self: flex-start;width: 50%;}#sk-container-id-2 div.sk-parallel-item:only-child::after {width: 0;}#sk-container-id-2 div.sk-dashed-wrapped {border: 1px dashed gray;margin: 0 0.4em 0.5em 0.4em;box-sizing: border-box;padding-bottom: 0.4em;background-color: white;}#sk-container-id-2 div.sk-label label {font-family: monospace;font-weight: bold;display: inline-block;line-height: 1.2em;}#sk-container-id-2 div.sk-label-container {text-align: center;}#sk-container-id-2 div.sk-container {/* jupyter's `normalize.less` sets `[hidden] { display: none; }` but bootstrap.min.css set `[hidden] { display: none !important; }` so we also need the `!important` here to be able to override the default hidden behavior on the sphinx rendered scikit-learn.org. See: https://github.com/scikit-learn/scikit-learn/issues/21755 */display: inline-block !important;position: relative;}#sk-container-id-2 div.sk-text-repr-fallback {display: none;}</style><div id=\"sk-container-id-2\" class=\"sk-top-container\"><div class=\"sk-text-repr-fallback\"><pre>Pipeline(memory=Memory(location=None),\n",
       "         steps=[(&#x27;clean_column_names&#x27;,\n",
       "                 TransformerWrapper(exclude=None, include=None,\n",
       "                                    transformer=CleanColumnNames(match=&#x27;[\\\\]\\\\[\\\\,\\\\{\\\\}\\\\&quot;\\\\:]+&#x27;))),\n",
       "                (&#x27;actual_estimator&#x27;,\n",
       "                 VotingClassifier(estimators=[(&#x27;Voting Classifier&#x27;,\n",
       "                                               VotingClassifier(estimators=[(&#x27;Gradient &#x27;\n",
       "                                                                             &#x27;Boosting &#x27;\n",
       "                                                                             &#x27;Classifier&#x27;,\n",
       "                                                                             GradientBoostingClassifier(ccp_alpha=0.0,...\n",
       "                                                                             AdaBoostClassifier(algorithm=&#x27;SAMME.R&#x27;,\n",
       "                                                                                                base_estimator=&#x27;deprecated&#x27;,\n",
       "                                                                                                estimator=None,\n",
       "                                                                                                learning_rate=1.0,\n",
       "                                                                                                n_estimators=50,\n",
       "                                                                                                random_state=123))],\n",
       "                                                                flatten_transform=True,\n",
       "                                                                n_jobs=-1,\n",
       "                                                                verbose=False,\n",
       "                                                                voting=&#x27;soft&#x27;,\n",
       "                                                                weights=[0.54,\n",
       "                                                                         0.18000000000000002,\n",
       "                                                                         0.8300000000000001,\n",
       "                                                                         0.17]))],\n",
       "                                  flatten_transform=True, n_jobs=-1,\n",
       "                                  verbose=False, voting=&#x27;soft&#x27;,\n",
       "                                  weights=None))],\n",
       "         verbose=False)</pre><b>In a Jupyter environment, please rerun this cell to show the HTML representation or trust the notebook. <br />On GitHub, the HTML representation is unable to render, please try loading this page with nbviewer.org.</b></div><div class=\"sk-container\" hidden><div class=\"sk-item sk-dashed-wrapped\"><div class=\"sk-label-container\"><div class=\"sk-label sk-toggleable\"><input class=\"sk-toggleable__control sk-hidden--visually\" id=\"sk-estimator-id-34\" type=\"checkbox\" ><label for=\"sk-estimator-id-34\" class=\"sk-toggleable__label sk-toggleable__label-arrow\">Pipeline</label><div class=\"sk-toggleable__content\"><pre>Pipeline(memory=Memory(location=None),\n",
       "         steps=[(&#x27;clean_column_names&#x27;,\n",
       "                 TransformerWrapper(exclude=None, include=None,\n",
       "                                    transformer=CleanColumnNames(match=&#x27;[\\\\]\\\\[\\\\,\\\\{\\\\}\\\\&quot;\\\\:]+&#x27;))),\n",
       "                (&#x27;actual_estimator&#x27;,\n",
       "                 VotingClassifier(estimators=[(&#x27;Voting Classifier&#x27;,\n",
       "                                               VotingClassifier(estimators=[(&#x27;Gradient &#x27;\n",
       "                                                                             &#x27;Boosting &#x27;\n",
       "                                                                             &#x27;Classifier&#x27;,\n",
       "                                                                             GradientBoostingClassifier(ccp_alpha=0.0,...\n",
       "                                                                             AdaBoostClassifier(algorithm=&#x27;SAMME.R&#x27;,\n",
       "                                                                                                base_estimator=&#x27;deprecated&#x27;,\n",
       "                                                                                                estimator=None,\n",
       "                                                                                                learning_rate=1.0,\n",
       "                                                                                                n_estimators=50,\n",
       "                                                                                                random_state=123))],\n",
       "                                                                flatten_transform=True,\n",
       "                                                                n_jobs=-1,\n",
       "                                                                verbose=False,\n",
       "                                                                voting=&#x27;soft&#x27;,\n",
       "                                                                weights=[0.54,\n",
       "                                                                         0.18000000000000002,\n",
       "                                                                         0.8300000000000001,\n",
       "                                                                         0.17]))],\n",
       "                                  flatten_transform=True, n_jobs=-1,\n",
       "                                  verbose=False, voting=&#x27;soft&#x27;,\n",
       "                                  weights=None))],\n",
       "         verbose=False)</pre></div></div></div><div class=\"sk-serial\"><div class=\"sk-item sk-dashed-wrapped\"><div class=\"sk-label-container\"><div class=\"sk-label sk-toggleable\"><input class=\"sk-toggleable__control sk-hidden--visually\" id=\"sk-estimator-id-35\" type=\"checkbox\" ><label for=\"sk-estimator-id-35\" class=\"sk-toggleable__label sk-toggleable__label-arrow\">clean_column_names: TransformerWrapper</label><div class=\"sk-toggleable__content\"><pre>TransformerWrapper(exclude=None, include=None,\n",
       "                   transformer=CleanColumnNames(match=&#x27;[\\\\]\\\\[\\\\,\\\\{\\\\}\\\\&quot;\\\\:]+&#x27;))</pre></div></div></div><div class=\"sk-parallel\"><div class=\"sk-parallel-item\"><div class=\"sk-item\"><div class=\"sk-label-container\"><div class=\"sk-label sk-toggleable\"><input class=\"sk-toggleable__control sk-hidden--visually\" id=\"sk-estimator-id-36\" type=\"checkbox\" ><label for=\"sk-estimator-id-36\" class=\"sk-toggleable__label sk-toggleable__label-arrow\">transformer: CleanColumnNames</label><div class=\"sk-toggleable__content\"><pre>CleanColumnNames()</pre></div></div></div><div class=\"sk-serial\"><div class=\"sk-item\"><div class=\"sk-estimator sk-toggleable\"><input class=\"sk-toggleable__control sk-hidden--visually\" id=\"sk-estimator-id-37\" type=\"checkbox\" ><label for=\"sk-estimator-id-37\" class=\"sk-toggleable__label sk-toggleable__label-arrow\">CleanColumnNames</label><div class=\"sk-toggleable__content\"><pre>CleanColumnNames()</pre></div></div></div></div></div></div></div></div><div class=\"sk-item sk-dashed-wrapped\"><div class=\"sk-label-container\"><div class=\"sk-label sk-toggleable\"><input class=\"sk-toggleable__control sk-hidden--visually\" id=\"sk-estimator-id-38\" type=\"checkbox\" ><label for=\"sk-estimator-id-38\" class=\"sk-toggleable__label sk-toggleable__label-arrow\">actual_estimator: VotingClassifier</label><div class=\"sk-toggleable__content\"><pre>VotingClassifier(estimators=[(&#x27;Voting Classifier&#x27;,\n",
       "                              VotingClassifier(estimators=[(&#x27;Gradient Boosting &#x27;\n",
       "                                                            &#x27;Classifier&#x27;,\n",
       "                                                            GradientBoostingClassifier(ccp_alpha=0.0,\n",
       "                                                                                       criterion=&#x27;friedman_mse&#x27;,\n",
       "                                                                                       init=None,\n",
       "                                                                                       learning_rate=0.1,\n",
       "                                                                                       loss=&#x27;log_loss&#x27;,\n",
       "                                                                                       max_depth=3,\n",
       "                                                                                       max_features=None,\n",
       "                                                                                       max_leaf_nodes=None,\n",
       "                                                                                       min_impurity_decrease=0.0,\n",
       "                                                                                       min_samples_leaf=1,\n",
       "                                                                                       min_samples_split=2,\n",
       "                                                                                       min_weight_frac...\n",
       "                                                           (&#x27;Ada Boost &#x27;\n",
       "                                                            &#x27;Classifier&#x27;,\n",
       "                                                            AdaBoostClassifier(algorithm=&#x27;SAMME.R&#x27;,\n",
       "                                                                               base_estimator=&#x27;deprecated&#x27;,\n",
       "                                                                               estimator=None,\n",
       "                                                                               learning_rate=1.0,\n",
       "                                                                               n_estimators=50,\n",
       "                                                                               random_state=123))],\n",
       "                                               flatten_transform=True,\n",
       "                                               n_jobs=-1, verbose=False,\n",
       "                                               voting=&#x27;soft&#x27;,\n",
       "                                               weights=[0.54,\n",
       "                                                        0.18000000000000002,\n",
       "                                                        0.8300000000000001,\n",
       "                                                        0.17]))],\n",
       "                 flatten_transform=True, n_jobs=-1, verbose=False,\n",
       "                 voting=&#x27;soft&#x27;, weights=None)</pre></div></div></div><div class=\"sk-parallel\"><div class=\"sk-parallel-item\"><div class=\"sk-item\"><div class=\"sk-label-container\"><div class=\"sk-label sk-toggleable\"><label>Voting Classifier</label></div></div><div class=\"sk-serial\"><div class=\"sk-item sk-dashed-wrapped\"><div class=\"sk-parallel\"><div class=\"sk-parallel-item\"><div class=\"sk-item\"><div class=\"sk-label-container\"><div class=\"sk-label sk-toggleable\"><label>Gradient Boosting Classifier</label></div></div><div class=\"sk-serial\"><div class=\"sk-item\"><div class=\"sk-estimator sk-toggleable\"><input class=\"sk-toggleable__control sk-hidden--visually\" id=\"sk-estimator-id-39\" type=\"checkbox\" ><label for=\"sk-estimator-id-39\" class=\"sk-toggleable__label sk-toggleable__label-arrow\">GradientBoostingClassifier</label><div class=\"sk-toggleable__content\"><pre>GradientBoostingClassifier(random_state=123)</pre></div></div></div></div></div></div><div class=\"sk-parallel-item\"><div class=\"sk-item\"><div class=\"sk-label-container\"><div class=\"sk-label sk-toggleable\"><label>Linear Discriminant Analysis</label></div></div><div class=\"sk-serial\"><div class=\"sk-item\"><div class=\"sk-estimator sk-toggleable\"><input class=\"sk-toggleable__control sk-hidden--visually\" id=\"sk-estimator-id-40\" type=\"checkbox\" ><label for=\"sk-estimator-id-40\" class=\"sk-toggleable__label sk-toggleable__label-arrow\">LinearDiscriminantAnalysis</label><div class=\"sk-toggleable__content\"><pre>LinearDiscriminantAnalysis()</pre></div></div></div></div></div></div><div class=\"sk-parallel-item\"><div class=\"sk-item\"><div class=\"sk-label-container\"><div class=\"sk-label sk-toggleable\"><label>Logistic Regression</label></div></div><div class=\"sk-serial\"><div class=\"sk-item\"><div class=\"sk-estimator sk-toggleable\"><input class=\"sk-toggleable__control sk-hidden--visually\" id=\"sk-estimator-id-41\" type=\"checkbox\" ><label for=\"sk-estimator-id-41\" class=\"sk-toggleable__label sk-toggleable__label-arrow\">LogisticRegression</label><div class=\"sk-toggleable__content\"><pre>LogisticRegression(max_iter=1000, random_state=123)</pre></div></div></div></div></div></div><div class=\"sk-parallel-item\"><div class=\"sk-item\"><div class=\"sk-label-container\"><div class=\"sk-label sk-toggleable\"><label>Random Forest Classifier</label></div></div><div class=\"sk-serial\"><div class=\"sk-item\"><div class=\"sk-estimator sk-toggleable\"><input class=\"sk-toggleable__control sk-hidden--visually\" id=\"sk-estimator-id-42\" type=\"checkbox\" ><label for=\"sk-estimator-id-42\" class=\"sk-toggleable__label sk-toggleable__label-arrow\">RandomForestClassifier</label><div class=\"sk-toggleable__content\"><pre>RandomForestClassifier(n_jobs=-1, random_state=123)</pre></div></div></div></div></div></div></div></div></div></div></div><div class=\"sk-parallel-item\"><div class=\"sk-item\"><div class=\"sk-label-container\"><div class=\"sk-label sk-toggleable\"><label>Voting Classifier_1</label></div></div><div class=\"sk-serial\"><div class=\"sk-item sk-dashed-wrapped\"><div class=\"sk-parallel\"><div class=\"sk-parallel-item\"><div class=\"sk-item\"><div class=\"sk-label-container\"><div class=\"sk-label sk-toggleable\"><label>Gradient Boosting Classifier</label></div></div><div class=\"sk-serial\"><div class=\"sk-item\"><div class=\"sk-estimator sk-toggleable\"><input class=\"sk-toggleable__control sk-hidden--visually\" id=\"sk-estimator-id-43\" type=\"checkbox\" ><label for=\"sk-estimator-id-43\" class=\"sk-toggleable__label sk-toggleable__label-arrow\">GradientBoostingClassifier</label><div class=\"sk-toggleable__content\"><pre>GradientBoostingClassifier(random_state=123)</pre></div></div></div></div></div></div><div class=\"sk-parallel-item\"><div class=\"sk-item\"><div class=\"sk-label-container\"><div class=\"sk-label sk-toggleable\"><label>Logistic Regression</label></div></div><div class=\"sk-serial\"><div class=\"sk-item\"><div class=\"sk-estimator sk-toggleable\"><input class=\"sk-toggleable__control sk-hidden--visually\" id=\"sk-estimator-id-44\" type=\"checkbox\" ><label for=\"sk-estimator-id-44\" class=\"sk-toggleable__label sk-toggleable__label-arrow\">LogisticRegression</label><div class=\"sk-toggleable__content\"><pre>LogisticRegression(max_iter=1000, random_state=123)</pre></div></div></div></div></div></div><div class=\"sk-parallel-item\"><div class=\"sk-item\"><div class=\"sk-label-container\"><div class=\"sk-label sk-toggleable\"><label>Linear Discriminant Analysis</label></div></div><div class=\"sk-serial\"><div class=\"sk-item\"><div class=\"sk-estimator sk-toggleable\"><input class=\"sk-toggleable__control sk-hidden--visually\" id=\"sk-estimator-id-45\" type=\"checkbox\" ><label for=\"sk-estimator-id-45\" class=\"sk-toggleable__label sk-toggleable__label-arrow\">LinearDiscriminantAnalysis</label><div class=\"sk-toggleable__content\"><pre>LinearDiscriminantAnalysis()</pre></div></div></div></div></div></div><div class=\"sk-parallel-item\"><div class=\"sk-item\"><div class=\"sk-label-container\"><div class=\"sk-label sk-toggleable\"><label>Ada Boost Classifier</label></div></div><div class=\"sk-serial\"><div class=\"sk-item\"><div class=\"sk-estimator sk-toggleable\"><input class=\"sk-toggleable__control sk-hidden--visually\" id=\"sk-estimator-id-46\" type=\"checkbox\" ><label for=\"sk-estimator-id-46\" class=\"sk-toggleable__label sk-toggleable__label-arrow\">AdaBoostClassifier</label><div class=\"sk-toggleable__content\"><pre>AdaBoostClassifier(random_state=123)</pre></div></div></div></div></div></div></div></div></div></div></div><div class=\"sk-parallel-item\"><div class=\"sk-item\"><div class=\"sk-label-container\"><div class=\"sk-label sk-toggleable\"><label>Voting Classifier_2</label></div></div><div class=\"sk-serial\"><div class=\"sk-item sk-dashed-wrapped\"><div class=\"sk-parallel\"><div class=\"sk-parallel-item\"><div class=\"sk-item\"><div class=\"sk-label-container\"><div class=\"sk-label sk-toggleable\"><label>Logistic Regression</label></div></div><div class=\"sk-serial\"><div class=\"sk-item\"><div class=\"sk-estimator sk-toggleable\"><input class=\"sk-toggleable__control sk-hidden--visually\" id=\"sk-estimator-id-47\" type=\"checkbox\" ><label for=\"sk-estimator-id-47\" class=\"sk-toggleable__label sk-toggleable__label-arrow\">LogisticRegression</label><div class=\"sk-toggleable__content\"><pre>LogisticRegression(max_iter=1000, random_state=123)</pre></div></div></div></div></div></div><div class=\"sk-parallel-item\"><div class=\"sk-item\"><div class=\"sk-label-container\"><div class=\"sk-label sk-toggleable\"><label>Ada Boost Classifier</label></div></div><div class=\"sk-serial\"><div class=\"sk-item\"><div class=\"sk-estimator sk-toggleable\"><input class=\"sk-toggleable__control sk-hidden--visually\" id=\"sk-estimator-id-48\" type=\"checkbox\" ><label for=\"sk-estimator-id-48\" class=\"sk-toggleable__label sk-toggleable__label-arrow\">AdaBoostClassifier</label><div class=\"sk-toggleable__content\"><pre>AdaBoostClassifier(random_state=123)</pre></div></div></div></div></div></div><div class=\"sk-parallel-item\"><div class=\"sk-item\"><div class=\"sk-label-container\"><div class=\"sk-label sk-toggleable\"><label>Gradient Boosting Classifier</label></div></div><div class=\"sk-serial\"><div class=\"sk-item\"><div class=\"sk-estimator sk-toggleable\"><input class=\"sk-toggleable__control sk-hidden--visually\" id=\"sk-estimator-id-49\" type=\"checkbox\" ><label for=\"sk-estimator-id-49\" class=\"sk-toggleable__label sk-toggleable__label-arrow\">GradientBoostingClassifier</label><div class=\"sk-toggleable__content\"><pre>GradientBoostingClassifier(random_state=123)</pre></div></div></div></div></div></div><div class=\"sk-parallel-item\"><div class=\"sk-item\"><div class=\"sk-label-container\"><div class=\"sk-label sk-toggleable\"><label>Linear Discriminant Analysis</label></div></div><div class=\"sk-serial\"><div class=\"sk-item\"><div class=\"sk-estimator sk-toggleable\"><input class=\"sk-toggleable__control sk-hidden--visually\" id=\"sk-estimator-id-50\" type=\"checkbox\" ><label for=\"sk-estimator-id-50\" class=\"sk-toggleable__label sk-toggleable__label-arrow\">LinearDiscriminantAnalysis</label><div class=\"sk-toggleable__content\"><pre>LinearDiscriminantAnalysis()</pre></div></div></div></div></div></div></div></div></div></div></div><div class=\"sk-parallel-item\"><div class=\"sk-item\"><div class=\"sk-label-container\"><div class=\"sk-label sk-toggleable\"><label>Voting Classifier_3</label></div></div><div class=\"sk-serial\"><div class=\"sk-item sk-dashed-wrapped\"><div class=\"sk-parallel\"><div class=\"sk-parallel-item\"><div class=\"sk-item\"><div class=\"sk-label-container\"><div class=\"sk-label sk-toggleable\"><label>Gradient Boosting Classifier</label></div></div><div class=\"sk-serial\"><div class=\"sk-item\"><div class=\"sk-estimator sk-toggleable\"><input class=\"sk-toggleable__control sk-hidden--visually\" id=\"sk-estimator-id-51\" type=\"checkbox\" ><label for=\"sk-estimator-id-51\" class=\"sk-toggleable__label sk-toggleable__label-arrow\">GradientBoostingClassifier</label><div class=\"sk-toggleable__content\"><pre>GradientBoostingClassifier(random_state=123)</pre></div></div></div></div></div></div><div class=\"sk-parallel-item\"><div class=\"sk-item\"><div class=\"sk-label-container\"><div class=\"sk-label sk-toggleable\"><label>Logistic Regression</label></div></div><div class=\"sk-serial\"><div class=\"sk-item\"><div class=\"sk-estimator sk-toggleable\"><input class=\"sk-toggleable__control sk-hidden--visually\" id=\"sk-estimator-id-52\" type=\"checkbox\" ><label for=\"sk-estimator-id-52\" class=\"sk-toggleable__label sk-toggleable__label-arrow\">LogisticRegression</label><div class=\"sk-toggleable__content\"><pre>LogisticRegression(max_iter=1000, random_state=123)</pre></div></div></div></div></div></div><div class=\"sk-parallel-item\"><div class=\"sk-item\"><div class=\"sk-label-container\"><div class=\"sk-label sk-toggleable\"><label>Linear Discriminant Analysis</label></div></div><div class=\"sk-serial\"><div class=\"sk-item\"><div class=\"sk-estimator sk-toggleable\"><input class=\"sk-toggleable__control sk-hidden--visually\" id=\"sk-estimator-id-53\" type=\"checkbox\" ><label for=\"sk-estimator-id-53\" class=\"sk-toggleable__label sk-toggleable__label-arrow\">LinearDiscriminantAnalysis</label><div class=\"sk-toggleable__content\"><pre>LinearDiscriminantAnalysis()</pre></div></div></div></div></div></div><div class=\"sk-parallel-item\"><div class=\"sk-item\"><div class=\"sk-label-container\"><div class=\"sk-label sk-toggleable\"><label>Random Forest Classifier</label></div></div><div class=\"sk-serial\"><div class=\"sk-item\"><div class=\"sk-estimator sk-toggleable\"><input class=\"sk-toggleable__control sk-hidden--visually\" id=\"sk-estimator-id-54\" type=\"checkbox\" ><label for=\"sk-estimator-id-54\" class=\"sk-toggleable__label sk-toggleable__label-arrow\">RandomForestClassifier</label><div class=\"sk-toggleable__content\"><pre>RandomForestClassifier(n_jobs=-1, random_state=123)</pre></div></div></div></div></div></div></div></div></div></div></div><div class=\"sk-parallel-item\"><div class=\"sk-item\"><div class=\"sk-label-container\"><div class=\"sk-label sk-toggleable\"><label>Voting Classifier_4</label></div></div><div class=\"sk-serial\"><div class=\"sk-item sk-dashed-wrapped\"><div class=\"sk-parallel\"><div class=\"sk-parallel-item\"><div class=\"sk-item\"><div class=\"sk-label-container\"><div class=\"sk-label sk-toggleable\"><label>Logistic Regression</label></div></div><div class=\"sk-serial\"><div class=\"sk-item\"><div class=\"sk-estimator sk-toggleable\"><input class=\"sk-toggleable__control sk-hidden--visually\" id=\"sk-estimator-id-55\" type=\"checkbox\" ><label for=\"sk-estimator-id-55\" class=\"sk-toggleable__label sk-toggleable__label-arrow\">LogisticRegression</label><div class=\"sk-toggleable__content\"><pre>LogisticRegression(max_iter=1000, random_state=123)</pre></div></div></div></div></div></div><div class=\"sk-parallel-item\"><div class=\"sk-item\"><div class=\"sk-label-container\"><div class=\"sk-label sk-toggleable\"><label>Linear Discriminant Analysis</label></div></div><div class=\"sk-serial\"><div class=\"sk-item\"><div class=\"sk-estimator sk-toggleable\"><input class=\"sk-toggleable__control sk-hidden--visually\" id=\"sk-estimator-id-56\" type=\"checkbox\" ><label for=\"sk-estimator-id-56\" class=\"sk-toggleable__label sk-toggleable__label-arrow\">LinearDiscriminantAnalysis</label><div class=\"sk-toggleable__content\"><pre>LinearDiscriminantAnalysis()</pre></div></div></div></div></div></div><div class=\"sk-parallel-item\"><div class=\"sk-item\"><div class=\"sk-label-container\"><div class=\"sk-label sk-toggleable\"><label>Gradient Boosting Classifier</label></div></div><div class=\"sk-serial\"><div class=\"sk-item\"><div class=\"sk-estimator sk-toggleable\"><input class=\"sk-toggleable__control sk-hidden--visually\" id=\"sk-estimator-id-57\" type=\"checkbox\" ><label for=\"sk-estimator-id-57\" class=\"sk-toggleable__label sk-toggleable__label-arrow\">GradientBoostingClassifier</label><div class=\"sk-toggleable__content\"><pre>GradientBoostingClassifier(random_state=123)</pre></div></div></div></div></div></div><div class=\"sk-parallel-item\"><div class=\"sk-item\"><div class=\"sk-label-container\"><div class=\"sk-label sk-toggleable\"><label>Ada Boost Classifier</label></div></div><div class=\"sk-serial\"><div class=\"sk-item\"><div class=\"sk-estimator sk-toggleable\"><input class=\"sk-toggleable__control sk-hidden--visually\" id=\"sk-estimator-id-58\" type=\"checkbox\" ><label for=\"sk-estimator-id-58\" class=\"sk-toggleable__label sk-toggleable__label-arrow\">AdaBoostClassifier</label><div class=\"sk-toggleable__content\"><pre>AdaBoostClassifier(random_state=123)</pre></div></div></div></div></div></div></div></div></div></div></div><div class=\"sk-parallel-item\"><div class=\"sk-item\"><div class=\"sk-label-container\"><div class=\"sk-label sk-toggleable\"><label>Voting Classifier_5</label></div></div><div class=\"sk-serial\"><div class=\"sk-item sk-dashed-wrapped\"><div class=\"sk-parallel\"><div class=\"sk-parallel-item\"><div class=\"sk-item\"><div class=\"sk-label-container\"><div class=\"sk-label sk-toggleable\"><label>Gradient Boosting Classifier</label></div></div><div class=\"sk-serial\"><div class=\"sk-item\"><div class=\"sk-estimator sk-toggleable\"><input class=\"sk-toggleable__control sk-hidden--visually\" id=\"sk-estimator-id-59\" type=\"checkbox\" ><label for=\"sk-estimator-id-59\" class=\"sk-toggleable__label sk-toggleable__label-arrow\">GradientBoostingClassifier</label><div class=\"sk-toggleable__content\"><pre>GradientBoostingClassifier(random_state=123)</pre></div></div></div></div></div></div><div class=\"sk-parallel-item\"><div class=\"sk-item\"><div class=\"sk-label-container\"><div class=\"sk-label sk-toggleable\"><label>Linear Discriminant Analysis</label></div></div><div class=\"sk-serial\"><div class=\"sk-item\"><div class=\"sk-estimator sk-toggleable\"><input class=\"sk-toggleable__control sk-hidden--visually\" id=\"sk-estimator-id-60\" type=\"checkbox\" ><label for=\"sk-estimator-id-60\" class=\"sk-toggleable__label sk-toggleable__label-arrow\">LinearDiscriminantAnalysis</label><div class=\"sk-toggleable__content\"><pre>LinearDiscriminantAnalysis()</pre></div></div></div></div></div></div><div class=\"sk-parallel-item\"><div class=\"sk-item\"><div class=\"sk-label-container\"><div class=\"sk-label sk-toggleable\"><label>Logistic Regression</label></div></div><div class=\"sk-serial\"><div class=\"sk-item\"><div class=\"sk-estimator sk-toggleable\"><input class=\"sk-toggleable__control sk-hidden--visually\" id=\"sk-estimator-id-61\" type=\"checkbox\" ><label for=\"sk-estimator-id-61\" class=\"sk-toggleable__label sk-toggleable__label-arrow\">LogisticRegression</label><div class=\"sk-toggleable__content\"><pre>LogisticRegression(max_iter=1000, random_state=123)</pre></div></div></div></div></div></div><div class=\"sk-parallel-item\"><div class=\"sk-item\"><div class=\"sk-label-container\"><div class=\"sk-label sk-toggleable\"><label>Ada Boost Classifier</label></div></div><div class=\"sk-serial\"><div class=\"sk-item\"><div class=\"sk-estimator sk-toggleable\"><input class=\"sk-toggleable__control sk-hidden--visually\" id=\"sk-estimator-id-62\" type=\"checkbox\" ><label for=\"sk-estimator-id-62\" class=\"sk-toggleable__label sk-toggleable__label-arrow\">AdaBoostClassifier</label><div class=\"sk-toggleable__content\"><pre>AdaBoostClassifier(random_state=123)</pre></div></div></div></div></div></div></div></div></div></div></div><div class=\"sk-parallel-item\"><div class=\"sk-item\"><div class=\"sk-label-container\"><div class=\"sk-label sk-toggleable\"><label>Voting Classifier_6</label></div></div><div class=\"sk-serial\"><div class=\"sk-item sk-dashed-wrapped\"><div class=\"sk-parallel\"><div class=\"sk-parallel-item\"><div class=\"sk-item\"><div class=\"sk-label-container\"><div class=\"sk-label sk-toggleable\"><label>Gradient Boosting Classifier</label></div></div><div class=\"sk-serial\"><div class=\"sk-item\"><div class=\"sk-estimator sk-toggleable\"><input class=\"sk-toggleable__control sk-hidden--visually\" id=\"sk-estimator-id-63\" type=\"checkbox\" ><label for=\"sk-estimator-id-63\" class=\"sk-toggleable__label sk-toggleable__label-arrow\">GradientBoostingClassifier</label><div class=\"sk-toggleable__content\"><pre>GradientBoostingClassifier(random_state=123)</pre></div></div></div></div></div></div><div class=\"sk-parallel-item\"><div class=\"sk-item\"><div class=\"sk-label-container\"><div class=\"sk-label sk-toggleable\"><label>Logistic Regression</label></div></div><div class=\"sk-serial\"><div class=\"sk-item\"><div class=\"sk-estimator sk-toggleable\"><input class=\"sk-toggleable__control sk-hidden--visually\" id=\"sk-estimator-id-64\" type=\"checkbox\" ><label for=\"sk-estimator-id-64\" class=\"sk-toggleable__label sk-toggleable__label-arrow\">LogisticRegression</label><div class=\"sk-toggleable__content\"><pre>LogisticRegression(max_iter=1000, random_state=123)</pre></div></div></div></div></div></div><div class=\"sk-parallel-item\"><div class=\"sk-item\"><div class=\"sk-label-container\"><div class=\"sk-label sk-toggleable\"><label>Random Forest Classifier</label></div></div><div class=\"sk-serial\"><div class=\"sk-item\"><div class=\"sk-estimator sk-toggleable\"><input class=\"sk-toggleable__control sk-hidden--visually\" id=\"sk-estimator-id-65\" type=\"checkbox\" ><label for=\"sk-estimator-id-65\" class=\"sk-toggleable__label sk-toggleable__label-arrow\">RandomForestClassifier</label><div class=\"sk-toggleable__content\"><pre>RandomForestClassifier(n_jobs=-1, random_state=123)</pre></div></div></div></div></div></div><div class=\"sk-parallel-item\"><div class=\"sk-item\"><div class=\"sk-label-container\"><div class=\"sk-label sk-toggleable\"><label>Ada Boost Classifier</label></div></div><div class=\"sk-serial\"><div class=\"sk-item\"><div class=\"sk-estimator sk-toggleable\"><input class=\"sk-toggleable__control sk-hidden--visually\" id=\"sk-estimator-id-66\" type=\"checkbox\" ><label for=\"sk-estimator-id-66\" class=\"sk-toggleable__label sk-toggleable__label-arrow\">AdaBoostClassifier</label><div class=\"sk-toggleable__content\"><pre>AdaBoostClassifier(random_state=123)</pre></div></div></div></div></div></div></div></div></div></div></div><div class=\"sk-parallel-item\"><div class=\"sk-item\"><div class=\"sk-label-container\"><div class=\"sk-label sk-toggleable\"><label>Voting Classifier_7</label></div></div><div class=\"sk-serial\"><div class=\"sk-item sk-dashed-wrapped\"><div class=\"sk-parallel\"><div class=\"sk-parallel-item\"><div class=\"sk-item\"><div class=\"sk-label-container\"><div class=\"sk-label sk-toggleable\"><label>Linear Discriminant Analysis</label></div></div><div class=\"sk-serial\"><div class=\"sk-item\"><div class=\"sk-estimator sk-toggleable\"><input class=\"sk-toggleable__control sk-hidden--visually\" id=\"sk-estimator-id-67\" type=\"checkbox\" ><label for=\"sk-estimator-id-67\" class=\"sk-toggleable__label sk-toggleable__label-arrow\">LinearDiscriminantAnalysis</label><div class=\"sk-toggleable__content\"><pre>LinearDiscriminantAnalysis()</pre></div></div></div></div></div></div><div class=\"sk-parallel-item\"><div class=\"sk-item\"><div class=\"sk-label-container\"><div class=\"sk-label sk-toggleable\"><label>Logistic Regression</label></div></div><div class=\"sk-serial\"><div class=\"sk-item\"><div class=\"sk-estimator sk-toggleable\"><input class=\"sk-toggleable__control sk-hidden--visually\" id=\"sk-estimator-id-68\" type=\"checkbox\" ><label for=\"sk-estimator-id-68\" class=\"sk-toggleable__label sk-toggleable__label-arrow\">LogisticRegression</label><div class=\"sk-toggleable__content\"><pre>LogisticRegression(max_iter=1000, random_state=123)</pre></div></div></div></div></div></div><div class=\"sk-parallel-item\"><div class=\"sk-item\"><div class=\"sk-label-container\"><div class=\"sk-label sk-toggleable\"><label>Gradient Boosting Classifier</label></div></div><div class=\"sk-serial\"><div class=\"sk-item\"><div class=\"sk-estimator sk-toggleable\"><input class=\"sk-toggleable__control sk-hidden--visually\" id=\"sk-estimator-id-69\" type=\"checkbox\" ><label for=\"sk-estimator-id-69\" class=\"sk-toggleable__label sk-toggleable__label-arrow\">GradientBoostingClassifier</label><div class=\"sk-toggleable__content\"><pre>GradientBoostingClassifier(random_state=123)</pre></div></div></div></div></div></div><div class=\"sk-parallel-item\"><div class=\"sk-item\"><div class=\"sk-label-container\"><div class=\"sk-label sk-toggleable\"><label>Ada Boost Classifier</label></div></div><div class=\"sk-serial\"><div class=\"sk-item\"><div class=\"sk-estimator sk-toggleable\"><input class=\"sk-toggleable__control sk-hidden--visually\" id=\"sk-estimator-id-70\" type=\"checkbox\" ><label for=\"sk-estimator-id-70\" class=\"sk-toggleable__label sk-toggleable__label-arrow\">AdaBoostClassifier</label><div class=\"sk-toggleable__content\"><pre>AdaBoostClassifier(random_state=123)</pre></div></div></div></div></div></div></div></div></div></div></div></div></div></div></div></div></div>"
      ],
      "text/plain": [
       "Pipeline(memory=Memory(location=None),\n",
       "         steps=[('clean_column_names',\n",
       "                 TransformerWrapper(exclude=None, include=None,\n",
       "                                    transformer=CleanColumnNames(match='[\\\\]\\\\[\\\\,\\\\{\\\\}\\\\\"\\\\:]+'))),\n",
       "                ('actual_estimator',\n",
       "                 VotingClassifier(estimators=[('Voting Classifier',\n",
       "                                               VotingClassifier(estimators=[('Gradient '\n",
       "                                                                             'Boosting '\n",
       "                                                                             'Classifier',\n",
       "                                                                             GradientBoostingClassifier(ccp_alpha=0.0,...\n",
       "                                                                             AdaBoostClassifier(algorithm='SAMME.R',\n",
       "                                                                                                base_estimator='deprecated',\n",
       "                                                                                                estimator=None,\n",
       "                                                                                                learning_rate=1.0,\n",
       "                                                                                                n_estimators=50,\n",
       "                                                                                                random_state=123))],\n",
       "                                                                flatten_transform=True,\n",
       "                                                                n_jobs=-1,\n",
       "                                                                verbose=False,\n",
       "                                                                voting='soft',\n",
       "                                                                weights=[0.54,\n",
       "                                                                         0.18000000000000002,\n",
       "                                                                         0.8300000000000001,\n",
       "                                                                         0.17]))],\n",
       "                                  flatten_transform=True, n_jobs=-1,\n",
       "                                  verbose=False, voting='soft',\n",
       "                                  weights=None))],\n",
       "         verbose=False)"
      ]
     },
     "execution_count": 35,
     "metadata": {},
     "output_type": "execute_result"
    }
   ],
   "source": [
    "final_model"
   ]
  },
  {
   "cell_type": "code",
   "execution_count": 36,
   "id": "4d33f6ea-d482-49ed-8582-4323307f7d54",
   "metadata": {
    "tags": []
   },
   "outputs": [
    {
     "data": {
      "text/html": [],
      "text/plain": [
       "<IPython.core.display.HTML object>"
      ]
     },
     "metadata": {},
     "output_type": "display_data"
    }
   ],
   "source": [
    "# 최종 예측\n",
    "pred = predict_model(final_model,data=udf_9.drop(['id','DIBEV1'],axis=1),verbose=True)"
   ]
  },
  {
   "cell_type": "code",
   "execution_count": 37,
   "id": "0ae62213-6654-4b94-b006-a20dfa9a2151",
   "metadata": {
    "tags": []
   },
   "outputs": [
    {
     "data": {
      "text/html": [
       "<div>\n",
       "<style scoped>\n",
       "    .dataframe tbody tr th:only-of-type {\n",
       "        vertical-align: middle;\n",
       "    }\n",
       "\n",
       "    .dataframe tbody tr th {\n",
       "        vertical-align: top;\n",
       "    }\n",
       "\n",
       "    .dataframe thead th {\n",
       "        text-align: right;\n",
       "    }\n",
       "</style>\n",
       "<table border=\"1\" class=\"dataframe\">\n",
       "  <thead>\n",
       "    <tr style=\"text-align: right;\">\n",
       "      <th></th>\n",
       "      <th>AGE</th>\n",
       "      <th>ALCSTAT</th>\n",
       "      <th>ARTH1</th>\n",
       "      <th>BMI</th>\n",
       "      <th>CHLEV</th>\n",
       "      <th>CIGAREV2</th>\n",
       "      <th>CPLROU</th>\n",
       "      <th>EPHEV</th>\n",
       "      <th>FSBALANC</th>\n",
       "      <th>GENDER</th>\n",
       "      <th>...</th>\n",
       "      <th>MRACRPI2_16.0</th>\n",
       "      <th>MRACRPI2_17.0</th>\n",
       "      <th>MRACRPI2_nan</th>\n",
       "      <th>REGION_1.0</th>\n",
       "      <th>REGION_2.0</th>\n",
       "      <th>REGION_3.0</th>\n",
       "      <th>REGION_4.0</th>\n",
       "      <th>REGION_nan</th>\n",
       "      <th>prediction_label</th>\n",
       "      <th>prediction_score</th>\n",
       "    </tr>\n",
       "  </thead>\n",
       "  <tbody>\n",
       "    <tr>\n",
       "      <th>9</th>\n",
       "      <td>0.555916</td>\n",
       "      <td>0.0</td>\n",
       "      <td>1.0</td>\n",
       "      <td>-1.930710</td>\n",
       "      <td>1.0</td>\n",
       "      <td>1.0</td>\n",
       "      <td>1.0</td>\n",
       "      <td>0.0</td>\n",
       "      <td>0</td>\n",
       "      <td>1.0</td>\n",
       "      <td>...</td>\n",
       "      <td>0.0</td>\n",
       "      <td>0.0</td>\n",
       "      <td>0.0</td>\n",
       "      <td>0.0</td>\n",
       "      <td>1.0</td>\n",
       "      <td>0.0</td>\n",
       "      <td>0.0</td>\n",
       "      <td>0.0</td>\n",
       "      <td>1</td>\n",
       "      <td>0.6782</td>\n",
       "    </tr>\n",
       "    <tr>\n",
       "      <th>10</th>\n",
       "      <td>0.442308</td>\n",
       "      <td>0.0</td>\n",
       "      <td>0.0</td>\n",
       "      <td>-1.167195</td>\n",
       "      <td>0.0</td>\n",
       "      <td>1.0</td>\n",
       "      <td>1.0</td>\n",
       "      <td>0.0</td>\n",
       "      <td>0</td>\n",
       "      <td>0.0</td>\n",
       "      <td>...</td>\n",
       "      <td>0.0</td>\n",
       "      <td>0.0</td>\n",
       "      <td>0.0</td>\n",
       "      <td>0.0</td>\n",
       "      <td>0.0</td>\n",
       "      <td>1.0</td>\n",
       "      <td>0.0</td>\n",
       "      <td>0.0</td>\n",
       "      <td>0</td>\n",
       "      <td>0.6610</td>\n",
       "    </tr>\n",
       "    <tr>\n",
       "      <th>12</th>\n",
       "      <td>-0.977795</td>\n",
       "      <td>0.0</td>\n",
       "      <td>0.0</td>\n",
       "      <td>-1.119075</td>\n",
       "      <td>0.0</td>\n",
       "      <td>1.0</td>\n",
       "      <td>0.0</td>\n",
       "      <td>0.0</td>\n",
       "      <td>0</td>\n",
       "      <td>0.0</td>\n",
       "      <td>...</td>\n",
       "      <td>0.0</td>\n",
       "      <td>0.0</td>\n",
       "      <td>0.0</td>\n",
       "      <td>0.0</td>\n",
       "      <td>0.0</td>\n",
       "      <td>0.0</td>\n",
       "      <td>1.0</td>\n",
       "      <td>0.0</td>\n",
       "      <td>0</td>\n",
       "      <td>0.8146</td>\n",
       "    </tr>\n",
       "    <tr>\n",
       "      <th>13</th>\n",
       "      <td>-0.750579</td>\n",
       "      <td>0.0</td>\n",
       "      <td>1.0</td>\n",
       "      <td>-0.944147</td>\n",
       "      <td>0.0</td>\n",
       "      <td>0.0</td>\n",
       "      <td>1.0</td>\n",
       "      <td>0.0</td>\n",
       "      <td>0</td>\n",
       "      <td>1.0</td>\n",
       "      <td>...</td>\n",
       "      <td>0.0</td>\n",
       "      <td>0.0</td>\n",
       "      <td>0.0</td>\n",
       "      <td>0.0</td>\n",
       "      <td>0.0</td>\n",
       "      <td>0.0</td>\n",
       "      <td>1.0</td>\n",
       "      <td>0.0</td>\n",
       "      <td>0</td>\n",
       "      <td>0.5715</td>\n",
       "    </tr>\n",
       "    <tr>\n",
       "      <th>17</th>\n",
       "      <td>-0.523362</td>\n",
       "      <td>0.0</td>\n",
       "      <td>0.0</td>\n",
       "      <td>-1.340909</td>\n",
       "      <td>0.0</td>\n",
       "      <td>0.0</td>\n",
       "      <td>1.0</td>\n",
       "      <td>0.0</td>\n",
       "      <td>0</td>\n",
       "      <td>1.0</td>\n",
       "      <td>...</td>\n",
       "      <td>0.0</td>\n",
       "      <td>0.0</td>\n",
       "      <td>0.0</td>\n",
       "      <td>0.0</td>\n",
       "      <td>0.0</td>\n",
       "      <td>1.0</td>\n",
       "      <td>0.0</td>\n",
       "      <td>0.0</td>\n",
       "      <td>0</td>\n",
       "      <td>0.5940</td>\n",
       "    </tr>\n",
       "    <tr>\n",
       "      <th>...</th>\n",
       "      <td>...</td>\n",
       "      <td>...</td>\n",
       "      <td>...</td>\n",
       "      <td>...</td>\n",
       "      <td>...</td>\n",
       "      <td>...</td>\n",
       "      <td>...</td>\n",
       "      <td>...</td>\n",
       "      <td>...</td>\n",
       "      <td>...</td>\n",
       "      <td>...</td>\n",
       "      <td>...</td>\n",
       "      <td>...</td>\n",
       "      <td>...</td>\n",
       "      <td>...</td>\n",
       "      <td>...</td>\n",
       "      <td>...</td>\n",
       "      <td>...</td>\n",
       "      <td>...</td>\n",
       "      <td>...</td>\n",
       "      <td>...</td>\n",
       "    </tr>\n",
       "    <tr>\n",
       "      <th>23506</th>\n",
       "      <td>0.442308</td>\n",
       "      <td>0.0</td>\n",
       "      <td>0.0</td>\n",
       "      <td>0.460561</td>\n",
       "      <td>1.0</td>\n",
       "      <td>0.0</td>\n",
       "      <td>1.0</td>\n",
       "      <td>0.0</td>\n",
       "      <td>0</td>\n",
       "      <td>1.0</td>\n",
       "      <td>...</td>\n",
       "      <td>0.0</td>\n",
       "      <td>0.0</td>\n",
       "      <td>0.0</td>\n",
       "      <td>0.0</td>\n",
       "      <td>1.0</td>\n",
       "      <td>0.0</td>\n",
       "      <td>0.0</td>\n",
       "      <td>0.0</td>\n",
       "      <td>1</td>\n",
       "      <td>0.8465</td>\n",
       "    </tr>\n",
       "    <tr>\n",
       "      <th>23507</th>\n",
       "      <td>1.010350</td>\n",
       "      <td>1.0</td>\n",
       "      <td>0.0</td>\n",
       "      <td>-0.204676</td>\n",
       "      <td>1.0</td>\n",
       "      <td>0.0</td>\n",
       "      <td>1.0</td>\n",
       "      <td>0.0</td>\n",
       "      <td>0</td>\n",
       "      <td>0.0</td>\n",
       "      <td>...</td>\n",
       "      <td>0.0</td>\n",
       "      <td>0.0</td>\n",
       "      <td>0.0</td>\n",
       "      <td>0.0</td>\n",
       "      <td>0.0</td>\n",
       "      <td>1.0</td>\n",
       "      <td>0.0</td>\n",
       "      <td>0.0</td>\n",
       "      <td>1</td>\n",
       "      <td>0.8046</td>\n",
       "    </tr>\n",
       "    <tr>\n",
       "      <th>23509</th>\n",
       "      <td>-0.012125</td>\n",
       "      <td>0.0</td>\n",
       "      <td>0.0</td>\n",
       "      <td>-1.309706</td>\n",
       "      <td>1.0</td>\n",
       "      <td>0.0</td>\n",
       "      <td>1.0</td>\n",
       "      <td>0.0</td>\n",
       "      <td>0</td>\n",
       "      <td>1.0</td>\n",
       "      <td>...</td>\n",
       "      <td>0.0</td>\n",
       "      <td>0.0</td>\n",
       "      <td>0.0</td>\n",
       "      <td>0.0</td>\n",
       "      <td>1.0</td>\n",
       "      <td>0.0</td>\n",
       "      <td>0.0</td>\n",
       "      <td>0.0</td>\n",
       "      <td>1</td>\n",
       "      <td>0.8155</td>\n",
       "    </tr>\n",
       "    <tr>\n",
       "      <th>23513</th>\n",
       "      <td>1.010350</td>\n",
       "      <td>0.0</td>\n",
       "      <td>1.0</td>\n",
       "      <td>3.090395</td>\n",
       "      <td>1.0</td>\n",
       "      <td>0.0</td>\n",
       "      <td>1.0</td>\n",
       "      <td>0.0</td>\n",
       "      <td>0</td>\n",
       "      <td>1.0</td>\n",
       "      <td>...</td>\n",
       "      <td>0.0</td>\n",
       "      <td>0.0</td>\n",
       "      <td>0.0</td>\n",
       "      <td>0.0</td>\n",
       "      <td>0.0</td>\n",
       "      <td>0.0</td>\n",
       "      <td>1.0</td>\n",
       "      <td>0.0</td>\n",
       "      <td>1</td>\n",
       "      <td>0.8803</td>\n",
       "    </tr>\n",
       "    <tr>\n",
       "      <th>23523</th>\n",
       "      <td>0.726329</td>\n",
       "      <td>0.0</td>\n",
       "      <td>1.0</td>\n",
       "      <td>-0.714305</td>\n",
       "      <td>1.0</td>\n",
       "      <td>0.0</td>\n",
       "      <td>0.0</td>\n",
       "      <td>0.0</td>\n",
       "      <td>0</td>\n",
       "      <td>1.0</td>\n",
       "      <td>...</td>\n",
       "      <td>0.0</td>\n",
       "      <td>0.0</td>\n",
       "      <td>0.0</td>\n",
       "      <td>0.0</td>\n",
       "      <td>0.0</td>\n",
       "      <td>0.0</td>\n",
       "      <td>1.0</td>\n",
       "      <td>0.0</td>\n",
       "      <td>1</td>\n",
       "      <td>0.6618</td>\n",
       "    </tr>\n",
       "  </tbody>\n",
       "</table>\n",
       "<p>5500 rows × 56 columns</p>\n",
       "</div>"
      ],
      "text/plain": [
       "            AGE  ALCSTAT  ARTH1       BMI  CHLEV  CIGAREV2  CPLROU  EPHEV  \\\n",
       "9      0.555916      0.0    1.0 -1.930710    1.0       1.0     1.0    0.0   \n",
       "10     0.442308      0.0    0.0 -1.167195    0.0       1.0     1.0    0.0   \n",
       "12    -0.977795      0.0    0.0 -1.119075    0.0       1.0     0.0    0.0   \n",
       "13    -0.750579      0.0    1.0 -0.944147    0.0       0.0     1.0    0.0   \n",
       "17    -0.523362      0.0    0.0 -1.340909    0.0       0.0     1.0    0.0   \n",
       "...         ...      ...    ...       ...    ...       ...     ...    ...   \n",
       "23506  0.442308      0.0    0.0  0.460561    1.0       0.0     1.0    0.0   \n",
       "23507  1.010350      1.0    0.0 -0.204676    1.0       0.0     1.0    0.0   \n",
       "23509 -0.012125      0.0    0.0 -1.309706    1.0       0.0     1.0    0.0   \n",
       "23513  1.010350      0.0    1.0  3.090395    1.0       0.0     1.0    0.0   \n",
       "23523  0.726329      0.0    1.0 -0.714305    1.0       0.0     0.0    0.0   \n",
       "\n",
       "       FSBALANC  GENDER  ...  MRACRPI2_16.0  MRACRPI2_17.0  MRACRPI2_nan  \\\n",
       "9             0     1.0  ...            0.0            0.0           0.0   \n",
       "10            0     0.0  ...            0.0            0.0           0.0   \n",
       "12            0     0.0  ...            0.0            0.0           0.0   \n",
       "13            0     1.0  ...            0.0            0.0           0.0   \n",
       "17            0     1.0  ...            0.0            0.0           0.0   \n",
       "...         ...     ...  ...            ...            ...           ...   \n",
       "23506         0     1.0  ...            0.0            0.0           0.0   \n",
       "23507         0     0.0  ...            0.0            0.0           0.0   \n",
       "23509         0     1.0  ...            0.0            0.0           0.0   \n",
       "23513         0     1.0  ...            0.0            0.0           0.0   \n",
       "23523         0     1.0  ...            0.0            0.0           0.0   \n",
       "\n",
       "       REGION_1.0  REGION_2.0  REGION_3.0  REGION_4.0  REGION_nan  \\\n",
       "9             0.0         1.0         0.0         0.0         0.0   \n",
       "10            0.0         0.0         1.0         0.0         0.0   \n",
       "12            0.0         0.0         0.0         1.0         0.0   \n",
       "13            0.0         0.0         0.0         1.0         0.0   \n",
       "17            0.0         0.0         1.0         0.0         0.0   \n",
       "...           ...         ...         ...         ...         ...   \n",
       "23506         0.0         1.0         0.0         0.0         0.0   \n",
       "23507         0.0         0.0         1.0         0.0         0.0   \n",
       "23509         0.0         1.0         0.0         0.0         0.0   \n",
       "23513         0.0         0.0         0.0         1.0         0.0   \n",
       "23523         0.0         0.0         0.0         1.0         0.0   \n",
       "\n",
       "       prediction_label  prediction_score  \n",
       "9                     1            0.6782  \n",
       "10                    0            0.6610  \n",
       "12                    0            0.8146  \n",
       "13                    0            0.5715  \n",
       "17                    0            0.5940  \n",
       "...                 ...               ...  \n",
       "23506                 1            0.8465  \n",
       "23507                 1            0.8046  \n",
       "23509                 1            0.8155  \n",
       "23513                 1            0.8803  \n",
       "23523                 1            0.6618  \n",
       "\n",
       "[5500 rows x 56 columns]"
      ]
     },
     "execution_count": 37,
     "metadata": {},
     "output_type": "execute_result"
    }
   ],
   "source": [
    "pred"
   ]
  },
  {
   "cell_type": "code",
   "execution_count": 38,
   "id": "13078c60-7caa-4e05-962f-4fafc75d243b",
   "metadata": {
    "tags": []
   },
   "outputs": [
    {
     "name": "stdout",
     "output_type": "stream",
     "text": [
      "              precision    recall  f1-score   support\n",
      "\n",
      "           0       0.77      0.64      0.70      2257\n",
      "           1       0.78      0.87      0.82      3243\n",
      "\n",
      "    accuracy                           0.78      5500\n",
      "   macro avg       0.78      0.76      0.76      5500\n",
      "weighted avg       0.78      0.78      0.77      5500\n",
      "\n"
     ]
    }
   ],
   "source": [
    "# 실제값 과 예측값 비교\n",
    "print(classification_report(udf_9['DIBEV1'],pred['prediction_label']))"
   ]
  },
  {
   "cell_type": "code",
   "execution_count": 39,
   "id": "87ec6f1e-49ea-4088-bbe6-918bbed7da99",
   "metadata": {
    "tags": []
   },
   "outputs": [
    {
     "data": {
      "text/plain": [
       "0.7772263578715192"
      ]
     },
     "execution_count": 39,
     "metadata": {},
     "output_type": "execute_result"
    }
   ],
   "source": [
    "precision_score(udf_9['DIBEV1'],pred['prediction_label'])"
   ]
  },
  {
   "cell_type": "code",
   "execution_count": 40,
   "id": "e18831d9-4809-4f00-b551-9b241f5924b7",
   "metadata": {
    "tags": []
   },
   "outputs": [
    {
     "data": {
      "text/plain": [
       "0.8692568609312366"
      ]
     },
     "execution_count": 40,
     "metadata": {},
     "output_type": "execute_result"
    }
   ],
   "source": [
    "recall_score(udf_9['DIBEV1'],pred['prediction_label'])"
   ]
  },
  {
   "cell_type": "code",
   "execution_count": 41,
   "id": "9c586030-7e1c-4df6-badd-a65af5bbba6b",
   "metadata": {
    "tags": []
   },
   "outputs": [
    {
     "name": "stdout",
     "output_type": "stream",
     "text": [
      "임계값 : 0.57\n",
      "\n",
      "임계값 : 0.57\n",
      "정밀도 : 0.7976226760134105\n",
      "재현율 : 0.8069688559975331\n",
      "f1_score : 0.80226854690374\n",
      "\n",
      "--------------------\n",
      "임계값 : 0.575\n",
      "\n",
      "임계값 : 0.575\n",
      "정밀도 : 0.7996927803379417\n",
      "재현율 : 0.8026518655565834\n",
      "f1_score : 0.8011695906432749\n",
      "\n",
      "--------------------\n",
      "임계값 : 0.58\n",
      "\n",
      "임계값 : 0.58\n",
      "정밀도 : 0.8016759776536313\n",
      "재현율 : 0.7964847363552267\n",
      "f1_score : 0.7990719257540604\n",
      "\n",
      "--------------------\n"
     ]
    }
   ],
   "source": [
    "for j in [0.57,0.575,0.58]:\n",
    "    print(f'임계값 : {j}')\n",
    "    pred = predict_model(final_model,data=udf_9.drop(['id','DIBEV1'],axis=1),verbose=False,probability_threshold=j)\n",
    "    precision = precision_score(udf_9['DIBEV1'],pred['prediction_label'])\n",
    "    recall = recall_score(udf_9['DIBEV1'],pred['prediction_label'])\n",
    "    f1 = f1_score(udf_9['DIBEV1'],pred['prediction_label'])\n",
    "    print(f'''\n",
    "임계값 : {j}\n",
    "정밀도 : {precision}\n",
    "재현율 : {recall}\n",
    "f1_score : {f1}\n",
    "''')\n",
    "    print('--'*10)"
   ]
  },
  {
   "cell_type": "code",
   "execution_count": null,
   "id": "353b57c6-8dd1-46cd-a0da-e3461e50730e",
   "metadata": {},
   "outputs": [],
   "source": []
  }
 ],
 "metadata": {
  "kernelspec": {
   "display_name": "Python 3 (ipykernel)",
   "language": "python",
   "name": "python3"
  },
  "language_info": {
   "codemirror_mode": {
    "name": "ipython",
    "version": 3
   },
   "file_extension": ".py",
   "mimetype": "text/x-python",
   "name": "python",
   "nbconvert_exporter": "python",
   "pygments_lexer": "ipython3",
   "version": "3.10.13"
  }
 },
 "nbformat": 4,
 "nbformat_minor": 5
}
